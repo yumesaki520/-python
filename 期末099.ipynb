{
  "nbformat": 4,
  "nbformat_minor": 0,
  "metadata": {
    "colab": {
      "name": "期末099.ipynb",
      "provenance": [],
      "collapsed_sections": []
    },
    "kernelspec": {
      "name": "python3",
      "display_name": "Python 3"
    },
    "language_info": {
      "name": "python"
    }
  },
  "cells": [
    {
      "cell_type": "code",
      "execution_count": null,
      "metadata": {
        "colab": {
          "base_uri": "https://localhost:8080/"
        },
        "id": "vtZVl6eOpxP_",
        "outputId": "a2f48693-7340-4267-b536-89f2e7f90bf9"
      },
      "outputs": [
        {
          "output_type": "stream",
          "name": "stdout",
          "text": [
            "    January 2022\n",
            "Mo Tu We Th Fr Sa Su\n",
            "                1  2\n",
            " 3  4  5  6  7  8  9\n",
            "10 11 12 13 14 15 16\n",
            "17 18 19 20 21 22 23\n",
            "24 25 26 27 28 29 30\n",
            "31\n",
            "\n"
          ]
        }
      ],
      "source": [
        "import calendar\n",
        "print(calendar.month(2022,1))"
      ]
    },
    {
      "cell_type": "code",
      "source": [
        ""
      ],
      "metadata": {
        "id": "UJvM2xDW8bCH"
      },
      "execution_count": null,
      "outputs": []
    },
    {
      "cell_type": "code",
      "source": [
        ""
      ],
      "metadata": {
        "id": "4mmX0tgO8biC"
      },
      "execution_count": null,
      "outputs": []
    },
    {
      "cell_type": "code",
      "source": [
        ""
      ],
      "metadata": {
        "id": "-Gx3sje98b8c"
      },
      "execution_count": null,
      "outputs": []
    },
    {
      "cell_type": "code",
      "source": [
        ""
      ],
      "metadata": {
        "id": "xtqPDcbr8cX7"
      },
      "execution_count": null,
      "outputs": []
    },
    {
      "cell_type": "code",
      "source": [
        "#資料型態轉換\n",
        "x=\"must\"\n",
        "y=10\n",
        "print(type(y))\n",
        "print(10*x)\n",
        "print(10*y)\n",
        "z=\"10\"\n",
        "print(10*z)\n",
        "print(10*float(z))\n",
        "print(10*str(z))\n",
        "print(10*int(z))\n",
        "print(10*eval(\"5*2\"))"
      ],
      "metadata": {
        "colab": {
          "base_uri": "https://localhost:8080/"
        },
        "id": "Pi9HXslDhTiR",
        "outputId": "f1187ceb-6bb8-41e3-a1ba-16bd691ce38a"
      },
      "execution_count": null,
      "outputs": [
        {
          "output_type": "stream",
          "name": "stdout",
          "text": [
            "<class 'int'>\n",
            "mustmustmustmustmustmustmustmustmustmust\n",
            "100\n",
            "10101010101010101010\n",
            "100.0\n",
            "10101010101010101010\n",
            "100\n",
            "100\n"
          ]
        }
      ]
    },
    {
      "cell_type": "code",
      "source": [
        "#print三種方式\n"
      ],
      "metadata": {
        "id": "ZUnMvQh2yMdk"
      },
      "execution_count": null,
      "outputs": []
    },
    {
      "cell_type": "code",
      "source": [
        ""
      ],
      "metadata": {
        "id": "cbyFncimx8nV"
      },
      "execution_count": null,
      "outputs": []
    },
    {
      "cell_type": "code",
      "source": [
        ""
      ],
      "metadata": {
        "id": "7GkckcCqe2k2"
      },
      "execution_count": null,
      "outputs": []
    },
    {
      "cell_type": "code",
      "source": [
        "x,y,z=3,4,5\n",
        "x=1\n",
        "y*=2\n",
        "z**=3\n",
        "print(x,y,z)"
      ],
      "metadata": {
        "id": "5Eaovv-ee4K9"
      },
      "execution_count": null,
      "outputs": []
    },
    {
      "cell_type": "code",
      "source": [
        "#變數應用\n",
        "#半徑為10的圓形,其面積大小為何?\n",
        "import math\n",
        "r=eval(input(\"請輸入半徑\"))#eval 將數值轉化成數值運算\n",
        "print(r*r*math.pi)\n"
      ],
      "metadata": {
        "colab": {
          "base_uri": "https://localhost:8080/"
        },
        "id": "F7dIRUpiiIkF",
        "outputId": "3af8113e-1387-4a4d-ab87-3a6883102109"
      },
      "execution_count": null,
      "outputs": [
        {
          "output_type": "stream",
          "name": "stdout",
          "text": [
            "314.1592653589793\n"
          ]
        }
      ]
    },
    {
      "cell_type": "code",
      "source": [
        "#python屬於動態類型變數使用前不需要宣告\n",
        "x=254\n",
        "y=254.0\n",
        "z=\"write\"\n",
        "print(type(x))\n",
        "print(type(y))\n",
        "print(type(z))\n",
        "print(type(x==y))\n"
      ],
      "metadata": {
        "colab": {
          "base_uri": "https://localhost:8080/"
        },
        "id": "tPCTD5JJq-4T",
        "outputId": "0d35a5b8-4dac-43d9-dec5-76e399f643f6"
      },
      "execution_count": null,
      "outputs": [
        {
          "output_type": "stream",
          "name": "stdout",
          "text": [
            "<class 'int'>\n",
            "<class 'float'>\n",
            "<class 'str'>\n",
            "<class 'bool'>\n"
          ]
        }
      ]
    },
    {
      "cell_type": "code",
      "source": [
        "#算術符號\n",
        "x=10\n",
        "y=3\n",
        "print(x/y)\n",
        "print(x//y)\n",
        "print(x%y)"
      ],
      "metadata": {
        "id": "oCqNJ5rTtDkB"
      },
      "execution_count": null,
      "outputs": []
    },
    {
      "cell_type": "code",
      "source": [
        "import calendar\n",
        "print(calendar.calendar(2022))"
      ],
      "metadata": {
        "colab": {
          "base_uri": "https://localhost:8080/"
        },
        "id": "dr6bA_yXcXuK",
        "outputId": "7e0e8a6a-d916-4a3f-e004-8d260103be7a"
      },
      "execution_count": null,
      "outputs": [
        {
          "output_type": "stream",
          "name": "stdout",
          "text": [
            "                                  2022\n",
            "\n",
            "      January                   February                   March\n",
            "Mo Tu We Th Fr Sa Su      Mo Tu We Th Fr Sa Su      Mo Tu We Th Fr Sa Su\n",
            "                1  2          1  2  3  4  5  6          1  2  3  4  5  6\n",
            " 3  4  5  6  7  8  9       7  8  9 10 11 12 13       7  8  9 10 11 12 13\n",
            "10 11 12 13 14 15 16      14 15 16 17 18 19 20      14 15 16 17 18 19 20\n",
            "17 18 19 20 21 22 23      21 22 23 24 25 26 27      21 22 23 24 25 26 27\n",
            "24 25 26 27 28 29 30      28                        28 29 30 31\n",
            "31\n",
            "\n",
            "       April                      May                       June\n",
            "Mo Tu We Th Fr Sa Su      Mo Tu We Th Fr Sa Su      Mo Tu We Th Fr Sa Su\n",
            "             1  2  3                         1             1  2  3  4  5\n",
            " 4  5  6  7  8  9 10       2  3  4  5  6  7  8       6  7  8  9 10 11 12\n",
            "11 12 13 14 15 16 17       9 10 11 12 13 14 15      13 14 15 16 17 18 19\n",
            "18 19 20 21 22 23 24      16 17 18 19 20 21 22      20 21 22 23 24 25 26\n",
            "25 26 27 28 29 30         23 24 25 26 27 28 29      27 28 29 30\n",
            "                          30 31\n",
            "\n",
            "        July                     August                  September\n",
            "Mo Tu We Th Fr Sa Su      Mo Tu We Th Fr Sa Su      Mo Tu We Th Fr Sa Su\n",
            "             1  2  3       1  2  3  4  5  6  7                1  2  3  4\n",
            " 4  5  6  7  8  9 10       8  9 10 11 12 13 14       5  6  7  8  9 10 11\n",
            "11 12 13 14 15 16 17      15 16 17 18 19 20 21      12 13 14 15 16 17 18\n",
            "18 19 20 21 22 23 24      22 23 24 25 26 27 28      19 20 21 22 23 24 25\n",
            "25 26 27 28 29 30 31      29 30 31                  26 27 28 29 30\n",
            "\n",
            "      October                   November                  December\n",
            "Mo Tu We Th Fr Sa Su      Mo Tu We Th Fr Sa Su      Mo Tu We Th Fr Sa Su\n",
            "                1  2          1  2  3  4  5  6                1  2  3  4\n",
            " 3  4  5  6  7  8  9       7  8  9 10 11 12 13       5  6  7  8  9 10 11\n",
            "10 11 12 13 14 15 16      14 15 16 17 18 19 20      12 13 14 15 16 17 18\n",
            "17 18 19 20 21 22 23      21 22 23 24 25 26 27      19 20 21 22 23 24 25\n",
            "24 25 26 27 28 29 30      28 29 30                  26 27 28 29 30 31\n",
            "31\n",
            "\n"
          ]
        }
      ]
    },
    {
      "cell_type": "code",
      "source": [
        "import requests\n",
        "a=requests.get(\"http://www.im.must.edu.tw/\")\n",
        "print(a.text)"
      ],
      "metadata": {
        "colab": {
          "base_uri": "https://localhost:8080/"
        },
        "id": "CLeHVCFoeMQb",
        "outputId": "a39fea16-1180-42c7-a2ae-435871b3532b"
      },
      "execution_count": null,
      "outputs": [
        {
          "output_type": "stream",
          "name": "stdout",
          "text": [
            "<!DOCTYPE html>\n",
            "<!-- jsn_teki_pro 3.1.0 -->\n",
            "<html lang=\"en-GB\" dir=\"ltr\">\n",
            "<head>\n",
            "\t\t<base href=\"http://www.im.must.edu.tw/\" />\n",
            "\t<meta http-equiv=\"content-type\" content=\"text/html; charset=utf-8\" />\n",
            "\t<meta name=\"generator\" content=\"XXXXXXXXXXXXXXXXXXXXXXXXXXXXXXXXXXXXXXXX\" />\n",
            "\t<title>明新科大資管系 - 首頁</title>\n",
            "\t<link href=\"/index.php?format=feed&amp;type=rss\" rel=\"alternate\" type=\"application/rss+xml\" title=\"RSS 2.0\" />\n",
            "\t<link href=\"/index.php?format=feed&amp;type=atom\" rel=\"alternate\" type=\"application/atom+xml\" title=\"Atom 1.0\" />\n",
            "\t<link href=\"/images/IM-logo.jpg\" rel=\"shortcut icon\" type=\"image/vnd.microsoft.icon\" />\n",
            "\t<link href=\"/components/com_imageshow/assets/css/style.css\" rel=\"stylesheet\" type=\"text/css\" />\n",
            "\t<link href=\"/media/jui/css/bootstrap.min.css\" rel=\"stylesheet\" type=\"text/css\" />\n",
            "\t<link href=\"/media/jui/css/bootstrap-responsive.min.css\" rel=\"stylesheet\" type=\"text/css\" />\n",
            "\t<link href=\"/media/jui/css/bootstrap-extended.css\" rel=\"stylesheet\" type=\"text/css\" />\n",
            "\t<link href=\"/plugins/system/jsntplframework/assets/3rd-party/bootstrap/css/bootstrap-frontend.min.css\" rel=\"stylesheet\" type=\"text/css\" />\n",
            "\t<link href=\"/plugins/system/jsntplframework/assets/3rd-party/bootstrap/css/bootstrap-responsive-frontend.min.css\" rel=\"stylesheet\" type=\"text/css\" />\n",
            "\t<link href=\"/templates/system/css/system.css\" rel=\"stylesheet\" type=\"text/css\" />\n",
            "\t<link href=\"/templates/system/css/general.css\" rel=\"stylesheet\" type=\"text/css\" />\n",
            "\t<link href=\"/templates/jsn_teki_pro/css/template.css\" rel=\"stylesheet\" type=\"text/css\" />\n",
            "\t<link href=\"/templates/jsn_teki_pro/css/template_pro.css\" rel=\"stylesheet\" type=\"text/css\" />\n",
            "\t<link href=\"/templates/jsn_teki_pro/css/colors/orange.css\" rel=\"stylesheet\" type=\"text/css\" />\n",
            "\t<link href=\"/templates/jsn_teki_pro/css/styles/news.css\" rel=\"stylesheet\" type=\"text/css\" />\n",
            "\t<link href=\"/templates/jsn_teki_pro/css/layouts/jsn_wide.css\" rel=\"stylesheet\" type=\"text/css\" />\n",
            "\t<link href=\"/templates/jsn_teki_pro/css/layouts/jsn_mobile.css\" rel=\"stylesheet\" type=\"text/css\" />\n",
            "\t<link href=\"/templates/jsn_teki_pro/css/font-icons/css/font-awesome.min.css\" rel=\"stylesheet\" type=\"text/css\" />\n",
            "\t<link href=\"/templates/jsn_teki_pro/css/custom.css\" rel=\"stylesheet\" type=\"text/css\" />\n",
            "\t<link href=\"/media/system/css/modal.css\" rel=\"stylesheet\" type=\"text/css\" />\n",
            "\t<link href=\"/plugins/system/jsntplframework/assets/3rd-party/bootstrap3/css/bootstrap.css\" rel=\"stylesheet\" type=\"text/css\" />\n",
            "\t<link href=\"/plugins/system/jsntplframework/assets/joomlashine/css/jsn-megamenu-frontend.css\" rel=\"stylesheet\" type=\"text/css\" />\n",
            "\t<link href=\"/templates/jsn_teki_pro/css/megamenu/jsn_megamenu.css\" rel=\"stylesheet\" type=\"text/css\" />\n",
            "\t<link href=\"/plugins/system/pagebuilder/assets/3rd-party/bootstrap3/css/bootstrap.min.css\" rel=\"stylesheet\" type=\"text/css\" />\n",
            "\t<link href=\"/plugins/system/pagebuilder/assets/css/pagebuilder.css\" rel=\"stylesheet\" type=\"text/css\" />\n",
            "\t<link href=\"/plugins/system/pagebuilder/assets/css/jsn-gui-frontend.css\" rel=\"stylesheet\" type=\"text/css\" />\n",
            "\t<link href=\"/plugins/system/pagebuilder/assets/css/front_end.css\" rel=\"stylesheet\" type=\"text/css\" />\n",
            "\t<link href=\"/plugins/system/pagebuilder/assets/css/front_end_responsive.css\" rel=\"stylesheet\" type=\"text/css\" />\n",
            "\t<link href=\"/plugins/jsnpagebuilder/defaultelements/accordion/assets/css/accordion.css\" rel=\"stylesheet\" type=\"text/css\" />\n",
            "\t<link href=\"/plugins/jsnpagebuilder/defaultelements/carousel/assets/css/carousel.css\" rel=\"stylesheet\" type=\"text/css\" />\n",
            "\t<link href=\"/plugins/jsnpagebuilder/defaultelements/carousel/assets/css/carousel-responsive.css\" rel=\"stylesheet\" type=\"text/css\" />\n",
            "\t<link href=\"/plugins/system/pagebuilder/assets/3rd-party/jquery-fancybox/jquery.fancybox-1.3.4.css\" rel=\"stylesheet\" type=\"text/css\" />\n",
            "\t<link href=\"/plugins/jsnpagebuilder/defaultelements/list/assets/css/list.css\" rel=\"stylesheet\" type=\"text/css\" />\n",
            "\t<link href=\"/plugins/system/pagebuilder/assets/3rd-party/font-awesome/css/font-awesome.min.css\" rel=\"stylesheet\" type=\"text/css\" />\n",
            "\t<link href=\"/plugins/jsnpagebuilder/defaultelements/socialicon/assets/css/socialicon.css\" rel=\"stylesheet\" type=\"text/css\" />\n",
            "\t<link href=\"/plugins/jsnpagebuilder/defaultelements/tab/assets/css/tab.css\" rel=\"stylesheet\" type=\"text/css\" />\n",
            "\t<style type=\"text/css\">\n",
            "\tdiv.jsn-modulecontainer ul.menu-mainmenu ul,\n",
            "\tdiv.jsn-modulecontainer ul.menu-mainmenu ul li {\n",
            "\t\twidth: 200px;\n",
            "\t}\n",
            "\tdiv.jsn-modulecontainer ul.menu-mainmenu ul ul {\n",
            "\t\tmargin-left: 199px;\n",
            "\t}\n",
            "\t#jsn-pos-toolbar div.jsn-modulecontainer ul.menu-mainmenu ul ul {\n",
            "\t\tmargin-right: 199px;\n",
            "\t\tmargin-left : auto\n",
            "\t}\n",
            "\tdiv.jsn-modulecontainer ul.menu-sidemenu ul,\n",
            "\tdiv.jsn-modulecontainer ul.menu-sidemenu ul li {\n",
            "\t\twidth: 200px;\n",
            "\t}\n",
            "\tdiv.jsn-modulecontainer ul.menu-sidemenu li ul {\n",
            "\t\tright: -200px;\n",
            "\t}\n",
            "\tbody.jsn-direction-rtl div.jsn-modulecontainer ul.menu-sidemenu li ul {\n",
            "\t\tleft: -200px;\n",
            "\t\tright: auto;\n",
            "\t}\n",
            "\tdiv.jsn-modulecontainer ul.menu-sidemenu ul ul {\n",
            "\t\tmargin-left: 199px;\n",
            "\t}\n",
            "\t</style>\n",
            "\t<script src=\"/media/jui/js/jquery.min.js\" type=\"text/javascript\"></script>\n",
            "\t<script src=\"/media/jui/js/jquery-noconflict.js\" type=\"text/javascript\"></script>\n",
            "\t<script src=\"/media/jui/js/jquery-migrate.min.js\" type=\"text/javascript\"></script>\n",
            "\t<script src=\"/media/system/js/caption.js\" type=\"text/javascript\"></script>\n",
            "\t<script src=\"/media/system/js/mootools-core.js\" type=\"text/javascript\"></script>\n",
            "\t<script src=\"/media/system/js/core.js\" type=\"text/javascript\"></script>\n",
            "\t<script src=\"/media/system/js/mootools-more.js\" type=\"text/javascript\"></script>\n",
            "\t<script src=\"/plugins/system/jsntplframework/assets/joomlashine/js/noconflict.js\" type=\"text/javascript\"></script>\n",
            "\t<script src=\"/plugins/system/jsntplframework/assets/joomlashine/js/utils.js\" type=\"text/javascript\"></script>\n",
            "\t<script src=\"/templates/jsn_teki_pro/js/jsn_template.js\" type=\"text/javascript\"></script>\n",
            "\t<script src=\"/media/system/js/modal.js\" type=\"text/javascript\"></script>\n",
            "\t<script src=\"/plugins/system/jsntplframework/assets/joomlashine/js/megamenu/megamenu-frontend.js\" type=\"text/javascript\"></script>\n",
            "\t<script src=\"/plugins/system/pagebuilder/assets/js/joomlashine.noconflict.js\" type=\"text/javascript\"></script>\n",
            "\t<script src=\"/plugins/system/pagebuilder/assets/3rd-party/bootstrap3/js/bootstrap.min.js\" type=\"text/javascript\"></script>\n",
            "\t<script src=\"/plugins/system/pagebuilder/assets/3rd-party/jquery-fancybox/jquery.mousewheel-3.0.4.pack.js\" type=\"text/javascript\"></script>\n",
            "\t<script src=\"/plugins/system/pagebuilder/assets/3rd-party/jquery-fancybox/jquery.fancybox-1.3.4.js\" type=\"text/javascript\"></script>\n",
            "\t<script src=\"/plugins/jsnpagebuilder/defaultelements/image/assets/jquery-lazyload/jquery.lazyload.js\" type=\"text/javascript\"></script>\n",
            "\t<script src=\"/plugins/jsnpagebuilder/defaultelements/image/assets/js/image.js\" type=\"text/javascript\"></script>\n",
            "\t<script src=\"/plugins/jsnpagebuilder/defaultelements/socialicon/assets/js/socialicon.js\" type=\"text/javascript\"></script>\n",
            "\t<script type=\"text/javascript\">\n",
            "jQuery(window).on('load',  function() {\n",
            "\t\t\t\tnew JCaption('img.caption');\n",
            "\t\t\t});\r\n",
            "\t\t\t\tJSNTemplate.initTemplate({\n",
            "\t\t\t\t\ttemplatePrefix\t\t\t: \"jsn_teki_pro_\",\n",
            "\t\t\t\t\ttemplatePath\t\t\t: \"/templates/jsn_teki_pro\",\n",
            "\t\t\t\t\tenableRTL\t\t\t\t: 0,\n",
            "\t\t\t\t\tenableGotopLink\t\t\t: 1,\n",
            "\t\t\t\t\tenableMobile\t\t\t: 1,\n",
            "\t\t\t\t\tenableMobileMenuSticky\t: 1,\n",
            "\t\t\t\t\tenableDesktopMenuSticky\t: 1,\n",
            "\t\t\t\t\tresponsiveLayout\t\t: [\"mobile\",\"wide\"],\n",
            "\t\t\t\t\tmobileMenuEffect\t\t: \"slide-left\"\n",
            "\t\t\t\t});\n",
            "\t\t\t\r\n",
            "\t\tjQuery(function($) {\n",
            "\t\t\tSqueezeBox.initialize({});\n",
            "\t\t\tSqueezeBox.assign($('a.modal').get(), {\n",
            "\t\t\t\tparse: 'rel'\n",
            "\t\t\t});\n",
            "\t\t});\n",
            "\n",
            "\t\twindow.jModalClose = function () {\n",
            "\t\t\tSqueezeBox.close();\n",
            "\t\t};\n",
            "\t\t\n",
            "\t\t// Add extra modal close functionality for tinyMCE-based editors\n",
            "\t\tdocument.onreadystatechange = function () {\n",
            "\t\t\tif (document.readyState == 'interactive' && typeof tinyMCE != 'undefined' && tinyMCE)\n",
            "\t\t\t{\n",
            "\t\t\t\tif (typeof window.jModalClose_no_tinyMCE === 'undefined')\n",
            "\t\t\t\t{\t\n",
            "\t\t\t\t\twindow.jModalClose_no_tinyMCE = typeof(jModalClose) == 'function'  ?  jModalClose  :  false;\n",
            "\t\t\t\t\t\n",
            "\t\t\t\t\tjModalClose = function () {\n",
            "\t\t\t\t\t\tif (window.jModalClose_no_tinyMCE) window.jModalClose_no_tinyMCE.apply(this, arguments);\n",
            "\t\t\t\t\t\ttinyMCE.activeEditor.windowManager.close();\n",
            "\t\t\t\t\t};\n",
            "\t\t\t\t}\n",
            "\t\t\n",
            "\t\t\t\tif (typeof window.SqueezeBoxClose_no_tinyMCE === 'undefined')\n",
            "\t\t\t\t{\n",
            "\t\t\t\t\tif (typeof(SqueezeBox) == 'undefined')  SqueezeBox = {};\n",
            "\t\t\t\t\twindow.SqueezeBoxClose_no_tinyMCE = typeof(SqueezeBox.close) == 'function'  ?  SqueezeBox.close  :  false;\n",
            "\t\t\n",
            "\t\t\t\t\tSqueezeBox.close = function () {\n",
            "\t\t\t\t\t\tif (window.SqueezeBoxClose_no_tinyMCE)  window.SqueezeBoxClose_no_tinyMCE.apply(this, arguments);\n",
            "\t\t\t\t\t\ttinyMCE.activeEditor.windowManager.close();\n",
            "\t\t\t\t\t};\n",
            "\t\t\t\t}\n",
            "\t\t\t}\n",
            "\t\t};\n",
            "\t\t\rif (typeof jQuery != 'undefined' && typeof MooTools != 'undefined' ) {\n",
            "\t\t\t\t\t\t\t\t\t\t    Element.implement({\n",
            "\t\t\t\t\t\t\t\t\t\t        slide: function(how, mode){\n",
            "\t\t\t\t\t\t\t\t\t\t            return this;\n",
            "\t\t\t\t\t\t\t\t\t\t        }\n",
            "\t\t\t\t\t\t\t\t\t\t    });\n",
            "\n",
            "\t\t\t\t\t\t\t\t\t\t}\n",
            "\t</script>\n",
            "\t<meta name=\"viewport\" content=\"width=device-width, initial-scale=1.0, maximum-scale=2.0\" />\n",
            "\n",
            "\t<!-- html5.js and respond.min.js for IE less than 9 -->\n",
            "\t<!--[if lt IE 9]>\n",
            "\t\t<script src=\"http://html5shim.googlecode.com/svn/trunk/html5.js\"></script>\n",
            "\t\t<script src=\"/plugins/system/jsntplframework/assets/3rd-party/respond/respond.min.js\"></script>\n",
            "\t<![endif]-->\n",
            "\t<script charset=\"UTF-8\" type=\"text/javascript\" src=\"http://webs.must.edu.tw/pagecount/showpage.php?page=must_B_im&show=no\"></script>\n",
            "<!-- Global site tag (gtag.js) - Google Analytics -->\n",
            "<script async src=\"https://www.googletagmanager.com/gtag/js?id=UA-147738938-3\"></script>\n",
            "<script>\n",
            "  window.dataLayer = window.dataLayer || [];\n",
            "  function gtag(){dataLayer.push(arguments);}\n",
            "  gtag('js', new Date());\n",
            "  gtag('config', 'UA-147738938-3');\n",
            "</script>\n",
            "<script async src=\"https://www.googletagmanager.com/gtag/js?id=UA-131310035-1\"></script>\n",
            "<script>\n",
            "  window.dataLayer = window.dataLayer || [];\n",
            "  function gtag(){dataLayer.push(arguments);}\n",
            "  gtag('js', new Date());\n",
            "  gtag('config', 'UA-131310035-1');\n",
            "</script>\n",
            "<script src=\"/plugins/system/pagebuilder/assets/3rd-party/scrollreveal/scrollReveal.js\" type=\"text/javascript\"></script>\n",
            "<script type=\"text/javascript\">\r\n",
            "\n",
            "\t\t\t\t\t(function($) {\n",
            "\t\t\t\t\t var revealObjects  = null;\n",
            "                        $(document).ready(function() {\n",
            "                            if($('[data-scroll-reveal]').length) {\n",
            "                                if (!revealObjects) {\n",
            "                                    revealObjects = new scrollReveal({\n",
            "                                            reset: true\n",
            "                                        });\n",
            "                                }\n",
            "                            }\n",
            "                        });\n",
            "                    })(jQuery);\n",
            "                            </script>\n",
            "<style>\r#carousel_uNwtWi .item{\n",
            "\t\t\twidth: 100% !important;\n",
            "\t\t\tmargin: 0;\n",
            "\t\t}\r#carousel_LJo0pz .item{\n",
            "\t\t\twidth: 100% !important;\n",
            "\t\t\tmargin: 0;\n",
            "\t\t}\r#carousel_i5HmNC .item{\n",
            "\t\t\twidth: 100% !important;\n",
            "\t\t\tmargin: 0;\n",
            "\t\t}</style></head>\n",
            "<body id=\"jsn-master\" class=\"jsn-textstyle-news jsn-color-orange jsn-direction-ltr jsn-responsive jsn-mobile jsn-joomla-30  jsn-com-content jsn-view-category jsn-itemid-2294 jsn-homepage\">\n",
            "\t<a id=\"top\"></a>\n",
            "\t\t<div id=\"jsn-page\">\n",
            "\t\t\t<div id=\"jsn-header\"><div id=\"jsn-header_inner\">\n",
            "\t\t\t<div id=\"jsn-logo\" class=\"pull-left\">\n",
            "\t\t\t<a href=\"http://webc2.must.edu.tw/jtmust009/index.php\" title=\"IM\"><img src=\"/images/jsn_is_thumbs/images/IM-logo1100315.png\" alt=\"IM\" id=\"jsn-logo-desktop\" /></a>\t\t\t</div>\n",
            "\t\t\t<div id=\"jsn-headerright\" class=\"pull-right\">\n",
            "\t\t\t\t\t\t\t<div id=\"jsn-pos-top\" class=\"pull-left\">\n",
            "\t\t\t\t\t<div class=\" jsn-modulecontainer\"><div class=\"jsn-modulecontainer_inner\"><div class=\"jsn-modulecontent\"><span  class=\"jsn-menu-toggle\"><i class=\"fa fa-navicon\"></i></span>\n",
            "<ul class=\"menu-topmenu menu-iconmenu\">\n",
            "\t<li class=\"jsn-menu-mobile-control\"><span class=\"close-menu\"><i class=\"fa fa-times\"></i></span></li> \n",
            "\t<li  class=\"first jsn-icon-home\">\t\t<a class=\" clearfix\" href=\"http://www.must.edu.tw\" target=\"_blank\" >\n",
            "\t\t\t<i class=\"jsn-icon-home\"></i>\t\t\t<span>\n",
            "\t\t\t<span class=\"jsn-menutitle\">明新首頁</span>\t\t\t</span>\n",
            "\t\t</a>\n",
            "</li><li  class=\"jsn-icon-star\">\t\t<a class=\" clearfix\" href=\"https://reurl.cc/44bVkL\" target=\"_blank\" >\n",
            "\t\t\t<i class=\"jsn-icon-star\"></i>\t\t\t<span>\n",
            "\t\t\t<span class=\"jsn-menutitle\">2022一日明新商管體驗營</span>\t\t\t</span>\n",
            "\t\t</a>\n",
            "</li><li  class=\"jsn-icon-online\">\t\t<a class=\" clearfix\" href=\"http://icmsi.must.edu.tw/\" target=\"_blank\" >\n",
            "\t\t\t<i class=\"jsn-icon-online\"></i>\t\t\t<span>\n",
            "\t\t\t<span class=\"jsn-menutitle\">2022管理與服務創新國際學術研討會</span>\t\t\t</span>\n",
            "\t\t</a>\n",
            "</li><li  class=\"last jsn-icon-cart\">\t\t<a class=\" clearfix\" href=\"http://webe2.must.edu.tw/jtmust009/\" target=\"_blank\" >\n",
            "\t\t\t<i class=\"jsn-icon-cart\"></i>\t\t\t<span>\n",
            "\t\t\t<span class=\"jsn-menutitle\">English</span>\t\t\t</span>\n",
            "\t\t</a>\n",
            "</li></ul><div class=\"clearbreak\"></div></div></div></div>\n",
            "\t\t\t\t\t<div class=\"clearbreak\"></div>\n",
            "\t\t\t\t</div>\n",
            "\t\t\t\t\t\t</div>\n",
            "\t\t\t<div class=\"clearbreak\"></div>\n",
            "\t\t\t\t\t<div id=\"jsn-menu\">\n",
            "\t\t\t                <div id=\"jsn-pos-mainmenu\" class=\"jsn-hasMegamenu\">  \n",
            "                \t<div class=\" jsn-modulecontainer\"><div class=\"jsn-modulecontainer_inner\"><div class=\"jsn-modulecontent\"><span id=\"jsn-menu-toggle-parent\" class=\"jsn-menu-toggle\"><i class=\"fa fa-navicon\"></i></span>\n",
            "<ul class=\"menu-mainmenu menu-iconmenu\">\n",
            "\t<li class=\"jsn-menu-mobile-control\"><span class=\"close-menu\"><i class=\"fa fa-times\"></i></span></li> \n",
            "\t<li  class=\"current active first jsn-icon-home\"><a class=\"current clearfix\" href=\"/index.php\" >\n",
            "\t <i class=\"jsn-icon-home \"></i>\t<span>\n",
            "\t\t<span class=\"jsn-menutitle\">首頁</span>\t</span>\n",
            "</a></li><li  class=\"jsn-icon-rss\"><a class=\"clearfix\" href=\"/index.php/2020-03-27-01-31-36\" >\n",
            "\t <i class=\"jsn-icon-rss \"></i>\t<span>\n",
            "\t\t<span class=\"jsn-menutitle\">最新消息</span>\t</span>\n",
            "</a></li><li  class=\"parent jsn-icon-help\"><a class=\"clearfix\" href=\"/index.php/2019-08-20-06-20-38\" >\n",
            "\t <i class=\"jsn-icon-help \"></i>\t<span>\n",
            "\t\t<span class=\"jsn-menutitle\">簡介</span>\t</span>\n",
            "</a><span class=\"jsn-menu-toggle\"></span><ul><li  class=\"first\"><a class=\"clearfix\" href=\"/index.php/2019-08-20-06-20-38/2020-08-18-05-17-37\" >\n",
            "\t\t<span>\n",
            "\t\t<span class=\"jsn-menutitle\">系簡介&影片</span>\t</span>\n",
            "</a></li><li  class=\"parent\"><a class=\"clearfix\" href=\"/index.php/2019-08-20-06-20-38/2019-08-21-03-09-40\" >\n",
            "\t\t<span>\n",
            "\t\t<span class=\"jsn-menutitle\">特色</span>\t</span>\n",
            "</a><span class=\"jsn-menu-toggle\"></span><ul><li  class=\"first\"><a class=\"clearfix\" href=\"/index.php/2019-08-20-06-20-38/2019-08-21-03-09-40/2019-08-21-03-14-25\" >\n",
            "\t\t<span>\n",
            "\t\t<span class=\"jsn-menutitle\">課程模組</span>\t</span>\n",
            "</a></li><li  class=\"\"><a class=\"clearfix\" href=\"/index.php/2019-08-20-06-20-38/2019-08-21-03-09-40/2019-08-21-03-32-53\" >\n",
            "\t\t<span>\n",
            "\t\t<span class=\"jsn-menutitle\">證照</span>\t</span>\n",
            "</a></li><li  class=\"last\"><a class=\"clearfix\" href=\"/index.php/2019-08-20-06-20-38/2019-08-21-03-09-40/2019-08-21-03-42-52\" >\n",
            "\t\t<span>\n",
            "\t\t<span class=\"jsn-menutitle\">校外實習</span>\t</span>\n",
            "</a></li></ul></li><li  class=\"\"><a class=\"clearfix\" href=\"/index.php/2019-08-20-06-20-38/2019-08-20-09-44-46\" >\n",
            "\t\t<span>\n",
            "\t\t<span class=\"jsn-menutitle\">專業實驗室</span>\t</span>\n",
            "</a></li><li  class=\"\"><a class=\"clearfix\" href=\"/index.php/2019-08-20-06-20-38/2020-01-07-02-38-44\" >\n",
            "\t\t<span>\n",
            "\t\t<span class=\"jsn-menutitle\">系所空間</span>\t</span>\n",
            "</a></li><li  class=\"\"><a class=\"clearfix\" href=\"/index.php/2019-08-20-06-20-38/2019-08-20-10-07-05\" >\n",
            "\t\t<span>\n",
            "\t\t<span class=\"jsn-menutitle\">系所位置圖</span>\t</span>\n",
            "</a></li><li  class=\"last\">\t\t<a class=\" clearfix\" href=\"https://www.facebook.com/MustIMSA\" target=\"_blank\" >\n",
            "\t\t\t\t\t\t<span>\n",
            "\t\t\t<span class=\"jsn-menutitle\">系學會FB</span>\t\t\t</span>\n",
            "\t\t</a>\n",
            "</li></ul></li><li  class=\"jsn-icon-info\"><a class=\"clearfix\" href=\"/index.php/2019-08-20-09-08-26\" >\n",
            "\t <i class=\"jsn-icon-info \"></i>\t<span>\n",
            "\t\t<span class=\"jsn-menutitle\">沿革</span>\t</span>\n",
            "</a></li><li  class=\"jsn-icon-search\"><a class=\"clearfix\" href=\"/index.php/2019-08-21-03-00-08\" >\n",
            "\t <i class=\"jsn-icon-search \"></i>\t<span>\n",
            "\t\t<span class=\"jsn-menutitle\">目標</span>\t</span>\n",
            "</a></li><li  class=\"parent jsn-icon-star\"><a class=\"clearfix\" href=\"/index.php/2019-08-21-08-19-27\" >\n",
            "\t <i class=\"jsn-icon-star \"></i>\t<span>\n",
            "\t\t<span class=\"jsn-menutitle\">招生</span>\t</span>\n",
            "</a><span class=\"jsn-menu-toggle\"></span><ul><li  class=\"first\"><a class=\"clearfix\" href=\"/index.php/2019-08-21-08-19-27/2020-04-16-06-09-08\" >\n",
            "\t\t<span>\n",
            "\t\t<span class=\"jsn-menutitle\">簡介</span>\t</span>\n",
            "</a></li><li  class=\"\"><a class=\"clearfix\" href=\"/index.php/2019-08-21-08-19-27/2020-03-17-09-30-44\" >\n",
            "\t\t<span>\n",
            "\t\t<span class=\"jsn-menutitle\">系簡介&影片</span>\t</span>\n",
            "</a></li><li  class=\"\">\t\t<a class=\" clearfix\" href=\"https://docs.google.com/forms/d/1pX78kIr-ign8iXNnTh0meYS4o9pv2m3mUxo91JS-MkQ/edit?usp=sharing\" target=\"_blank\" >\n",
            "\t\t\t\t\t\t<span>\n",
            "\t\t\t<span class=\"jsn-menutitle\">各學制就讀意願表</span>\t\t\t</span>\n",
            "\t\t</a>\n",
            "</li><li  class=\"\"><a class=\"clearfix\" href=\"/index.php/2019-08-21-08-19-27/2019-08-21-09-25-07\" >\n",
            "\t\t<span>\n",
            "\t\t<span class=\"jsn-menutitle\">研究所</span>\t</span>\n",
            "</a></li><li  class=\"\"><a class=\"clearfix\" href=\"/index.php/2019-08-21-08-19-27/2019-08-21-08-50-44\" >\n",
            "\t\t<span>\n",
            "\t\t<span class=\"jsn-menutitle\">日間部四技</span>\t</span>\n",
            "</a></li><li  class=\"\"><a class=\"clearfix\" href=\"/index.php/2019-08-21-08-19-27/2019-08-21-09-00-07\" >\n",
            "\t\t<span>\n",
            "\t\t<span class=\"jsn-menutitle\">進修部四技(晚上上課)</span>\t</span>\n",
            "</a></li><li  class=\"\"><a class=\"clearfix\" href=\"/index.php/2019-08-21-08-19-27/2019-08-22-01-28-44\" >\n",
            "\t\t<span>\n",
            "\t\t<span class=\"jsn-menutitle\">進修部二專(四二輪，白天上課)</span>\t</span>\n",
            "</a></li><li  class=\"\"><a class=\"clearfix\" href=\"/index.php/2019-08-21-08-19-27/2020-01-16-07-59-43\" >\n",
            "\t\t<span>\n",
            "\t\t<span class=\"jsn-menutitle\">進修部二技(四二輪，白天上課)</span>\t</span>\n",
            "</a></li><li  class=\"\"><a class=\"clearfix\" href=\"/index.php/2019-08-21-08-19-27/2019-08-21-09-09-41\" >\n",
            "\t\t<span>\n",
            "\t\t<span class=\"jsn-menutitle\">轉學考</span>\t</span>\n",
            "</a></li><li  class=\"\">\t\t<a class=\" clearfix\" href=\"http://webc2.must.edu.tw/jtmust037/index.php/editions-a-pricing/2017-03-03-02-18-00\" target=\"_blank\" >\n",
            "\t\t\t\t\t\t<span>\n",
            "\t\t\t<span class=\"jsn-menutitle\">日間部獎助學金</span>\t\t\t</span>\n",
            "\t\t</a>\n",
            "</li><li  class=\"\">\t\t<a class=\" clearfix\" href=\"http://webc2.must.edu.tw/jtmust036/index.php/advanced-stuff/2017-03-27-20-14-18\" target=\"_blank\" >\n",
            "\t\t\t\t\t\t<span>\n",
            "\t\t\t<span class=\"jsn-menutitle\">進修部獎助學金</span>\t\t\t</span>\n",
            "\t\t</a>\n",
            "</li><li  class=\"last\">\t\t<a class=\" clearfix\" href=\"https://www.must.edu.tw/about/admissions.html\" target=\"_blank\" >\n",
            "\t\t\t\t\t\t<span>\n",
            "\t\t\t<span class=\"jsn-menutitle\">本校招生專區</span>\t\t\t</span>\n",
            "\t\t</a>\n",
            "</li></ul></li><li  class=\"parent jsn-icon-user\"><a class=\"clearfix\" href=\"/index.php/2019-08-21-05-14-40\" >\n",
            "\t <i class=\"jsn-icon-user \"></i>\t<span>\n",
            "\t\t<span class=\"jsn-menutitle\">師資</span>\t</span>\n",
            "</a><span class=\"jsn-menu-toggle\"></span><ul><li  class=\"first\"><a class=\"clearfix\" href=\"/index.php/2019-08-21-05-14-40/2019-08-21-05-15-41\" >\n",
            "\t\t<span>\n",
            "\t\t<span class=\"jsn-menutitle\">系主任</span>\t</span>\n",
            "</a></li><li  class=\"parent\"><a class=\"clearfix\" href=\"/index.php/2019-08-21-05-14-40/2019-08-21-06-41-56\" >\n",
            "\t\t<span>\n",
            "\t\t<span class=\"jsn-menutitle\">副教授</span>\t</span>\n",
            "</a><span class=\"jsn-menu-toggle\"></span><ul><li  class=\"first\"><a class=\"clearfix\" href=\"/index.php/2019-08-21-05-14-40/2019-08-21-06-41-56/2019-12-18-01-26-24\" >\n",
            "\t\t<span>\n",
            "\t\t<span class=\"jsn-menutitle\">葉慈章</span>\t</span>\n",
            "</a></li><li  class=\"\"><a class=\"clearfix\" href=\"/index.php/2019-08-21-05-14-40/2019-08-21-06-41-56/2019-12-18-03-11-16\" >\n",
            "\t\t<span>\n",
            "\t\t<span class=\"jsn-menutitle\">帥嘉珍</span>\t</span>\n",
            "</a></li><li  class=\"\"><a class=\"clearfix\" href=\"/index.php/2019-08-21-05-14-40/2019-08-21-06-41-56/2019-12-18-01-56-04\" >\n",
            "\t\t<span>\n",
            "\t\t<span class=\"jsn-menutitle\">應大中</span>\t</span>\n",
            "</a></li><li  class=\"\"><a class=\"clearfix\" href=\"/index.php/2019-08-21-05-14-40/2019-08-21-06-41-56/2019-12-18-04-15-31\" >\n",
            "\t\t<span>\n",
            "\t\t<span class=\"jsn-menutitle\">陳玉專</span>\t</span>\n",
            "</a></li><li  class=\"\"><a class=\"clearfix\" href=\"/index.php/2019-08-21-05-14-40/2019-08-21-06-41-56/2019-12-18-04-52-17\" >\n",
            "\t\t<span>\n",
            "\t\t<span class=\"jsn-menutitle\">李政穎</span>\t</span>\n",
            "</a></li><li  class=\"last\"><a class=\"clearfix\" href=\"/index.php/2019-08-21-05-14-40/2019-08-21-06-41-56/2022-02-18-02-00-51\" >\n",
            "\t\t<span>\n",
            "\t\t<span class=\"jsn-menutitle\">唐瑞霞</span>\t</span>\n",
            "</a></li></ul></li><li  class=\"parent\"><a class=\"clearfix\" href=\"/index.php/2019-08-21-05-14-40/2019-08-21-06-43-12\" >\n",
            "\t\t<span>\n",
            "\t\t<span class=\"jsn-menutitle\">助理教授</span>\t</span>\n",
            "</a><span class=\"jsn-menu-toggle\"></span><ul><li  class=\"first\"><a class=\"clearfix\" href=\"/index.php/2019-08-21-05-14-40/2019-08-21-06-43-12/2019-12-18-05-50-05\" >\n",
            "\t\t<span>\n",
            "\t\t<span class=\"jsn-menutitle\">邱川峰</span>\t</span>\n",
            "</a></li><li  class=\"\"><a class=\"clearfix\" href=\"/index.php/2019-08-21-05-14-40/2019-08-21-06-43-12/2019-12-20-02-54-55\" >\n",
            "\t\t<span>\n",
            "\t\t<span class=\"jsn-menutitle\">詹森仁</span>\t</span>\n",
            "</a></li><li  class=\"\"><a class=\"clearfix\" href=\"/index.php/2019-08-21-05-14-40/2019-08-21-06-43-12/2019-12-27-05-30-04\" >\n",
            "\t\t<span>\n",
            "\t\t<span class=\"jsn-menutitle\">許俊萍</span>\t</span>\n",
            "</a></li><li  class=\"\"><a class=\"clearfix\" href=\"/index.php/2019-08-21-05-14-40/2019-08-21-06-43-12/2019-12-27-08-00-58\" >\n",
            "\t\t<span>\n",
            "\t\t<span class=\"jsn-menutitle\">李佩君</span>\t</span>\n",
            "</a></li><li  class=\"\"><a class=\"clearfix\" href=\"/index.php/2019-08-21-05-14-40/2019-08-21-06-43-12/2019-12-27-08-22-07\" >\n",
            "\t\t<span>\n",
            "\t\t<span class=\"jsn-menutitle\">黃夙賢</span>\t</span>\n",
            "</a></li><li  class=\"\"><a class=\"clearfix\" href=\"/index.php/2019-08-21-05-14-40/2019-08-21-06-43-12/2019-12-27-08-36-48\" >\n",
            "\t\t<span>\n",
            "\t\t<span class=\"jsn-menutitle\">陳建志</span>\t</span>\n",
            "</a></li><li  class=\"\"><a class=\"clearfix\" href=\"/index.php/2019-08-21-05-14-40/2019-08-21-06-43-12/2019-12-27-08-37-35\" >\n",
            "\t\t<span>\n",
            "\t\t<span class=\"jsn-menutitle\">葛廷斌</span>\t</span>\n",
            "</a></li><li  class=\"\"><a class=\"clearfix\" href=\"/index.php/2019-08-21-05-14-40/2019-08-21-06-43-12/2019-12-27-08-38-20\" >\n",
            "\t\t<span>\n",
            "\t\t<span class=\"jsn-menutitle\">鄭姍姍</span>\t</span>\n",
            "</a></li><li  class=\"\"><a class=\"clearfix\" href=\"/index.php/2019-08-21-05-14-40/2019-08-21-06-43-12/2019-12-27-08-39-39\" >\n",
            "\t\t<span>\n",
            "\t\t<span class=\"jsn-menutitle\">彭美惠</span>\t</span>\n",
            "</a></li><li  class=\"last\"><a class=\"clearfix\" href=\"/index.php/2019-08-21-05-14-40/2019-08-21-06-43-12/2019-12-27-08-39-00\" >\n",
            "\t\t<span>\n",
            "\t\t<span class=\"jsn-menutitle\">賴彥如</span>\t</span>\n",
            "</a></li></ul></li><li  class=\"parent\"><a class=\"clearfix\" href=\"/index.php/2019-08-21-05-14-40/2019-08-21-06-43-56\" >\n",
            "\t\t<span>\n",
            "\t\t<span class=\"jsn-menutitle\">講師</span>\t</span>\n",
            "</a><span class=\"jsn-menu-toggle\"></span><ul><li  class=\"first\"><a class=\"clearfix\" href=\"/index.php/2019-08-21-05-14-40/2019-08-21-06-43-56/2019-12-31-03-15-29\" >\n",
            "\t\t<span>\n",
            "\t\t<span class=\"jsn-menutitle\">陳以裕</span>\t</span>\n",
            "</a></li><li  class=\"last\"><a class=\"clearfix\" href=\"/index.php/2019-08-21-05-14-40/2019-08-21-06-43-56/2019-12-31-03-16-56\" >\n",
            "\t\t<span>\n",
            "\t\t<span class=\"jsn-menutitle\">張東文</span>\t</span>\n",
            "</a></li></ul></li><li  class=\"\"><a class=\"clearfix\" href=\"/index.php/2019-08-21-05-14-40/2020-02-06-01-50-26\" >\n",
            "\t\t<span>\n",
            "\t\t<span class=\"jsn-menutitle\">系教官</span>\t</span>\n",
            "</a></li><li  class=\"last\"><a class=\"clearfix\" href=\"/index.php/2019-08-21-05-14-40/2019-08-21-06-44-32\" >\n",
            "\t\t<span>\n",
            "\t\t<span class=\"jsn-menutitle\">行政助理</span>\t</span>\n",
            "</a></li></ul></li><li  class=\"parent jsn-icon-selection\"><a class=\"clearfix\" href=\"/index.php/2019-08-22-01-52-30\" >\n",
            "\t <i class=\"jsn-icon-selection \"></i>\t<span>\n",
            "\t\t<span class=\"jsn-menutitle\">課程</span>\t</span>\n",
            "</a><span class=\"jsn-menu-toggle\"></span><ul><li  class=\"parent first\"><a class=\"clearfix\" href=\"/index.php/2019-08-22-01-52-30/2019-08-22-02-22-24\" >\n",
            "\t\t<span>\n",
            "\t\t<span class=\"jsn-menutitle\">修業辦法</span>\t</span>\n",
            "</a><span class=\"jsn-menu-toggle\"></span><ul><li  class=\"first last\"><a class=\"clearfix\" href=\"/index.php/2019-08-22-01-52-30/2019-08-22-02-22-24/2019-08-22-02-45-15\" >\n",
            "\t\t<span>\n",
            "\t\t<span class=\"jsn-menutitle\">輔系、預研生甄選</span>\t</span>\n",
            "</a></li></ul></li><li  class=\"parent\"><a class=\"clearfix\" href=\"/index.php/2019-08-22-01-52-30/2019-08-22-03-02-35\" >\n",
            "\t\t<span>\n",
            "\t\t<span class=\"jsn-menutitle\">課程規劃</span>\t</span>\n",
            "</a><span class=\"jsn-menu-toggle\"></span><ul><li  class=\"first\"><a class=\"clearfix\" href=\"/index.php/2019-08-22-01-52-30/2019-08-22-03-02-35/2019-08-22-03-05-42\" >\n",
            "\t\t<span>\n",
            "\t\t<span class=\"jsn-menutitle\">研究所全學程開課時序表</span>\t</span>\n",
            "</a></li><li  class=\"\"><a class=\"clearfix\" href=\"/index.php/2019-08-22-01-52-30/2019-08-22-03-02-35/2019-08-22-03-07-33\" >\n",
            "\t\t<span>\n",
            "\t\t<span class=\"jsn-menutitle\">日間部全學程開課時序表</span>\t</span>\n",
            "</a></li><li  class=\"\"><a class=\"clearfix\" href=\"/index.php/2019-08-22-01-52-30/2019-08-22-03-02-35/2019-08-22-03-08-32\" >\n",
            "\t\t<span>\n",
            "\t\t<span class=\"jsn-menutitle\">進修部全學程開課時序表</span>\t</span>\n",
            "</a></li><li  class=\"\"><a class=\"clearfix\" href=\"/index.php/2019-08-22-01-52-30/2019-08-22-03-02-35/2019-08-22-03-12-05\" >\n",
            "\t\t<span>\n",
            "\t\t<span class=\"jsn-menutitle\">進修部二專/二技(四二輪)全學程開課時序表</span>\t</span>\n",
            "</a></li><li  class=\"last\"><a class=\"clearfix\" href=\"/index.php/2019-08-22-01-52-30/2019-08-22-03-02-35/2019-08-22-03-12-55\" >\n",
            "\t\t<span>\n",
            "\t\t<span class=\"jsn-menutitle\">學程資訊</span>\t</span>\n",
            "</a></li></ul></li><li  class=\"\"><a class=\"clearfix\" href=\"/index.php/2019-08-22-01-52-30/2019-08-22-03-39-02\" >\n",
            "\t\t<span>\n",
            "\t\t<span class=\"jsn-menutitle\">選課教學大綱</span>\t</span>\n",
            "</a></li><li  class=\"parent\"><a class=\"clearfix\" href=\"/index.php/2019-08-22-01-52-30/2019-08-22-04-13-47\" >\n",
            "\t\t<span>\n",
            "\t\t<span class=\"jsn-menutitle\">證照資訊及畢業門檻</span>\t</span>\n",
            "</a><span class=\"jsn-menu-toggle\"></span><ul><li  class=\"first\"><a class=\"clearfix\" href=\"/index.php/2019-08-22-01-52-30/2019-08-22-04-13-47/2019-08-22-05-32-44\" >\n",
            "\t\t<span>\n",
            "\t\t<span class=\"jsn-menutitle\">學生申請證照獎勵及畢業門檻系統</span>\t</span>\n",
            "</a></li><li  class=\"\"><a class=\"clearfix\" href=\"/index.php/2019-08-22-01-52-30/2019-08-22-04-13-47/2019-08-22-05-42-30\" >\n",
            "\t\t<span>\n",
            "\t\t<span class=\"jsn-menutitle\">專業能力證照畢業門檻</span>\t</span>\n",
            "</a></li><li  class=\"\"><a class=\"clearfix\" href=\"/index.php/2019-08-22-01-52-30/2019-08-22-04-13-47/2019-08-22-05-44-43\" >\n",
            "\t\t<span>\n",
            "\t\t<span class=\"jsn-menutitle\">資訊能力畢業門檻</span>\t</span>\n",
            "</a></li><li  class=\"\"><a class=\"clearfix\" href=\"/index.php/2019-08-22-01-52-30/2019-08-22-04-13-47/2019-08-22-05-46-48\" >\n",
            "\t\t<span>\n",
            "\t\t<span class=\"jsn-menutitle\">證照相關文章</span>\t</span>\n",
            "</a></li><li  class=\"last\"><a class=\"clearfix\" href=\"/index.php/2019-08-22-01-52-30/2019-08-22-04-13-47/ite-94-96\" >\n",
            "\t\t<span>\n",
            "\t\t<span class=\"jsn-menutitle\">ITE證照合作(94~96學年度)</span>\t</span>\n",
            "</a></li></ul></li><li  class=\"\"><a class=\"clearfix\" href=\"/index.php/2019-08-22-01-52-30/2019-08-22-06-32-52\" >\n",
            "\t\t<span>\n",
            "\t\t<span class=\"jsn-menutitle\">專題相關文件</span>\t</span>\n",
            "</a></li><li  class=\"parent\"><a class=\"clearfix\" href=\"/index.php/2019-08-22-01-52-30/2019-11-05-09-57-42\" >\n",
            "\t\t<span>\n",
            "\t\t<span class=\"jsn-menutitle\">碩士學位考試申請流程</span>\t</span>\n",
            "</a><span class=\"jsn-menu-toggle\"></span><ul><li  class=\"first\"><a class=\"clearfix\" href=\"/index.php/2019-08-22-01-52-30/2019-11-05-09-57-42/2019-11-05-10-00-13\" >\n",
            "\t\t<span>\n",
            "\t\t<span class=\"jsn-menutitle\">相關法規</span>\t</span>\n",
            "</a></li><li  class=\"last\"><a class=\"clearfix\" href=\"/index.php/2019-08-22-01-52-30/2019-11-05-09-57-42/2019-11-05-10-01-07\" >\n",
            "\t\t<span>\n",
            "\t\t<span class=\"jsn-menutitle\">相關表格</span>\t</span>\n",
            "</a></li></ul></li><li  class=\"\">\t\t<a class=\" clearfix\" href=\"https://cloud.ncl.edu.tw/must/\" target=\"_blank\" >\n",
            "\t\t\t\t\t\t<span>\n",
            "\t\t\t<span class=\"jsn-menutitle\">學校碩士論文系統</span>\t\t\t</span>\n",
            "\t\t</a>\n",
            "</li><li  class=\"last\">\t\t<a class=\" clearfix\" href=\"https://ethics.moe.edu.tw/\" target=\"_blank\" >\n",
            "\t\t\t\t\t\t<span>\n",
            "\t\t\t<span class=\"jsn-menutitle\">臺灣學術倫理教育資源中心(研究所)</span>\t\t\t</span>\n",
            "\t\t</a>\n",
            "</li></ul></li><li  class=\"parent jsn-icon-article\"><a class=\"clearfix\" href=\"/index.php/2020-01-08-08-51-31\" >\n",
            "\t <i class=\"jsn-icon-article \"></i>\t<span>\n",
            "\t\t<span class=\"jsn-menutitle\">實習</span>\t</span>\n",
            "</a><span class=\"jsn-menu-toggle\"></span><ul><li  class=\"first\"><a class=\"clearfix\" href=\"/index.php/2020-01-08-08-51-31/2019-10-08-05-55-22\" >\n",
            "\t\t<span>\n",
            "\t\t<span class=\"jsn-menutitle\">為何要實習</span>\t</span>\n",
            "</a></li><li  class=\"\"><a class=\" clearfix\" href=\"/index.php/2020-01-08-08-51-31/ic\" target=\"_blank\" >\n",
            "\t\t<span>\n",
            "\t\t<span class=\"jsn-menutitle\">實習輔導(IC之音採訪)</span>\t</span>\n",
            "</a></li><li  class=\"\"><a class=\"clearfix\" href=\"/index.php/2020-01-08-08-51-31/2019-10-08-06-02-17\" >\n",
            "\t\t<span>\n",
            "\t\t<span class=\"jsn-menutitle\">實習辦法</span>\t</span>\n",
            "</a></li><li  class=\"\"><a class=\"clearfix\" href=\"/index.php/2020-01-08-08-51-31/2019-10-08-06-18-05\" >\n",
            "\t\t<span>\n",
            "\t\t<span class=\"jsn-menutitle\">實習表單</span>\t</span>\n",
            "</a></li><li  class=\"last\"><a class=\"clearfix\" href=\"/index.php/2020-01-08-08-51-31/2019-10-08-06-27-08\" >\n",
            "\t\t<span>\n",
            "\t\t<span class=\"jsn-menutitle\">實習心得分享</span>\t</span>\n",
            "</a></li></ul></li><li  class=\"jsn-icon-display\"><a class=\"clearfix\" href=\"/index.php/2020-02-06-01-40-46\" >\n",
            "\t <i class=\"jsn-icon-display \"></i>\t<span>\n",
            "\t\t<span class=\"jsn-menutitle\">設備</span>\t</span>\n",
            "</a></li><li  class=\"parent jsn-icon-statistics\"><a class=\"clearfix\" href=\"/index.php/2020-08-18-03-42-34\" >\n",
            "\t <i class=\"jsn-icon-statistics \"></i>\t<span>\n",
            "\t\t<span class=\"jsn-menutitle\">校友</span>\t</span>\n",
            "</a><span class=\"jsn-menu-toggle\"></span><ul><li  class=\"first\"><a class=\"clearfix\" href=\"/index.php/2020-08-18-03-42-34/2020-08-18-03-49-36\" >\n",
            "\t\t<span>\n",
            "\t\t<span class=\"jsn-menutitle\">校友升學</span>\t</span>\n",
            "</a></li><li  class=\"\">\t\t<a class=\" clearfix\" href=\"https://www.facebook.com/%E6%98%8E%E6%96%B0%E8%B3%87%E7%AE%A1%E7%B3%BB%E5%8F%8B%E6%9C%83-801436546865738/\" target=\"_blank\" >\n",
            "\t\t\t\t\t\t<span>\n",
            "\t\t\t<span class=\"jsn-menutitle\">系友會FB</span>\t\t\t</span>\n",
            "\t\t</a>\n",
            "</li><li  class=\"last\"><a class=\"clearfix\" href=\"/index.php/2020-08-18-03-42-34/2019-12-17-08-48-25\" >\n",
            "\t\t<span>\n",
            "\t\t<span class=\"jsn-menutitle\">系友活動</span>\t</span>\n",
            "</a></li></ul></li><li  class=\"parent jsn-icon-folder\"><a class=\"clearfix\" href=\"/index.php/2019-08-22-07-01-30\" >\n",
            "\t <i class=\"jsn-icon-folder \"></i>\t<span>\n",
            "\t\t<span class=\"jsn-menutitle\">成果</span>\t</span>\n",
            "</a><span class=\"jsn-menu-toggle\"></span><ul><li  class=\"first\"><a class=\"clearfix\" href=\"/index.php/2019-08-22-07-01-30/2019-08-22-07-05-05\" >\n",
            "\t\t<span>\n",
            "\t\t<span class=\"jsn-menutitle\">榮譽榜</span>\t</span>\n",
            "</a></li><li  class=\"\"><a class=\"clearfix\" href=\"/index.php/2019-08-22-07-01-30/2019-08-22-07-47-27\" >\n",
            "\t\t<span>\n",
            "\t\t<span class=\"jsn-menutitle\">政府部門計畫</span>\t</span>\n",
            "</a></li><li  class=\"\"><a class=\"clearfix\" href=\"/index.php/2019-08-22-07-01-30/2019-08-22-07-46-29\" >\n",
            "\t\t<span>\n",
            "\t\t<span class=\"jsn-menutitle\">產學合作計畫</span>\t</span>\n",
            "</a></li><li  class=\"\"><a class=\"clearfix\" href=\"/index.php/2019-08-22-07-01-30/2019-08-22-07-50-23\" >\n",
            "\t\t<span>\n",
            "\t\t<span class=\"jsn-menutitle\">校內計畫</span>\t</span>\n",
            "</a></li><li  class=\"\"><a class=\"clearfix\" href=\"/index.php/2019-08-22-07-01-30/2019-08-22-07-52-06\" >\n",
            "\t\t<span>\n",
            "\t\t<span class=\"jsn-menutitle\">其他計畫</span>\t</span>\n",
            "</a></li><li  class=\"parent last\"><a class=\"clearfix\" href=\"/index.php/2019-08-22-07-01-30/2019-08-22-08-25-16\" >\n",
            "\t\t<span>\n",
            "\t\t<span class=\"jsn-menutitle\">系上活動</span>\t</span>\n",
            "</a><span class=\"jsn-menu-toggle\"></span><ul><li  class=\"parent first last\"><a class=\"clearfix\" href=\"/index.php/2019-08-22-07-01-30/2019-08-22-08-25-16/2020-01-08-03-54-58\" >\n",
            "\t\t<span>\n",
            "\t\t<span class=\"jsn-menutitle\">書報討論</span>\t</span>\n",
            "</a><span class=\"jsn-menu-toggle\"></span><ul><li  class=\"first\"><a class=\"clearfix\" href=\"/index.php/2019-08-22-07-01-30/2019-08-22-08-25-16/2020-01-08-03-54-58/110-1\" >\n",
            "\t\t<span>\n",
            "\t\t<span class=\"jsn-menutitle\">110-1</span>\t</span>\n",
            "</a></li><li  class=\"\"><a class=\"clearfix\" href=\"/index.php/2019-08-22-07-01-30/2019-08-22-08-25-16/2020-01-08-03-54-58/109-1\" >\n",
            "\t\t<span>\n",
            "\t\t<span class=\"jsn-menutitle\">109-1</span>\t</span>\n",
            "</a></li><li  class=\"\"><a class=\"clearfix\" href=\"/index.php/2019-08-22-07-01-30/2019-08-22-08-25-16/2020-01-08-03-54-58/108-1\" >\n",
            "\t\t<span>\n",
            "\t\t<span class=\"jsn-menutitle\">108-1</span>\t</span>\n",
            "</a></li><li  class=\"\"><a class=\"clearfix\" href=\"/index.php/2019-08-22-07-01-30/2019-08-22-08-25-16/2020-01-08-03-54-58/107-1\" >\n",
            "\t\t<span>\n",
            "\t\t<span class=\"jsn-menutitle\">107-1</span>\t</span>\n",
            "</a></li><li  class=\"\"><a class=\"clearfix\" href=\"/index.php/2019-08-22-07-01-30/2019-08-22-08-25-16/2020-01-08-03-54-58/106-2\" >\n",
            "\t\t<span>\n",
            "\t\t<span class=\"jsn-menutitle\">106-2</span>\t</span>\n",
            "</a></li><li  class=\"\"><a class=\"clearfix\" href=\"/index.php/2019-08-22-07-01-30/2019-08-22-08-25-16/2020-01-08-03-54-58/106-1\" >\n",
            "\t\t<span>\n",
            "\t\t<span class=\"jsn-menutitle\">106-1</span>\t</span>\n",
            "</a></li><li  class=\"\"><a class=\"clearfix\" href=\"/index.php/2019-08-22-07-01-30/2019-08-22-08-25-16/2020-01-08-03-54-58/105-1\" >\n",
            "\t\t<span>\n",
            "\t\t<span class=\"jsn-menutitle\">105-1</span>\t</span>\n",
            "</a></li><li  class=\"\"><a class=\"clearfix\" href=\"/index.php/2019-08-22-07-01-30/2019-08-22-08-25-16/2020-01-08-03-54-58/104-2\" >\n",
            "\t\t<span>\n",
            "\t\t<span class=\"jsn-menutitle\">104-2</span>\t</span>\n",
            "</a></li><li  class=\"last\"><a class=\"clearfix\" href=\"/index.php/2019-08-22-07-01-30/2019-08-22-08-25-16/2020-01-08-03-54-58/2019-10-14-09-45-04\" >\n",
            "\t\t<span>\n",
            "\t\t<span class=\"jsn-menutitle\">104-1</span>\t</span>\n",
            "</a></li></ul></li><li  class=\"parent last\"><a class=\"clearfix\" href=\"/index.php/2019-08-22-07-01-30/2019-08-22-08-25-16/2020-01-08-04-04-34\" >\n",
            "\t\t<span>\n",
            "\t\t<span class=\"jsn-menutitle\">證照講座</span>\t</span>\n",
            "</a><span class=\"jsn-menu-toggle\"></span><ul><li  class=\"first\"><a class=\"clearfix\" href=\"/index.php/2019-08-22-07-01-30/2019-08-22-08-25-16/2020-01-08-04-04-34/108-1-1\" >\n",
            "\t\t<span>\n",
            "\t\t<span class=\"jsn-menutitle\">108-1</span>\t</span>\n",
            "</a></li><li  class=\"\"><a class=\"clearfix\" href=\"/index.php/2019-08-22-07-01-30/2019-08-22-08-25-16/2020-01-08-04-04-34/107-1-1\" >\n",
            "\t\t<span>\n",
            "\t\t<span class=\"jsn-menutitle\">107-1</span>\t</span>\n",
            "</a></li><li  class=\"\"><a class=\"clearfix\" href=\"/index.php/2019-08-22-07-01-30/2019-08-22-08-25-16/2020-01-08-04-04-34/106-1-1\" >\n",
            "\t\t<span>\n",
            "\t\t<span class=\"jsn-menutitle\">106-1</span>\t</span>\n",
            "</a></li><li  class=\"\"><a class=\"clearfix\" href=\"/index.php/2019-08-22-07-01-30/2019-08-22-08-25-16/2020-01-08-04-04-34/105-1-1\" >\n",
            "\t\t<span>\n",
            "\t\t<span class=\"jsn-menutitle\">105-1</span>\t</span>\n",
            "</a></li><li  class=\"last\"><a class=\"clearfix\" href=\"/index.php/2019-08-22-07-01-30/2019-08-22-08-25-16/2020-01-08-04-04-34/104-2-1\" >\n",
            "\t\t<span>\n",
            "\t\t<span class=\"jsn-menutitle\">104-2</span>\t</span>\n",
            "</a></li></ul></li></ul></li></ul></li></ul><div class=\"clearbreak\"></div></div></div></div>  \n",
            "                    <div class=\"jsn-modulecontainer jsn-megamenu jsn-tpl-bootstrap3\"><div class=\"jsn-modulecontainer_inner\"><div class=\"jsn-modulecontent\"><span class=\"jsn-menu-toggle\">Menu</span><ul class=\"jsn-tpl-megamenu menu-mainmenu jsn-hasIcon\" id=\"jsn-tpl-megamenu\"><li class=\"item-2294 current active first\"><a class=\"current clearfix\" href=\"/index.php\" ><i class=\"jsn-icon-home\"></i><span data-title=\"首頁\"><span class=\"jsn-menutitle\">首頁</span></span></a></li><li class=\"item-2449\"><a class=\"clearfix\" href=\"/index.php/2020-03-27-01-31-36\" ><i class=\"jsn-icon-rss\"></i><span data-title=\"最新消息\"><span class=\"jsn-menutitle\">最新消息</span></span></a></li><li class=\"item-435 parent\"><a class=\"clearfix\" href=\"/index.php/2019-08-20-06-20-38\" ><i class=\"jsn-icon-help\"></i><span data-title=\"簡介\"><span class=\"jsn-menutitle\">簡介</span></span></a><ul class=\"nav-child unstyled small sub-menu\"><li class=\"item-2456 first\"><a class=\"clearfix\" href=\"/index.php/2019-08-20-06-20-38/2020-08-18-05-17-37\" ><span data-title=\"系簡介&影片\"><span class=\"jsn-menutitle\">系簡介&影片</span></span></a></li><li class=\"item-2312 parent\"><a class=\"clearfix\" href=\"/index.php/2019-08-20-06-20-38/2019-08-21-03-09-40\" ><span data-title=\"特色\"><span class=\"jsn-menutitle\">特色</span></span></a><ul class=\"nav-child unstyled small sub-menu\"><li class=\"item-2313 first\"><a class=\"clearfix\" href=\"/index.php/2019-08-20-06-20-38/2019-08-21-03-09-40/2019-08-21-03-14-25\" ><span data-title=\"課程模組\"><span class=\"jsn-menutitle\">課程模組</span></span></a></li><li class=\"item-2314\"><a class=\"clearfix\" href=\"/index.php/2019-08-20-06-20-38/2019-08-21-03-09-40/2019-08-21-03-32-53\" ><span data-title=\"證照\"><span class=\"jsn-menutitle\">證照</span></span></a></li><li class=\"item-2315 last\"><a class=\"clearfix\" href=\"/index.php/2019-08-20-06-20-38/2019-08-21-03-09-40/2019-08-21-03-42-52\" ><span data-title=\"校外實習\"><span class=\"jsn-menutitle\">校外實習</span></span></a></li></ul></li><li class=\"item-2289\"><a class=\"clearfix\" href=\"/index.php/2019-08-20-06-20-38/2019-08-20-09-44-46\" ><span data-title=\"專業實驗室\"><span class=\"jsn-menutitle\">專業實驗室</span></span></a></li><li class=\"item-2438\"><a class=\"clearfix\" href=\"/index.php/2019-08-20-06-20-38/2020-01-07-02-38-44\" ><span data-title=\"系所空間\"><span class=\"jsn-menutitle\">系所空間</span></span></a></li><li class=\"item-2303\"><a class=\"clearfix\" href=\"/index.php/2019-08-20-06-20-38/2019-08-20-10-07-05\" ><span data-title=\"系所位置圖\"><span class=\"jsn-menutitle\">系所位置圖</span></span></a></li><li class=\"item-2450 last\"><a class=\"clearfix\" href=\"https://www.facebook.com/MustIMSA\" target=\"_blank\" ><span data-title=\"系學會FB\"><span class=\"jsn-menutitle\">系學會FB</span></span></a></li></ul></li><li class=\"item-2308\"><a class=\"clearfix\" href=\"/index.php/2019-08-20-09-08-26\" ><i class=\"jsn-icon-info\"></i><span data-title=\"沿革\"><span class=\"jsn-menutitle\">沿革</span></span></a></li><li class=\"item-2311\"><a class=\"clearfix\" href=\"/index.php/2019-08-21-03-00-08\" ><i class=\"jsn-icon-search\"></i><span data-title=\"目標\"><span class=\"jsn-menutitle\">目標</span></span></a></li><li class=\"item-2317 parent\"><a class=\"clearfix\" href=\"/index.php/2019-08-21-08-19-27\" ><i class=\"jsn-icon-star\"></i><span data-title=\"招生\"><span class=\"jsn-menutitle\">招生</span></span></a><ul class=\"nav-child unstyled small sub-menu\"><li class=\"item-2452 first\"><a class=\"clearfix\" href=\"/index.php/2019-08-21-08-19-27/2020-04-16-06-09-08\" ><span data-title=\"簡介\"><span class=\"jsn-menutitle\">簡介</span></span></a></li><li class=\"item-2448\"><a class=\"clearfix\" href=\"/index.php/2019-08-21-08-19-27/2020-03-17-09-30-44\" ><span data-title=\"系簡介&影片\"><span class=\"jsn-menutitle\">系簡介&影片</span></span></a></li><li class=\"item-2372\"><a class=\"clearfix\" href=\"https://docs.google.com/forms/d/1pX78kIr-ign8iXNnTh0meYS4o9pv2m3mUxo91JS-MkQ/edit?usp=sharing\" target=\"_blank\" ><span data-title=\"各學制就讀意願表\"><span class=\"jsn-menutitle\">各學制就讀意願表</span></span></a></li><li class=\"item-2323\"><a class=\"clearfix\" href=\"/index.php/2019-08-21-08-19-27/2019-08-21-09-25-07\" ><span data-title=\"研究所\"><span class=\"jsn-menutitle\">研究所</span></span></a></li><li class=\"item-2320\"><a class=\"clearfix\" href=\"/index.php/2019-08-21-08-19-27/2019-08-21-08-50-44\" ><span data-title=\"日間部四技\"><span class=\"jsn-menutitle\">日間部四技</span></span></a></li><li class=\"item-2321\"><a class=\"clearfix\" href=\"/index.php/2019-08-21-08-19-27/2019-08-21-09-00-07\" ><span data-title=\"進修部四技(晚上上課)\"><span class=\"jsn-menutitle\">進修部四技(晚上上課)</span></span></a></li><li class=\"item-2324\"><a class=\"clearfix\" href=\"/index.php/2019-08-21-08-19-27/2019-08-22-01-28-44\" ><span data-title=\"進修部二專(四二輪，白天上課)\"><span class=\"jsn-menutitle\">進修部二專(四二輪，白天上課)</span></span></a></li><li class=\"item-2443\"><a class=\"clearfix\" href=\"/index.php/2019-08-21-08-19-27/2020-01-16-07-59-43\" ><span data-title=\"進修部二技(四二輪，白天上課)\"><span class=\"jsn-menutitle\">進修部二技(四二輪，白天上課)</span></span></a></li><li class=\"item-2322\"><a class=\"clearfix\" href=\"/index.php/2019-08-21-08-19-27/2019-08-21-09-09-41\" ><span data-title=\"轉學考\"><span class=\"jsn-menutitle\">轉學考</span></span></a></li><li class=\"item-2326\"><a class=\"clearfix\" href=\"http://webc2.must.edu.tw/jtmust037/index.php/editions-a-pricing/2017-03-03-02-18-00\" target=\"_blank\" ><span data-title=\"日間部獎助學金\"><span class=\"jsn-menutitle\">日間部獎助學金</span></span></a></li><li class=\"item-2327\"><a class=\"clearfix\" href=\"http://webc2.must.edu.tw/jtmust036/index.php/advanced-stuff/2017-03-27-20-14-18\" target=\"_blank\" ><span data-title=\"進修部獎助學金\"><span class=\"jsn-menutitle\">進修部獎助學金</span></span></a></li><li class=\"item-2329 last\"><a class=\"clearfix\" href=\"https://www.must.edu.tw/about/admissions.html\" target=\"_blank\" ><span data-title=\"本校招生專區\"><span class=\"jsn-menutitle\">本校招生專區</span></span></a></li></ul></li><li class=\"item-2267 parent\"><a class=\"clearfix\" href=\"/index.php/2019-08-21-05-14-40\" ><i class=\"jsn-icon-user\"></i><span data-title=\"師資\"><span class=\"jsn-menutitle\">師資</span></span></a><ul class=\"nav-child unstyled small sub-menu\"><li class=\"item-2268 first\"><a class=\"clearfix\" href=\"/index.php/2019-08-21-05-14-40/2019-08-21-05-15-41\" ><span data-title=\"系主任\"><span class=\"jsn-menutitle\">系主任</span></span></a></li><li class=\"item-484 parent\"><a class=\"clearfix\" href=\"/index.php/2019-08-21-05-14-40/2019-08-21-06-41-56\" ><span data-title=\"副教授\"><span class=\"jsn-menutitle\">副教授</span></span></a><ul class=\"nav-child unstyled small sub-menu\"><li class=\"item-2418 first\"><a class=\"clearfix\" href=\"/index.php/2019-08-21-05-14-40/2019-08-21-06-41-56/2019-12-18-01-26-24\" ><span data-title=\"葉慈章\"><span class=\"jsn-menutitle\">葉慈章</span></span></a></li><li class=\"item-2420\"><a class=\"clearfix\" href=\"/index.php/2019-08-21-05-14-40/2019-08-21-06-41-56/2019-12-18-03-11-16\" ><span data-title=\"帥嘉珍\"><span class=\"jsn-menutitle\">帥嘉珍</span></span></a></li><li class=\"item-2419\"><a class=\"clearfix\" href=\"/index.php/2019-08-21-05-14-40/2019-08-21-06-41-56/2019-12-18-01-56-04\" ><span data-title=\"應大中\"><span class=\"jsn-menutitle\">應大中</span></span></a></li><li class=\"item-2421\"><a class=\"clearfix\" href=\"/index.php/2019-08-21-05-14-40/2019-08-21-06-41-56/2019-12-18-04-15-31\" ><span data-title=\"陳玉專\"><span class=\"jsn-menutitle\">陳玉專</span></span></a></li><li class=\"item-2422\"><a class=\"clearfix\" href=\"/index.php/2019-08-21-05-14-40/2019-08-21-06-41-56/2019-12-18-04-52-17\" ><span data-title=\"李政穎\"><span class=\"jsn-menutitle\">李政穎</span></span></a></li><li class=\"item-2461 last\"><a class=\"clearfix\" href=\"/index.php/2019-08-21-05-14-40/2019-08-21-06-41-56/2022-02-18-02-00-51\" ><span data-title=\"唐瑞霞\"><span class=\"jsn-menutitle\">唐瑞霞</span></span></a></li></ul></li><li class=\"item-2295 parent\"><a class=\"clearfix\" href=\"/index.php/2019-08-21-05-14-40/2019-08-21-06-43-12\" ><span data-title=\"助理教授\"><span class=\"jsn-menutitle\">助理教授</span></span></a><ul class=\"nav-child unstyled small sub-menu\"><li class=\"item-2424 first\"><a class=\"clearfix\" href=\"/index.php/2019-08-21-05-14-40/2019-08-21-06-43-12/2019-12-18-05-50-05\" ><span data-title=\"邱川峰\"><span class=\"jsn-menutitle\">邱川峰</span></span></a></li><li class=\"item-2425\"><a class=\"clearfix\" href=\"/index.php/2019-08-21-05-14-40/2019-08-21-06-43-12/2019-12-20-02-54-55\" ><span data-title=\"詹森仁\"><span class=\"jsn-menutitle\">詹森仁</span></span></a></li><li class=\"item-2426\"><a class=\"clearfix\" href=\"/index.php/2019-08-21-05-14-40/2019-08-21-06-43-12/2019-12-27-05-30-04\" ><span data-title=\"許俊萍\"><span class=\"jsn-menutitle\">許俊萍</span></span></a></li><li class=\"item-2427\"><a class=\"clearfix\" href=\"/index.php/2019-08-21-05-14-40/2019-08-21-06-43-12/2019-12-27-08-00-58\" ><span data-title=\"李佩君\"><span class=\"jsn-menutitle\">李佩君</span></span></a></li><li class=\"item-2428\"><a class=\"clearfix\" href=\"/index.php/2019-08-21-05-14-40/2019-08-21-06-43-12/2019-12-27-08-22-07\" ><span data-title=\"黃夙賢\"><span class=\"jsn-menutitle\">黃夙賢</span></span></a></li><li class=\"item-2429\"><a class=\"clearfix\" href=\"/index.php/2019-08-21-05-14-40/2019-08-21-06-43-12/2019-12-27-08-36-48\" ><span data-title=\"陳建志\"><span class=\"jsn-menutitle\">陳建志</span></span></a></li><li class=\"item-2430\"><a class=\"clearfix\" href=\"/index.php/2019-08-21-05-14-40/2019-08-21-06-43-12/2019-12-27-08-37-35\" ><span data-title=\"葛廷斌\"><span class=\"jsn-menutitle\">葛廷斌</span></span></a></li><li class=\"item-2431\"><a class=\"clearfix\" href=\"/index.php/2019-08-21-05-14-40/2019-08-21-06-43-12/2019-12-27-08-38-20\" ><span data-title=\"鄭姍姍\"><span class=\"jsn-menutitle\">鄭姍姍</span></span></a></li><li class=\"item-2433\"><a class=\"clearfix\" href=\"/index.php/2019-08-21-05-14-40/2019-08-21-06-43-12/2019-12-27-08-39-39\" ><span data-title=\"彭美惠\"><span class=\"jsn-menutitle\">彭美惠</span></span></a></li><li class=\"item-2432 last\"><a class=\"clearfix\" href=\"/index.php/2019-08-21-05-14-40/2019-08-21-06-43-12/2019-12-27-08-39-00\" ><span data-title=\"賴彥如\"><span class=\"jsn-menutitle\">賴彥如</span></span></a></li></ul></li><li class=\"item-2296 parent\"><a class=\"clearfix\" href=\"/index.php/2019-08-21-05-14-40/2019-08-21-06-43-56\" ><span data-title=\"講師\"><span class=\"jsn-menutitle\">講師</span></span></a><ul class=\"nav-child unstyled small sub-menu\"><li class=\"item-2435 first\"><a class=\"clearfix\" href=\"/index.php/2019-08-21-05-14-40/2019-08-21-06-43-56/2019-12-31-03-15-29\" ><span data-title=\"陳以裕\"><span class=\"jsn-menutitle\">陳以裕</span></span></a></li><li class=\"item-2437 last\"><a class=\"clearfix\" href=\"/index.php/2019-08-21-05-14-40/2019-08-21-06-43-56/2019-12-31-03-16-56\" ><span data-title=\"張東文\"><span class=\"jsn-menutitle\">張東文</span></span></a></li></ul></li><li class=\"item-2446\"><a class=\"clearfix\" href=\"/index.php/2019-08-21-05-14-40/2020-02-06-01-50-26\" ><span data-title=\"系教官\"><span class=\"jsn-menutitle\">系教官</span></span></a></li><li class=\"item-2297 last\"><a class=\"clearfix\" href=\"/index.php/2019-08-21-05-14-40/2019-08-21-06-44-32\" ><span data-title=\"行政助理\"><span class=\"jsn-menutitle\">行政助理</span></span></a></li></ul></li><li class=\"item-2330 parent\"><a class=\"clearfix\" href=\"/index.php/2019-08-22-01-52-30\" ><i class=\"jsn-icon-selection\"></i><span data-title=\"課程\"><span class=\"jsn-menutitle\">課程</span></span></a><ul class=\"nav-child unstyled small sub-menu\"><li class=\"item-2331 parent first\"><a class=\"clearfix\" href=\"/index.php/2019-08-22-01-52-30/2019-08-22-02-22-24\" ><span data-title=\"修業辦法\"><span class=\"jsn-menutitle\">修業辦法</span></span></a><ul class=\"nav-child unstyled small sub-menu\"><li class=\"item-2336 last first\"><a class=\"clearfix\" href=\"/index.php/2019-08-22-01-52-30/2019-08-22-02-22-24/2019-08-22-02-45-15\" ><span data-title=\"輔系、預研生甄選\"><span class=\"jsn-menutitle\">輔系、預研生甄選</span></span></a></li></ul></li><li class=\"item-2337 parent\"><a class=\"clearfix\" href=\"/index.php/2019-08-22-01-52-30/2019-08-22-03-02-35\" ><span data-title=\"課程規劃\"><span class=\"jsn-menutitle\">課程規劃</span></span></a><ul class=\"nav-child unstyled small sub-menu\"><li class=\"item-2338 first\"><a class=\"clearfix\" href=\"/index.php/2019-08-22-01-52-30/2019-08-22-03-02-35/2019-08-22-03-05-42\" ><span data-title=\"研究所全學程開課時序表\"><span class=\"jsn-menutitle\">研究所全學程開課時序表</span></span></a></li><li class=\"item-2339\"><a class=\"clearfix\" href=\"/index.php/2019-08-22-01-52-30/2019-08-22-03-02-35/2019-08-22-03-07-33\" ><span data-title=\"日間部全學程開課時序表\"><span class=\"jsn-menutitle\">日間部全學程開課時序表</span></span></a></li><li class=\"item-2340\"><a class=\"clearfix\" href=\"/index.php/2019-08-22-01-52-30/2019-08-22-03-02-35/2019-08-22-03-08-32\" ><span data-title=\"進修部全學程開課時序表\"><span class=\"jsn-menutitle\">進修部全學程開課時序表</span></span></a></li><li class=\"item-2341\"><a class=\"clearfix\" href=\"/index.php/2019-08-22-01-52-30/2019-08-22-03-02-35/2019-08-22-03-12-05\" ><span data-title=\"進修部二專/二技(四二輪)全學程開課時序表\"><span class=\"jsn-menutitle\">進修部二專/二技(四二輪)全學程開課時序表</span></span></a></li><li class=\"item-2342 last\"><a class=\"clearfix\" href=\"/index.php/2019-08-22-01-52-30/2019-08-22-03-02-35/2019-08-22-03-12-55\" ><span data-title=\"學程資訊\"><span class=\"jsn-menutitle\">學程資訊</span></span></a></li></ul></li><li class=\"item-2344\"><a class=\"clearfix\" href=\"/index.php/2019-08-22-01-52-30/2019-08-22-03-39-02\" ><span data-title=\"選課教學大綱\"><span class=\"jsn-menutitle\">選課教學大綱</span></span></a></li><li class=\"item-2347 parent\"><a class=\"clearfix\" href=\"/index.php/2019-08-22-01-52-30/2019-08-22-04-13-47\" ><span data-title=\"證照資訊及畢業門檻\"><span class=\"jsn-menutitle\">證照資訊及畢業門檻</span></span></a><ul class=\"nav-child unstyled small sub-menu\"><li class=\"item-2348 first\"><a class=\"clearfix\" href=\"/index.php/2019-08-22-01-52-30/2019-08-22-04-13-47/2019-08-22-05-32-44\" ><span data-title=\"學生申請證照獎勵及畢業門檻系統\"><span class=\"jsn-menutitle\">學生申請證照獎勵及畢業門檻系統</span></span></a></li><li class=\"item-2349\"><a class=\"clearfix\" href=\"/index.php/2019-08-22-01-52-30/2019-08-22-04-13-47/2019-08-22-05-42-30\" ><span data-title=\"專業能力證照畢業門檻\"><span class=\"jsn-menutitle\">專業能力證照畢業門檻</span></span></a></li><li class=\"item-2350\"><a class=\"clearfix\" href=\"/index.php/2019-08-22-01-52-30/2019-08-22-04-13-47/2019-08-22-05-44-43\" ><span data-title=\"資訊能力畢業門檻\"><span class=\"jsn-menutitle\">資訊能力畢業門檻</span></span></a></li><li class=\"item-2352\"><a class=\"clearfix\" href=\"/index.php/2019-08-22-01-52-30/2019-08-22-04-13-47/2019-08-22-05-46-48\" ><span data-title=\"證照相關文章\"><span class=\"jsn-menutitle\">證照相關文章</span></span></a></li><li class=\"item-2353 last\"><a class=\"clearfix\" href=\"/index.php/2019-08-22-01-52-30/2019-08-22-04-13-47/ite-94-96\" ><span data-title=\"ITE證照合作(94~96學年度)\"><span class=\"jsn-menutitle\">ITE證照合作(94~96學年度)</span></span></a></li></ul></li><li class=\"item-2354\"><a class=\"clearfix\" href=\"/index.php/2019-08-22-01-52-30/2019-08-22-06-32-52\" ><span data-title=\"專題相關文件\"><span class=\"jsn-menutitle\">專題相關文件</span></span></a></li><li class=\"item-2403 parent\"><a class=\"clearfix\" href=\"/index.php/2019-08-22-01-52-30/2019-11-05-09-57-42\" ><span data-title=\"碩士學位考試申請流程\"><span class=\"jsn-menutitle\">碩士學位考試申請流程</span></span></a><ul class=\"nav-child unstyled small sub-menu\"><li class=\"item-2404 first\"><a class=\"clearfix\" href=\"/index.php/2019-08-22-01-52-30/2019-11-05-09-57-42/2019-11-05-10-00-13\" ><span data-title=\"相關法規\"><span class=\"jsn-menutitle\">相關法規</span></span></a></li><li class=\"item-2405 last\"><a class=\"clearfix\" href=\"/index.php/2019-08-22-01-52-30/2019-11-05-09-57-42/2019-11-05-10-01-07\" ><span data-title=\"相關表格\"><span class=\"jsn-menutitle\">相關表格</span></span></a></li></ul></li><li class=\"item-2365\"><a class=\"clearfix\" href=\"https://cloud.ncl.edu.tw/must/\" target=\"_blank\" ><span data-title=\"學校碩士論文系統\"><span class=\"jsn-menutitle\">學校碩士論文系統</span></span></a></li><li class=\"item-2453 last\"><a class=\"clearfix\" href=\"https://ethics.moe.edu.tw/\" target=\"_blank\" ><span data-title=\"臺灣學術倫理教育資源中心(研究所)\"><span class=\"jsn-menutitle\">臺灣學術倫理教育資源中心(研究所)</span></span></a></li></ul></li><li class=\"item-2442 parent\"><a class=\"clearfix\" href=\"/index.php/2020-01-08-08-51-31\" ><i class=\"jsn-icon-article\"></i><span data-title=\"實習\"><span class=\"jsn-menutitle\">實習</span></span></a><ul class=\"nav-child unstyled small sub-menu\"><li class=\"item-2382 first\"><a class=\"clearfix\" href=\"/index.php/2020-01-08-08-51-31/2019-10-08-05-55-22\" ><span data-title=\"為何要實習\"><span class=\"jsn-menutitle\">為何要實習</span></span></a></li><li class=\"item-2459\"><a class=\"clearfix\" href=\"/index.php/2020-01-08-08-51-31/ic\" target=\"_blank\" ><span data-title=\"實習輔導(IC之音採訪)\"><span class=\"jsn-menutitle\">實習輔導(IC之音採訪)</span></span></a></li><li class=\"item-2383\"><a class=\"clearfix\" href=\"/index.php/2020-01-08-08-51-31/2019-10-08-06-02-17\" ><span data-title=\"實習辦法\"><span class=\"jsn-menutitle\">實習辦法</span></span></a></li><li class=\"item-2384\"><a class=\"clearfix\" href=\"/index.php/2020-01-08-08-51-31/2019-10-08-06-18-05\" ><span data-title=\"實習表單\"><span class=\"jsn-menutitle\">實習表單</span></span></a></li><li class=\"item-2385 last\"><a class=\"clearfix\" href=\"/index.php/2020-01-08-08-51-31/2019-10-08-06-27-08\" ><span data-title=\"實習心得分享\"><span class=\"jsn-menutitle\">實習心得分享</span></span></a></li></ul></li><li class=\"item-2445\"><a class=\"clearfix\" href=\"/index.php/2020-02-06-01-40-46\" ><i class=\"jsn-icon-display\"></i><span data-title=\"設備\"><span class=\"jsn-menutitle\">設備</span></span></a></li><li class=\"item-2454 parent\"><a class=\"clearfix\" href=\"/index.php/2020-08-18-03-42-34\" ><i class=\"jsn-icon-statistics\"></i><span data-title=\"校友\"><span class=\"jsn-menutitle\">校友</span></span></a><ul class=\"nav-child unstyled small sub-menu\"><li class=\"item-2455 first\"><a class=\"clearfix\" href=\"/index.php/2020-08-18-03-42-34/2020-08-18-03-49-36\" ><span data-title=\"校友升學\"><span class=\"jsn-menutitle\">校友升學</span></span></a></li><li class=\"item-2451\"><a class=\"clearfix\" href=\"https://www.facebook.com/%E6%98%8E%E6%96%B0%E8%B3%87%E7%AE%A1%E7%B3%BB%E5%8F%8B%E6%9C%83-801436546865738/\" target=\"_blank\" ><span data-title=\"系友會FB\"><span class=\"jsn-menutitle\">系友會FB</span></span></a></li><li class=\"item-2417 last\"><a class=\"clearfix\" href=\"/index.php/2020-08-18-03-42-34/2019-12-17-08-48-25\" ><span data-title=\"系友活動\"><span class=\"jsn-menutitle\">系友活動</span></span></a></li></ul></li><li class=\"item-2356 parent\"><a class=\"clearfix\" href=\"/index.php/2019-08-22-07-01-30\" ><i class=\"jsn-icon-folder\"></i><span data-title=\"成果\"><span class=\"jsn-menutitle\">成果</span></span></a><ul class=\"nav-child unstyled small sub-menu\"><li class=\"item-2357 first\"><a class=\"clearfix\" href=\"/index.php/2019-08-22-07-01-30/2019-08-22-07-05-05\" ><span data-title=\"榮譽榜\"><span class=\"jsn-menutitle\">榮譽榜</span></span></a></li><li class=\"item-2360\"><a class=\"clearfix\" href=\"/index.php/2019-08-22-07-01-30/2019-08-22-07-47-27\" ><span data-title=\"政府部門計畫\"><span class=\"jsn-menutitle\">政府部門計畫</span></span></a></li><li class=\"item-2359\"><a class=\"clearfix\" href=\"/index.php/2019-08-22-07-01-30/2019-08-22-07-46-29\" ><span data-title=\"產學合作計畫\"><span class=\"jsn-menutitle\">產學合作計畫</span></span></a></li><li class=\"item-2362\"><a class=\"clearfix\" href=\"/index.php/2019-08-22-07-01-30/2019-08-22-07-50-23\" ><span data-title=\"校內計畫\"><span class=\"jsn-menutitle\">校內計畫</span></span></a></li><li class=\"item-2364\"><a class=\"clearfix\" href=\"/index.php/2019-08-22-07-01-30/2019-08-22-07-52-06\" ><span data-title=\"其他計畫\"><span class=\"jsn-menutitle\">其他計畫</span></span></a></li><li class=\"item-2366 parent\"><a class=\"clearfix\" href=\"/index.php/2019-08-22-07-01-30/2019-08-22-08-25-16\" ><span data-title=\"系上活動\"><span class=\"jsn-menutitle\">系上活動</span></span></a><ul class=\"nav-child unstyled small sub-menu\"><li class=\"item-2440 parent first\"><a class=\"clearfix\" href=\"/index.php/2019-08-22-07-01-30/2019-08-22-08-25-16/2020-01-08-03-54-58\" ><span data-title=\"書報討論\"><span class=\"jsn-menutitle\">書報討論</span></span></a><ul class=\"nav-child unstyled small sub-menu\"><li class=\"item-2460 first\"><a class=\"clearfix\" href=\"/index.php/2019-08-22-07-01-30/2019-08-22-08-25-16/2020-01-08-03-54-58/110-1\" ><span data-title=\"110-1\"><span class=\"jsn-menutitle\">110-1</span></span></a></li><li class=\"item-2457\"><a class=\"clearfix\" href=\"/index.php/2019-08-22-07-01-30/2019-08-22-08-25-16/2020-01-08-03-54-58/109-1\" ><span data-title=\"109-1\"><span class=\"jsn-menutitle\">109-1</span></span></a></li><li class=\"item-2400\"><a class=\"clearfix\" href=\"/index.php/2019-08-22-07-01-30/2019-08-22-08-25-16/2020-01-08-03-54-58/108-1\" ><span data-title=\"108-1\"><span class=\"jsn-menutitle\">108-1</span></span></a></li><li class=\"item-2398\"><a class=\"clearfix\" href=\"/index.php/2019-08-22-07-01-30/2019-08-22-08-25-16/2020-01-08-03-54-58/107-1\" ><span data-title=\"107-1\"><span class=\"jsn-menutitle\">107-1</span></span></a></li><li class=\"item-2397\"><a class=\"clearfix\" href=\"/index.php/2019-08-22-07-01-30/2019-08-22-08-25-16/2020-01-08-03-54-58/106-2\" ><span data-title=\"106-2\"><span class=\"jsn-menutitle\">106-2</span></span></a></li><li class=\"item-2395\"><a class=\"clearfix\" href=\"/index.php/2019-08-22-07-01-30/2019-08-22-08-25-16/2020-01-08-03-54-58/106-1\" ><span data-title=\"106-1\"><span class=\"jsn-menutitle\">106-1</span></span></a></li><li class=\"item-2389\"><a class=\"clearfix\" href=\"/index.php/2019-08-22-07-01-30/2019-08-22-08-25-16/2020-01-08-03-54-58/105-1\" ><span data-title=\"105-1\"><span class=\"jsn-menutitle\">105-1</span></span></a></li><li class=\"item-2387\"><a class=\"clearfix\" href=\"/index.php/2019-08-22-07-01-30/2019-08-22-08-25-16/2020-01-08-03-54-58/104-2\" ><span data-title=\"104-2\"><span class=\"jsn-menutitle\">104-2</span></span></a></li><li class=\"item-2386 last\"><a class=\"clearfix\" href=\"/index.php/2019-08-22-07-01-30/2019-08-22-08-25-16/2020-01-08-03-54-58/2019-10-14-09-45-04\" ><span data-title=\"104-1\"><span class=\"jsn-menutitle\">104-1</span></span></a></li></ul></li><li class=\"item-2441 parent\"><a class=\"clearfix\" href=\"/index.php/2019-08-22-07-01-30/2019-08-22-08-25-16/2020-01-08-04-04-34\" ><span data-title=\"證照講座\"><span class=\"jsn-menutitle\">證照講座</span></span></a><ul class=\"nav-child unstyled small sub-menu\"><li class=\"item-2402 first\"><a class=\"clearfix\" href=\"/index.php/2019-08-22-07-01-30/2019-08-22-08-25-16/2020-01-08-04-04-34/108-1-1\" ><span data-title=\"108-1\"><span class=\"jsn-menutitle\">108-1</span></span></a></li><li class=\"item-2399\"><a class=\"clearfix\" href=\"/index.php/2019-08-22-07-01-30/2019-08-22-08-25-16/2020-01-08-04-04-34/107-1-1\" ><span data-title=\"107-1\"><span class=\"jsn-menutitle\">107-1</span></span></a></li><li class=\"item-2396\"><a class=\"clearfix\" href=\"/index.php/2019-08-22-07-01-30/2019-08-22-08-25-16/2020-01-08-04-04-34/106-1-1\" ><span data-title=\"106-1\"><span class=\"jsn-menutitle\">106-1</span></span></a></li><li class=\"item-2390\"><a class=\"clearfix\" href=\"/index.php/2019-08-22-07-01-30/2019-08-22-08-25-16/2020-01-08-04-04-34/105-1-1\" ><span data-title=\"105-1\"><span class=\"jsn-menutitle\">105-1</span></span></a></li><li class=\"item-2388 last\"><a class=\"clearfix\" href=\"/index.php/2019-08-22-07-01-30/2019-08-22-08-25-16/2020-01-08-04-04-34/104-2-1\" ><span data-title=\"104-2\"><span class=\"jsn-menutitle\">104-2</span></span></a></li></ul></li></ul></li></ul></li></ul><div class=\"clearbreak\"></div></div></div></div>   \t\t\t\t\t\n",
            "\t\t\t\t</div>\n",
            "\t\t\t\t\t\t\t\t\t\t<div id=\"jsn-sitetoolspanel\" class=\"jsn-include-color pull-right\">\n",
            "\t\t\t\t\t<ul id=\"jsn-sitetools-menu\">\n",
            "\t\t\t\t\t\t<li class=\"clearafter jsn-sitetool-control\">\n",
            "\t\t\t\t\t\t<a href=\"javascript:void(0)\"></a>\n",
            "\t\t\t\t\t\t\t<ul>\n",
            "\t\t\t\t\t\t\t\t<li class=\"clearafter jsn-selector-color\">\n",
            "\t\t\t\t\t\t\t\t\t\t\t\t\t\t<a id=\"jsn-selector-blue\" title=\"Select color: Blue\" href=\"#\" onclick=\"javascript: JSNUtils.setTemplateAttribute('jsn_teki_pro_','color','blue'); return false;\" ></a>\n",
            "\t\t\t\t\t\t\t\t\t\t\t\t\t\t<a id=\"jsn-selector-red\" title=\"Select color: Red\" href=\"#\" onclick=\"javascript: JSNUtils.setTemplateAttribute('jsn_teki_pro_','color','red'); return false;\" ></a>\n",
            "\t\t\t\t\t\t\t\t\t\t\t\t\t\t<a id=\"jsn-selector-green\" title=\"Select color: Green\" href=\"#\" onclick=\"javascript: JSNUtils.setTemplateAttribute('jsn_teki_pro_','color','green'); return false;\" ></a>\n",
            "\t\t\t\t\t\t\t\t\t\t\t\t\t\t<a id=\"jsn-selector-orange\" title=\"Select color: Orange\" href=\"#\" onclick=\"javascript: JSNUtils.setTemplateAttribute('jsn_teki_pro_','color','orange'); return false;\"  class=\"current\"></a>\n",
            "\t\t\t\t\t\t\t\t\t\t\t\t\t\t<a id=\"jsn-selector-pink\" title=\"Select color: Pink\" href=\"#\" onclick=\"javascript: JSNUtils.setTemplateAttribute('jsn_teki_pro_','color','pink'); return false;\" ></a>\n",
            "\t\t\t\t\t\t\t\t\t\t\t\t\t\t<a id=\"jsn-selector-cyan\" title=\"Select color: Cyan\" href=\"#\" onclick=\"javascript: JSNUtils.setTemplateAttribute('jsn_teki_pro_','color','cyan'); return false;\" ></a>\n",
            "\t\t\t\t\t\t\t\t\t\t\t\t\t</li>\n",
            "\t\t\t\t\t\t\t</ul>\n",
            "\t\t\t\t\t\t</li>\n",
            "\t\t\t\t\t</ul>\n",
            "\t\t\t\t</div>\n",
            "\t\t\t\t\t\t\t<span id=\"jsn-desktopswitch\">\n",
            "\t\t\t\t\t<a href=\"#\" onclick=\"javascript: JSNUtils.setTemplateAttribute('jsn_teki_pro_','mobile','no'); return false;\"></a>\n",
            "\t\t\t\t</span>\n",
            "\t\t\t\t<span id=\"jsn-mobileswitch\">\n",
            "\t\t\t\t\t<a href=\"#\" onclick=\"javascript: JSNUtils.setTemplateAttribute('jsn_teki_pro_','mobile','yes'); return false;\"></a>\n",
            "\t\t\t\t</span>\n",
            "\t\t\t            <div class=\"clearbreak\"></div>\n",
            "\t\t\t</div>\n",
            "\t\t\t\t</div></div>\n",
            "\t\t<div id=\"jsn-body\">\n",
            "\t\t\t\t\t<div id=\"jsn-content\" class=\" row-fluid\">\n",
            "\t\t\t\t\t\t<div id=\"jsn-maincontent\" class=\"span12 order1 \"><div id=\"jsn-pos-maincontent\">\n",
            "\t\t\t\t\t\t\t\t\t\t<div id=\"jsn-breadcrumbs\">\n",
            "\t\t\t\t\t\t\t\t\t\n",
            "<div class=\"jsn-mod-custom\">\n",
            "\t<p><div class='jsn-bootstrap3'><div id='YsU6Cw' class=' row'  ><div class=\"col-md-12 col-sm-12 col-xs-12\" ><div class='jsn-bootstrap3 jsn-pagebuilder pb-element-container pb-element-carousel' ><div class='carousel slide' style='min-height : 0px; margin : 0 auto;' id='carousel_uNwtWi'> <div class='carousel-inner'><div class='active item'><img alt='' src='http://www.im.must.edu.tw/images/document/news/1110306v1.jpg'></div><div class=' item'><img alt='1' src='http://www.im.must.edu.tw/images/document/home/picture/v1.JPG'></div><div class=' item'><img alt='2' src='http://www.im.must.edu.tw/images/document/home/picture/v2_1101201.JPG'></div><div class=' item'><img alt='3' src='http://www.im.must.edu.tw/images/document/home/picture/v3_1101201.JPG'></div><div class=' item'><img alt='4' src='http://www.im.must.edu.tw/images/document/home/picture/v4.JPG'></div><div class=' item'><img alt='5' src='http://www.im.must.edu.tw/images/document/home/picture/v5.JPG'></div><div class=' item'><img alt='6' src='http://www.im.must.edu.tw/images/document/home/picture/v6.JPG'></div><div class=' item'><img alt='7' src='http://www.im.must.edu.tw/images/document/home/picture/v7.JPG'></div><div class=' item'><img alt='8' src='http://www.im.must.edu.tw/images/document/home/picture/v8.JPG'></div><div class=' item'><img alt='9' src='http://www.im.must.edu.tw/images/document/home/picture/v9.JPG'></div><div class=' item'><img alt='10' src='http://www.im.must.edu.tw/images/document/home/picture/v10.JPG'></div><div class=' item'><img alt='11' src='http://www.im.must.edu.tw/images/document/home/picture/v11.JPG'></div><div class=' item'><img alt='12' src='http://www.im.must.edu.tw/images/document/home/picture/v12-1.jpg'></div><div class=' item'><img alt='13' src='http://www.im.must.edu.tw/images/document/home/picture/v13.JPG'></div></div> <a class='left carousel-control' href='#carousel_uNwtWi' data-slide='prev'><span class='icon-arrow-left'></span></a><a class='right carousel-control' href='#carousel_uNwtWi' data-slide='next'><span class='icon-arrow-right'></span></a></div><div style=\"clear: both\"></div><script type='text/javascript'>\n",
            "\t\t\t(function ($){ \n",
            "\t\t\t\t$( document ).ready(function(){\n",
            "\t\t\t\t\tif( $( '#carousel_uNwtWi' ).length ){ \n",
            "\t\t\t\t\t\t$( '#carousel_uNwtWi' ).carousel( {interval: 3000,pause : \"hover\"} );\n",
            "\t\t\t\t\t\t\n",
            "\t\t\t\t\t\t$( '#carousel_uNwtWi .carousel-indicators li' ).each(function (i) {\n",
            "\t\t\t\t\t\t\t$(this).on('click', function () {\n",
            "\t\t\t\t\t\t\t\t$('#carousel_uNwtWi').carousel(i);\n",
            "\t\t\t\t\t\t\t});\n",
            "\t\t\t\t\t\t});\n",
            "\t\t\t\t\t}\n",
            "\t\t\t\t});\n",
            "\t\t\t} )( JoomlaShine.jQuery );\n",
            "\t\t</script></div><div class='pb-element-container pb-element-text text-nexqqe' ><div>\r\n",
            "<h2 style=\"text-align: center;\"><strong>榮譽榜</strong></h2>\r\n",
            "<p></div></div><div data-scroll-reveal=\"enter bottom and move 150px over 0.6s\"><div class='jsn-bootstrap3 jsn-pagebuilder pb-element-container pb-element-carousel' ><div class='carousel slide' style='min-height : 0px; margin : 0 auto;' id='carousel_LJo0pz'> <div class='carousel-inner'><div class='active item'><div class='carousel-content' ><h4></h4>\r\n",
            "<h3 style=\"text-align: center;\"><a title=\"狂賀！本系李佩君老師帶領學生參加2021全國技職盃創新創意專題實作競賽-資訊網路應用群大專組，榮獲第一名！\" href=\"/images/document/news/1101112-2.jpg\" target=\"_blank\"><strong>狂賀！本系李佩君老師帶領學生參加2021全國技職盃創新創意專題實作競賽-資訊網路應用群大專組，榮獲第一名！</strong></a></h3>\r\n",
            "</div></div><div class=' item'><div class='carousel-content' ><h4></h4>\r\n",
            "<h3 style=\"text-align: center;\"><a title=\"狂賀！本系李佩君老師帶領學生參加2021全國技職盃創新創意專題實作競賽-電子群大專組，榮獲優選！\" href=\"/images/document/news/1101112-1.jpg\" target=\"_blank\"><strong>狂賀！本系李佩君老師帶領學生參加2021全國技職盃創新創意專題實作競賽-電子群大專組，榮獲優選！</strong></a></h3>\r\n",
            "</div></div><div class=' item'><div class='carousel-content' ><h4></h4>\r\n",
            "<h3 style=\"text-align: center;\"><a title=\"狂賀！本系李佩君老師帶領學生參加2021第十六屆WASN專題計畫成果展，榮獲論文佳作！\" href=\"/images/document/news/1101105.pdf\" target=\"_blank\"><strong>狂賀！本系李佩君老師帶領學生參加110年明新科大萌芽盃創新創業競賽-社會創業組，榮獲佳作！</strong></a></h3>\r\n",
            "</div></div><div class=' item'><div class='carousel-content' ><h4></h4>\r\n",
            "<h3 style=\"text-align: center;\"><a title=\"狂賀！本系李佩君老師帶領學生參加2021第十六屆WASN專題計畫成果展，榮獲論文佳作！\" href=\"/images/document/news/1100913.pdf\" target=\"_blank\"><strong>狂賀！本系李佩君老師帶領學生參加2021第十六屆WASN專題成果展，榮獲論文佳作！</strong></a></h3>\r\n",
            "</div></div><div class=' item'><div class='carousel-content' ><h4></h4>\r\n",
            "<h3 style=\"text-align: center;\"><strong><a title=\"恭賀！本系陳玉專老師獲110年度教育部教學實踐研究計畫通過！\" href=\"/images/document/news/1100712.jpg\" target=\"_blank\">恭賀！本系陳玉專老師獲110年度教育部教學實踐研究計畫通過！</a></strong></h3>\r\n",
            "</div></div><div class=' item'><div class='carousel-content' ><h4></h4>\r\n",
            "<h3 style=\"text-align: center;\"><strong><a title=\"狂賀！本系彭美惠老師帶領學生參加2020整合行銷企劃競賽，榮獲優選！\" href=\"https://www.tutortristar.com/?page_id=2640\" target=\"_blank\">狂賀！本系彭美惠老師帶領學生參加2020整合行銷企劃競賽，榮獲優選！</a></strong></h3>\r\n",
            "</div></div><div class=' item'><div class='carousel-content' ><h4></h4>\r\n",
            "<h3 style=\"text-align: center;\"><strong><a title=\"狂賀！本系陳建志老師帶領學生參加2020第一屆旋風盃企業經營即時模擬系統線上競賽榮獲佳作！\" href=\"https://erpcc.lhu.edu.tw/index.php?option=article&aID=67\" target=\"_blank\">狂賀！本系陳建志老師帶領學生參加2020第一屆旋風盃企業經營即時模擬系統線上競賽榮獲佳作！</a></strong></h3>\r\n",
            "</div></div><div class=' item'><div class='carousel-content' ><h4></h4>\r\n",
            "<h3 style=\"text-align: center;\"><strong><a title=\"恭賀！本系李佩君老師獲109年度研究績效卓越獎！\" href=\"/images/document/news/1100225-1.jpg\" target=\"_blank\">恭賀！本系李佩君老師獲109年度研究績效卓越獎！</a></strong></h3>\r\n",
            "</div></div><div class=' item'><div class='carousel-content' ><h4></h4>\r\n",
            "<h3 style=\"text-align: center;\"><strong><a title=\"恭賀！本系邱川峰老師獲109年度執行校內專題研究計畫成果報告優秀作品！\" href=\"/images/document/news/1100225-2.jpg\" target=\"_blank\">恭賀！本系邱川峰老師獲109年度執行校內專題研究計畫成果報告優秀作品！</a></strong></h3>\r\n",
            "</div></div><div class=' item'><div class='carousel-content' ><h4></h4>\r\n",
            "<h3 style=\"text-align: center;\"><strong><a title=\"恭賀！本系陳建志老師獲110年度創新教學計畫核定通過！\" href=\"/images/document/news/1091225-1.png\" target=\"_blank\">恭賀！本系陳建志老師獲110年度創新教學計畫核定通過！</a></strong></h3>\r\n",
            "</div></div><div class=' item'><div class='carousel-content' ><h4></h4>\r\n",
            "<h3 style=\"text-align: center;\"><strong><a title=\"恭賀！本系賴彥如老師獲110年度創新教學計畫核定通過！\" href=\"/images/document/news/1091225-2.png\" target=\"_blank\">恭賀！本系賴彥如老師獲110年度創新教學計畫核定通過！</a></strong></h3>\r\n",
            "</div></div><div class=' item'><div class='carousel-content' ><h4></h4>\r\n",
            "<h3 style=\"text-align: center;\"><strong><a title=\"狂賀！本系李佩君老師帶領學生參加2020臺灣網際網路研討會榮獲優秀論文獎！\" href=\"http://www.im.must.edu.tw/index.php/2020-03-27-01-31-36/310-109-10-29-2020\" target=\"_blank\">狂賀！本系李佩君老師帶領學生參加2020臺灣網際網路研討會榮獲優秀論文獎！</a></strong></h3>\r\n",
            "</div></div><div class=' item'><div class='carousel-content' ><h4></h4>\r\n",
            "<h3 style=\"text-align: center;\"><strong><a title=\"狂賀！本系陳以裕老師帶領學生參加第五屆全國科技大專校院程式競賽(ICPC ncTu 2020)榮獲金獎！\" href=\"https://money.udn.com/money/story/5723/4713840\" target=\"_blank\">狂賀！本系陳以裕老師帶領學生參加第五屆全國科技大專校院程式競賽(ICPC ncTu 2020)榮獲金獎！</a></strong></h3>\r\n",
            "</div></div><div class=' item'><div class='carousel-content' ><h4></h4>\r\n",
            "<h3 style=\"text-align: center;\"><strong><a title=\"狂賀！2020明新科大程式設計競賽，榮獲佳績！\" href=\"/images/document/news/1090622-2.jpg\" target=\"_blank\">狂賀！2020明新科大程式設計競賽，榮獲佳績！</a></strong></h3>\r\n",
            "</div></div></div> <a class='left carousel-control' href='#carousel_LJo0pz' data-slide='prev'><span class='icon-arrow-left'></span></a><a class='right carousel-control' href='#carousel_LJo0pz' data-slide='next'><span class='icon-arrow-right'></span></a></div><div style=\"clear: both\"></div><script type='text/javascript'>\n",
            "\t\t\t(function ($){ \n",
            "\t\t\t\t$( document ).ready(function(){\n",
            "\t\t\t\t\tif( $( '#carousel_LJo0pz' ).length ){ \n",
            "\t\t\t\t\t\t$( '#carousel_LJo0pz' ).carousel( {interval: 5000,pause : \"hover\"} );\n",
            "\t\t\t\t\t\t\n",
            "\t\t\t\t\t\t$( '#carousel_LJo0pz .carousel-indicators li' ).each(function (i) {\n",
            "\t\t\t\t\t\t\t$(this).on('click', function () {\n",
            "\t\t\t\t\t\t\t\t$('#carousel_LJo0pz').carousel(i);\n",
            "\t\t\t\t\t\t\t});\n",
            "\t\t\t\t\t\t});\n",
            "\t\t\t\t\t}\n",
            "\t\t\t\t});\n",
            "\t\t\t} )( JoomlaShine.jQuery );\n",
            "\t\t</script></div></div></div></div></div><div class='jsn-bootstrap3'><div id='XNJTEt' class=' row'  ><div class=\"col-md-3 col-sm-3 col-xs-12\" ><div class='pb-element-container pb-element-text text-nsrsxh' ><div>\r\n",
            "<h4><span style=\"font-family: arial black,sans-serif; font-size: 14pt;\">招生微電影-資管系簡介</span></h4>\r\n",
            "<p></div></div><div class='pb-element-container pb-element-text text-ywnwig' ><div>\r\n",
            "<p><iframe src=\"https://www.youtube.com/embed/Ma6BGpciHkk\" width=\"560\" height=\"315\" frameborder=\"0\" allowfullscreen=\"\"></iframe></p>\r\n",
            "<p></div></div><div class='jsn-bootstrap3 jsn-pagebuilder pb-element-container pb-element-accordion' ><div class=\"panel-group\" id=\"accordion_rFmuUO\">\n",
            "\t\t\t<div class='panel panel-default' data-tag=''>\n",
            "\t\t\t\t<div class='panel-heading'>\n",
            "\t\t\t\t\t<h4 class='panel-title'>\n",
            "\t\t\t\t\t\t<a data-toggle='collapse' data-parent='#accordion_rFmuUO' href='#collapserFmuUO0'>\n",
            "\t\t\t\t\t\t<i class=''></i>111學年度新生早鳥平台\n",
            "\t\t\t\t\t\t</a>\n",
            "\t\t\t\t\t</h4>\n",
            "\t\t\t\t</div>\n",
            "\t\t\t\t<div id='collapserFmuUO0' class='panel-collapse collapse in'>\n",
            "\t\t\t\t  <div class='panel-body'>\n",
            "\t\t\t\t  \r\n",
            "<p style=\"margin: 5px 0px 10px; padding: 0px; text-align: left; color: #666666; text-transform: none; text-indent: 0px; letter-spacing: normal; font-family: 'Times New Roman', Times, serif; font-size: 13.6px; font-style: normal; font-weight: 400; word-spacing: 0px; white-space: normal; orphans: 2; widows: 2; background-color: #ffffff; -webkit-text-stroke-width: 0px; text-decoration-style: initial; text-decoration-color: initial; font-variant-ligatures: normal; font-variant-caps: normal;\"><span style=\"font-family: arial black,sans-serif; font-size: 10pt;\"><strong><span style=\"color: blue;\"><span style=\"color: #808080; background-color: #ffffff;\"><span style=\"color: #0000ff;\">完整填寫此問卷可以在入學本校大一日間部並註冊後</span><span style=\"color: #ff0000;\">獲得2,000元勵學金</span><span style=\"color: #0000ff;\">喔~</span></span></span></strong><b><b style=\"color: #808080; text-transform: none; text-indent: 0px; letter-spacing: normal; font-family: Arial, 'Arial Unicode MS', 新細明體; font-size: 13.33px; font-style: normal; word-spacing: 0px; white-space: normal; orphans: 2; widows: 2; background-color: #ffffff; -webkit-text-stroke-width: 0px; text-decoration-style: initial; text-decoration-color: initial; font-variant-ligatures: normal; font-variant-caps: normal;\"><span style=\"color: blue;\"><b><b style=\"color: #808080; text-transform: none; text-indent: 0px; letter-spacing: normal; font-family: Arial, 'Arial Unicode MS', 新細明體; font-size: 13.33px; font-style: normal; word-spacing: 0px; white-space: normal; orphans: 2; widows: 2; background-color: #ffffff; -webkit-text-stroke-width: 0px; text-decoration-style: initial; text-decoration-color: initial; font-variant-ligatures: normal; font-variant-caps: normal;\"><br /></b></b></span></b></b><span style=\"color: #333333;\">- 早鳥平台網址：<span style=\"text-decoration: underline;\"><a href=\"https://reurl.cc/mv9MOV\" target=\"_blank\"><span style=\"color: #339966; text-decoration: underline;\">https://reurl.cc/mv9MOV</span></a></span></span><b><b style=\"color: #808080; text-transform: none; text-indent: 0px; letter-spacing: normal; font-family: Arial, 'Arial Unicode MS', 新細明體; font-size: 13.33px; font-style: normal; word-spacing: 0px; white-space: normal; orphans: 2; widows: 2; background-color: #ffffff; -webkit-text-stroke-width: 0px; text-decoration-style: initial; text-decoration-color: initial; font-variant-ligatures: normal; font-variant-caps: normal;\"><span style=\"color: blue;\"><b><b style=\"color: #808080; text-transform: none; text-indent: 0px; letter-spacing: normal; font-family: Arial, 'Arial Unicode MS', 新細明體; font-size: 13.33px; font-style: normal; word-spacing: 0px; white-space: normal; orphans: 2; widows: 2; background-color: #ffffff; -webkit-text-stroke-width: 0px; text-decoration-style: initial; text-decoration-color: initial; font-variant-ligatures: normal; font-variant-caps: normal;\"><br /></b></b></span></b></b><span style=\"color: blue;\"><span style=\"color: #333333;\">- 掃描QR code進入「明新科技大學早鳥平台」</span></span></span></p>\r\n",
            "<p style=\"margin: 10px 0px; padding: 0px; text-align: center; color: #666666; text-transform: none; text-indent: 0px; letter-spacing: normal; font-family: 'Times New Roman', Times, serif; font-size: 13.6px; font-style: normal; font-weight: 400; word-spacing: 0px; white-space: normal; orphans: 2; widows: 2; background-color: #ffffff; -webkit-text-stroke-width: 0px; text-decoration-style: initial; text-decoration-color: initial; font-variant-ligatures: normal; font-variant-caps: normal;\"><strong style=\"font-weight: bold;\"><img src=\"/images/document/star/111QR-school.jpg\" width=\"180\" height=\"180\" /></strong></p>\r\n",
            "\n",
            "\t\t\t\t  </div>\n",
            "\t\t\t\t</div>\n",
            "\t\t\t</div></div><script type='text/javascript'>( function ($) {\n",
            "\t\t\t\t\t$( document ).ready( function ()\n",
            "\t\t\t\t\t{\n",
            "\t\t\t\t\t\t$( '#accordion_rFmuUO .panel-collapse' ).click( function(e ){\n",
            "\t\t\t\t\t\t\tvar collapse_item = $( '#accordion_rFmuUO '+this.hash )\n",
            "\t\t\t\t\t\t\t$( '#accordion_rFmuUO .panel-body' ).each(function(){\n",
            "\t\t\t\t\t\t\t\t$( this ).addClass( 'panel-collapse' );\n",
            "\t\t\t\t\t\t\t});\n",
            "\t\t\t\t\t\t\tcollapse_item.removeClass( 'panel-collapse' );\n",
            "\t\t\t\t\t\t\tcollapse_item.attr( 'style', '' );\n",
            "\t\t\t\t\t\t});\n",
            "\t\t\t\t\t});\n",
            "\t\t\t\t} )( JoomlaShine.jQuery );</script></div><div class='jsn-bootstrap3 jsn-pagebuilder pb-element-container pb-element-image' ><a href='http://www.im.must.edu.tw/images/document/news/IM-QRCod.jpg'title='' class='pb-image-fancy'><img src='http://www.im.must.edu.tw/images/document/news/IM-QRCod.jpg'title=''alt=''width=\"300\"/></a></div><div class='pb-element-container pb-element-text text-wxvrpu' ><div>\r\n",
            "<h4><span style=\"font-family: arial black,sans-serif; font-size: 14pt;\">活動剪影</span></h4>\r\n",
            "<p></div></div><div class='jsn-bootstrap3 jsn-pagebuilder pb-element-container pb-element-carousel' ><div class='carousel slide' style='min-height : 0px; margin : 0 auto;' id='carousel_i5HmNC'> <div class='carousel-inner'><div class='active item'><img alt='1' src='http://www.im.must.edu.tw/images/dsc_0604.jpg'></div><div class=' item'><img alt='2' src='http://www.im.must.edu.tw/images/dsc_0605.jpg'></div><div class=' item'><img alt='3' src='http://www.im.must.edu.tw/images/dsc_1179.jpg'></div><div class=' item'><img alt='4' src='http://www.im.must.edu.tw/images/document/news/17.jpg'></div><div class=' item'><img alt='' src='http://www.im.must.edu.tw/images/document/news/18.jpg'></div></div> <a class='left carousel-control' href='#carousel_i5HmNC' data-slide='prev'><span class='icon-arrow-left'></span></a><a class='right carousel-control' href='#carousel_i5HmNC' data-slide='next'><span class='icon-arrow-right'></span></a></div><div style=\"clear: both\"></div><script type='text/javascript'>\n",
            "\t\t\t(function ($){ \n",
            "\t\t\t\t$( document ).ready(function(){\n",
            "\t\t\t\t\tif( $( '#carousel_i5HmNC' ).length ){ \n",
            "\t\t\t\t\t\t$( '#carousel_i5HmNC' ).carousel( {interval: false,pause : \"hover\"} );\n",
            "\t\t\t\t\t\t\n",
            "\t\t\t\t\t\t$( '#carousel_i5HmNC .carousel-indicators li' ).each(function (i) {\n",
            "\t\t\t\t\t\t\t$(this).on('click', function () {\n",
            "\t\t\t\t\t\t\t\t$('#carousel_i5HmNC').carousel(i);\n",
            "\t\t\t\t\t\t\t});\n",
            "\t\t\t\t\t\t});\n",
            "\t\t\t\t\t}\n",
            "\t\t\t\t});\n",
            "\t\t\t} )( JoomlaShine.jQuery );\n",
            "\t\t</script></div><div class='pb-element-container pb-element-text text-ignynw' ><div>\r\n",
            "<h6>系學會FB  系學會IG y 資管系YT</h6>\r\n",
            "<p></div></div><div class='jsn-bootstrap3 jsn-pagebuilder pb-element-container pb-element-socialicon' ><ul class='pb-social-icons square brand'>\n",
            "\t\t<li>\n",
            "\t\t\t<a href='https://www.facebook.com/MustIMSA' target='_blank'>\n",
            "\t\t\t\t<div class='pb-brand-icons medium' style='border-radius:5px;'>\n",
            "\t\t\t\t\t<i class='fa fa-facebook medium'></i>\n",
            "\t\t\t\t</div>\n",
            "\t\t\t</a>\n",
            "\t\t</li><!--seperate-->\n",
            "\t\t<li>\n",
            "\t\t\t<a href='https://instagram.com/must_im28th?r=nametag' target='_blank'>\n",
            "\t\t\t\t<div class='pb-brand-icons medium' style='border-radius:5px;'>\n",
            "\t\t\t\t\t<i class='fa fa-instagram medium'></i>\n",
            "\t\t\t\t</div>\n",
            "\t\t\t</a>\n",
            "\t\t</li><!--seperate-->\n",
            "\t\t<li>\n",
            "\t\t\t<a href='https://www.youtube.com/channel/UCsgH47lmEqEJ2zQSZ-mt93Q' target='_blank'>\n",
            "\t\t\t\t<div class='pb-brand-icons medium' style='border-radius:5px;'>\n",
            "\t\t\t\t\t<i class='fa fa-youtube medium'></i>\n",
            "\t\t\t\t</div>\n",
            "\t\t\t</a>\n",
            "\t\t</li><!--seperate--></ul><div style=\"clear: both\"></div></div></div><div class=\"col-md-6 col-sm-6 col-xs-12\" ><div class='jsn-bootstrap3 jsn-pagebuilder pb-element-container pb-element-tab' ><div class='tabbable ' id='tab_eZVgQt'><ul class=\"nav nav-tabs\"><li class='active'><a href='#pane_eZVgQt_0' data-toggle='tab'><i class='fa-bullhorn'></i>&nbsp;系上公告</a></li><li ><a href='#pane_eZVgQt_1' data-toggle='tab'><i class='fa-star'></i>&nbsp;招生訊息</a></li><li ><a href='#pane_eZVgQt_2' data-toggle='tab'><i class='fa-briefcase'></i>&nbsp;企業徵才</a></li><li ><a href='#pane_eZVgQt_3' data-toggle='tab'><i class='fa-calendar-o'></i>&nbsp;行事曆</a></li></ul><div class='tab-content'>\n",
            "\t\t\t<div id='pane_eZVgQt_0' class='tab-pane active ' STYLE>\n",
            "\t\t\t\t\r\n",
            "<p><span style=\"color: #0000ff;\"><strong><span style=\"font-family: arial black,sans-serif; font-size: 10pt;\"><a style=\"color: #0000ff;\" href=\"http://www.im.must.edu.tw/index.php/2020-03-27-01-31-36/369-111-03-01-2022-3-6\" target=\"_blank\"><span style=\"color: #ff0000;\">NEW！</span><span style=\"background-color: #ffffff;\">【111.03.04】2022一日明新管院體驗營</span></a></span></strong></span></p>\r\n",
            "<p><strong><span style=\"color: #0000ff;\"><a style=\"color: #0000ff;\" href=\"http://www.im.must.edu.tw/index.php/2020-03-27-01-31-36/368-111-02-22-110-2-110-1-3-4\" target=\"_blank\"><span style=\"font-family: arial black,sans-serif; font-size: 10pt;\"><span style=\"color: #ff0000;\">NEW！</span><span style=\"background-color: #ffffff;\">【111.02.22】110-2學生申請\"110-1品學兼優\"獎學金相關事項至3/4截止</span></span></a></span></strong></p>\r\n",
            "<p><strong><span style=\"color: #0000ff;\"><a style=\"color: #0000ff;\" href=\"http://www.im.must.edu.tw/index.php/2020-03-27-01-31-36/366-111-02-17-110-2\" target=\"_blank\"><span style=\"font-family: arial black,sans-serif; font-size: 10pt;\"><span style=\"color: #ff0000;\">NEW！</span><span style=\"background-color: #ffffff;\">【111.02.17】110-2資管系日、夜間部加退選-課委排班表</span></span></a></span></strong></p>\r\n",
            "<p><span style=\"color: #0000ff;\"><strong><span style=\"font-family: arial black,sans-serif;\"><a style=\"color: #0000ff;\" href=\"http://www.im.must.edu.tw/index.php/2020-03-27-01-31-36/363-110-12-13-2022\" target=\"_blank\"><span style=\"font-size: 10pt;\"><span style=\"background-color: #ffffff;\">【110.12.13】2022一日明新商管體驗營活動報名開跑囉！</span></span></a></span></strong></span></p>\r\n",
            "<p><span style=\"color: #0000ff;\"><a style=\"color: #0000ff;\" href=\"http://www.im.must.edu.tw/index.php/2020-03-27-01-31-36/362-110-12-06-110-1\" target=\"_blank\"><span style=\"font-family: arial black,sans-serif; font-size: 10pt;\"><strong><span style=\"background-color: #ffffff;\">【110.12.06】110-1專題發表事宜</span></strong></span></a></span></p>\r\n",
            "<p><span style=\"color: #0000ff; font-family: arial black,sans-serif; font-size: 10pt;\"><a style=\"color: #0000ff;\" href=\"http://www.im.must.edu.tw/index.php/2020-03-27-01-31-36/361-110-11-05-110-2\" target=\"_blank\"><strong><span style=\"background-color: #ffffff;\">【110.11.05】110-2日間部、進修部、進專院-預選開放時間</span></strong></a></span></p>\r\n",
            "<p><span style=\"color: #0000ff; font-family: arial black,sans-serif; font-size: 10pt;\"><strong><a style=\"color: #0000ff;\" href=\"http://www.im.must.edu.tw/index.php/2020-03-27-01-31-36/357-110-10-06-110-1-11-5-24-00\" target=\"_blank\"><span style=\"background-color: #ffffff;\">【110.10.06】110-1專業學分學程修讀及學程證明申請至11/5(五)24:00截止</span></a></strong></span></p>\r\n",
            "<p><span style=\"color: #0000ff;\"><strong><a style=\"color: #0000ff;\" href=\"http://www.im.must.edu.tw/index.php/2020-03-27-01-31-36/356-110-10-01-110-1-4-10-5-10-11\" target=\"_blank\"><span style=\"font-family: arial black,sans-serif; font-size: 10pt;\"><span style=\"background-color: #ffffff;\">【110.10.01】110-1資管系開學第4週(10/5~10/11)線上課程資訊一覽表</span></span></a></strong></span></p>\r\n",
            "<p><span style=\"color: #0000ff; font-family: arial black,sans-serif; font-size: 10pt;\"><a style=\"color: #0000ff;\" href=\"http://webc1.must.edu.tw/jtmust066/index.php/174-110-5-30\" target=\"_blank\"><strong><span style=\"background-color: #ffffff;\">【110.10.01】本校即日起至110年10月11日(星期一)止，所有課程採遠距教學</span></strong></a></span></p>\r\n",
            "<p><span style=\"color: #0000ff;\"><strong><a style=\"color: #0000ff;\" href=\"http://www.im.must.edu.tw/index.php/2020-03-27-01-31-36/353-110-09-24-110-1-3\" target=\"_blank\"><span style=\"font-family: arial black,sans-serif; font-size: 10pt;\"><span style=\"background-color: #ffffff;\">【110.09.24】110-1資管系開學第3週(9/27~10/4)線上課程資訊一覽表</span></span></a></strong></span></p>\r\n",
            "<p><span style=\"color: #0000ff; font-family: arial black,sans-serif; font-size: 10pt;\"><a style=\"color: #0000ff;\" href=\"http://webc1.must.edu.tw/jtmust066/index.php/180-110-9-28\" target=\"_blank\"><strong><span style=\"background-color: #ffffff;\">【110.09.24】本校110年9月28日「師生產學日」，全體教職員工生公假一日</span></strong></a></span></p>\r\n",
            "<p><span style=\"color: #0000ff;\"><a style=\"color: #0000ff;\" href=\"http://www.im.must.edu.tw/index.php/2020-03-27-01-31-36/352-110-09-16-110-1-9-30\" target=\"_blank\"><span style=\"font-family: arial black,sans-serif; font-size: 10pt;\"><strong><span style=\"background-color: #ffffff;\">【110.09.16】110-1</span>學生證照獎勵線上申請，即日起至9/30前輸入截止</strong></span></a></span></p>\r\n",
            "<p><span style=\"color: #0000ff;\"><strong><a style=\"color: #0000ff;\" href=\"http://www.im.must.edu.tw/index.php/2020-03-27-01-31-36/350-110-09-12-110-1-1-2\" target=\"_blank\"><span style=\"font-family: arial black,sans-serif; font-size: 10pt;\"><span style=\"background-color: #ffffff;\"><strong>【110.09.12】110-1資管系開學第1-2週(9/13~9/26)線上課程資訊一覽表</strong></span></span></a></strong></span></p>\r\n",
            "<p><span style=\"color: #0000ff;\"><a style=\"color: #0000ff;\" href=\"https://event.1111.com.tw/event21/university_fyi/index.asp\" target=\"_blank\"><span style=\"font-family: arial black,sans-serif; font-size: 10pt;\"><span style=\"background-color: #ffffff;\"><strong>【110.09.11】1111人力銀行TUN大學網「大一新生有問必答」社群平台</strong></span></span></a></span></p>\r\n",
            "<p><span style=\"color: #0000ff;\"><a style=\"color: #0000ff;\" href=\"http://www.im.must.edu.tw/index.php/2020-03-27-01-31-36/349-110-09-11-tronclass\" target=\"_blank\"><span style=\"font-family: arial black,sans-serif; font-size: 10pt;\"><span style=\"background-color: #ffffff;\"><strong>【110.09.11】課務、軟能力及TronClass數位學習平台教學影片</strong></span></span></a></span></p>\r\n",
            "<p><span style=\"color: #0000ff;\"><a style=\"color: #0000ff;\" href=\"http://www.im.must.edu.tw/index.php/2020-03-27-01-31-36/348-110-09-09-110-1\" target=\"_blank\"><span style=\"font-family: arial black,sans-serif; font-size: 10pt;\"><span style=\"background-color: #ffffff;\"><strong>【110.09.09】110-1資管系日、夜間部加退選-課委排班表</strong></span></span></a></span></p>\r\n",
            "<p><span style=\"color: #0000ff; font-family: arial black,sans-serif; font-size: 10pt;\"><strong><strong><a style=\"color: #0000ff;\" href=\"http://webc1.must.edu.tw/jtmust066/index.php/179-9-11\" target=\"_blank\"><strong><span style=\"background-color: #ffffff;\">【110.09.01】110年9月11日(星期六)中秋彈性放假補課說明</span></strong></a></strong></strong></span></p>\r\n",
            "<p><span style=\"color: #0000ff; font-family: arial black,sans-serif; font-size: 10pt;\"><a style=\"color: #0000ff;\" href=\"https://sites.google.com/site/mustfreshman/xue-sheng-bing-yi/日間部新生定向輔導?authuser=0\" target=\"_blank\"><strong><strong><span style=\"background-color: #ffffff;\">【110.08.20】110年9月10日(星期五)08:00-16:30日間部新生定向輔導</span></strong></strong></a></span></p>\r\n",
            "<p><span style=\"color: #0000ff; font-family: arial black,sans-serif; font-size: 10pt;\"><span style=\"color: #ff0000;\"><span style=\"color: #0000ff;\"><a style=\"color: #0000ff;\" href=\"http://www.im.must.edu.tw/index.php/2020-03-27-01-31-36/345-110-08-02-110-8-9-10-00-12-00\" target=\"_blank\"><strong><span style=\"background-color: #ffffff;\">【110.08.02】110年8月9日(星期一)10:00-12:00線上新生歡迎會</span></strong></a></span></span></span></p>\r\n",
            "<p><span style=\"color: #0000ff; font-family: arial black,sans-serif; font-size: 10pt;\"><span style=\"color: #ff0000;\"><span style=\"color: #0000ff;\"><span style=\"color: #ff0000;\"><a style=\"color: #0000ff;\" href=\"http://www.im.must.edu.tw/index.php/2020-03-27-01-31-36/342-110-07-09-7-12-10-00-12-00\" target=\"_blank\"><strong><span style=\"background-color: #ffffff;\">【110.07.09】110年7月12日(星期一)10:00-12:00線上新生歡迎會</span></strong></a></span></span></span></span></p>\r\n",
            "<p><span style=\"color: #0000ff; font-family: arial black,sans-serif; font-size: 10pt;\"><span style=\"color: #ff0000;\"><span style=\"color: #0000ff;\"><a style=\"color: #0000ff;\" href=\"/images/document/news/1100708.pdf\" target=\"_blank\"><strong><span style=\"background-color: #ffffff;\">【110.07.08】109-2資管系四技畢業專題發表會成績公告</span></strong></a></span></span></span></p>\r\n",
            "<p><span style=\"color: #0000ff; font-family: arial black,sans-serif; font-size: 10pt;\"><span style=\"color: #ff0000;\"><span style=\"color: #0000ff;\"><span style=\"font-family: arial black,sans-serif; font-size: 10pt;\"><a style=\"color: #0000ff;\" href=\"http://webc1.must.edu.tw/jtmust066/index.php/174-110-5-30\" target=\"_blank\"><strong><span style=\"background-color: #ffffff;\">【110.06.23】本校即日起至110年7月12日(星期一)止，所有課程採遠距教學</span></strong></a></span></span></span></span></p>\r\n",
            "<p><span style=\"color: #0000ff; font-family: arial black,sans-serif; font-size: 10pt;\"><span style=\"color: #ff0000;\"><span style=\"color: #0000ff;\"><span style=\"font-family: arial black,sans-serif; font-size: 10pt;\"><a style=\"color: #0000ff;\" href=\"http://webc1.must.edu.tw/jtmust063/index.php/866-109-5\" target=\"_blank\"><strong><span style=\"background-color: #ffffff;\">【110.06.17】110年6月20日(星期日)109學年度明新科大\"線上\"畢業典禮</span></strong></a></span></span></span></span></p>\r\n",
            "<p><span style=\"color: #0000ff; font-family: arial black,sans-serif; font-size: 10pt;\"><span style=\"color: #ff0000;\"><span style=\"color: #0000ff;\"><span style=\"font-family: arial black,sans-serif; font-size: 10pt;\"><strong><a style=\"color: #0000ff;\" href=\"http://www.im.must.edu.tw/index.php/2020-03-27-01-31-36/338-110-05-21\" target=\"_blank\"><span style=\"font-family: arial black,sans-serif; font-size: 10pt;\"><strong><span style=\"background-color: #ffffff;\">【110.05.21】明新資管系配合教育部取消甄選入學第二階段「到校」甄試項目</span></strong></span></a></strong></span></span></span></span></p>\r\n",
            "<p><span style=\"color: #0000ff; font-family: arial black,sans-serif; font-size: 10pt;\"><span style=\"color: #ff0000;\"><span style=\"color: #0000ff;\"><strong><a style=\"color: #0000ff;\" href=\"http://www.im.must.edu.tw/index.php/2020-03-27-01-31-36/337-110-05-17-109-2\" target=\"_blank\"><strong><span style=\"background-color: #ffffff;\">【110.05.17】109-2專題發表細節</span></strong></a></strong></span></span></span></p>\r\n",
            "<p><span style=\"color: #0000ff; font-family: arial black,sans-serif; font-size: 10pt;\"><strong><a style=\"color: #0000ff;\" href=\"http://www.im.must.edu.tw/index.php/2020-03-27-01-31-36/335-110-05-04-109-2\" target=\"_blank\"><strong><span style=\"background-color: #ffffff;\">【110.05.04】109-2專題發表事宜</span></strong></a></strong></span></p>\r\n",
            "<p><span style=\"color: #0000ff; font-family: arial black,sans-serif; font-size: 10pt;\"><a style=\"color: #0000ff;\" href=\"http://www.im.must.edu.tw/index.php/2020-03-27-01-31-36/333-110-04-09-110-1\" target=\"_blank\"><span style=\"background-color: #ffffff;\"><strong>【110.04.09】110-1日間部、進修部、進專院-預選開放時間</strong></span></a></span></p>\r\n",
            "<p><span style=\"color: #0000ff; font-family: arial black,sans-serif; font-size: 10pt;\"><a style=\"color: #0000ff;\" href=\"http://www.im.must.edu.tw/index.php/2020-03-27-01-31-36/331-110-03-24-3-25\" target=\"_blank\"><strong><span style=\"background-color: #ffffff;\">【110.03.24】3月25日(星期四)大綜電腦系統股份有限公司-校園徵才</span></strong></a></span></p>\r\n",
            "<p><span style=\"color: #0000ff; font-family: arial black,sans-serif; font-size: 10pt;\"><a style=\"color: #0000ff;\" href=\"http://www.im.must.edu.tw/index.php/2020-03-27-01-31-36/330-110-03-09-109-2-3-30\" target=\"_blank\"><strong><span style=\"background-color: #ffffff;\">【110.03.09】1</span>09-2學生證照獎勵線上申請，即日起至3/30前輸入截止</strong></a></span></p>\r\n",
            "<p><span style=\"color: #0000ff;\"><a style=\"color: #0000ff;\" href=\"http://www.im.must.edu.tw/index.php/2020-03-27-01-31-36/329-110-02-25-109-2-109-1-3-8\" target=\"_blank\"><span style=\"font-family: arial black,sans-serif; font-size: 10pt;\"><strong><span style=\"background-color: #ffffff;\">【110.02.<strong><span style=\"background-color: #ffffff;\">25】1</span>09-2學生申請\"109-1品學兼優\"獎學金相關事項</strong>至3/8截止</span></strong></span></a></span></p>\r\n",
            "<p><span style=\"color: #0000ff; font-family: arial black,sans-serif; font-size: 10pt;\"><a style=\"color: #0000ff;\" href=\"http://webc1.must.edu.tw/jtmust066/index.php/162-110-3-2-1\" target=\"_blank\"><span style=\"background-color: #ffffff;\"><strong>【110.02.22】110年3月2日(星期二)全校教職員工生補假一日</strong></span></a></span></p>\r\n",
            "<p><span style=\"color: #0000ff;\"><a style=\"color: #0000ff;\" href=\"http://www.im.must.edu.tw/index.php/2020-03-27-01-31-36/328-110-02-20\" target=\"_blank\"><span style=\"font-family: arial black,sans-serif; font-size: 10pt;\"><span style=\"background-color: #ffffff;\"><strong>【110.02.20】科技部第一屆尋找資安女捷思活動報名至3/11截止！(限女性)</strong></span></span></a></span></p>\r\n",
            "<p><span style=\"color: #0000ff; font-family: arial black,sans-serif; font-size: 10pt;\"><span style=\"background-color: #ffffff;\"><strong><a style=\"color: #0000ff;\" href=\"http://www.im.must.edu.tw/index.php/2020-03-27-01-31-36/327-110-02-19-109-2\" target=\"_blank\">【110.02.19】109-2資管系日、夜間部加退選-課委排班表</a></strong></span></span></p>\r\n",
            "<p><span style=\"color: #0000ff; font-family: arial black,sans-serif; font-size: 10pt;\"><span style=\"background-color: #ffffff;\"><strong><a style=\"color: #0000ff;\" href=\"http://www.im.must.edu.tw/index.php/2020-03-27-01-31-36/326-110-01-28-2021-icmsi-3-31\" target=\"_blank\">【110.01.28】2021 ICMSI國際學術研討會報名至3/31截止！</a></strong></span></span></p>\r\n",
            "<p><span style=\"color: #0000ff;\"><a style=\"color: #0000ff;\" href=\"http://www.im.must.edu.tw/index.php/2020-03-27-01-31-36/321-109-12-21-109-1\" target=\"_blank\"><span style=\"font-family: arial black,sans-serif; font-size: 10pt;\"><span style=\"background-color: #ffffff;\"><strong>【109.12.21】109-1專題發表時程(大四重修生)</strong></span></span></a></span></p>\r\n",
            "<p> </p>\r\n",
            "\n",
            "\t\t\t</div>\n",
            "\t\t\t<div id='pane_eZVgQt_1' class='tab-pane  ' STYLE>\n",
            "\t\t\t\t\r\n",
            "<p><strong><span style=\"color: #0000ff;\"><a style=\"color: #0000ff;\" href=\"http://www.im.must.edu.tw/index.php/2020-03-27-01-31-36/364-110-12-13-110\" target=\"_blank\"><span style=\"font-family: arial black,sans-serif; font-size: 10pt;\"><span style=\"background-color: #ffffff;\">【110.12.13】110學年度第二學期轉學生招生入學</span></span></a></span></strong></p>\r\n",
            "<p><span style=\"color: #0000ff;\"><a style=\"color: #0000ff;\" href=\"http://www.im.must.edu.tw/index.php/2020-03-27-01-31-36/358-110-10-13-111\" target=\"_blank\"><span style=\"font-family: arial black,sans-serif; font-size: 10pt; background-color: #ffffff;\"><strong>【110.10.13】111學年度明新科大資管系碩士班甄試入學</strong></span></a></span></p>\r\n",
            "<p><span style=\"color: #0000ff;\"><span style=\"font-family: arial black,sans-serif; font-size: 10pt;\"><span style=\"background-color: #ffffff;\"><strong><a style=\"color: #0000ff;\" href=\"http://www.im.must.edu.tw/index.php/2020-03-27-01-31-36/351-110-09-14-rotc\" target=\"_blank\">【110.09.14】明新科大ROTC儲備軍官訓練團招生(日夜間部皆可報名)</a></strong></span></span></span></p>\r\n",
            "<p><span style=\"color: #0000ff;\"><a style=\"color: #0000ff;\" href=\"http://www.im.must.edu.tw/index.php/2020-03-27-01-31-36/339-110-06-08-110\" target=\"_blank\"><span style=\"font-family: arial black,sans-serif; font-size: 10pt;\"><span style=\"background-color: #ffffff;\"><strong>【110.06.08】110學年度第一學期轉學生招生入學</strong></span></span></a></span></p>\r\n",
            "<p><span style=\"color: #0000ff;\"><a style=\"color: #0000ff;\" href=\"/index.php/2020-03-27-01-31-36/332-110-03-25-110\" target=\"_blank\"><span style=\"font-family: arial black,sans-serif; font-size: 10pt; background-color: #ffffff;\"><strong>【110.03.25】110學年度研究所碩士班暨碩士在職專班考試入學</strong></span></a></span></p>\r\n",
            "<p><span style=\"color: #0000ff; font-family: arial black,sans-serif; font-size: 10pt;\"><a style=\"color: #0000ff;\" href=\"http://www.im.must.edu.tw/index.php/2020-03-27-01-31-36/320-109-12-10-110\" target=\"_blank\"><span style=\"background-color: #ffffff;\"><strong>【109.12.10】110學年度資訊管理系日間部各入學管道招生資訊</strong></span></a></span></p>\r\n",
            "<p><span style=\"color: #0000ff;\"><a style=\"color: #0000ff;\" href=\"http://www.im.must.edu.tw/index.php/2020-03-27-01-31-36/318-109-12-10-109\" target=\"_blank\"><span style=\"font-family: arial black,sans-serif; font-size: 10pt;\"><span style=\"background-color: #ffffff;\"><strong>【109.12.10】109學年度第二學期轉學生招生入學</strong></span></span></a></span></p>\r\n",
            "<p><span style=\"color: #0000ff;\"><a style=\"color: #0000ff;\" href=\"http://www.im.must.edu.tw/index.php/2020-03-27-01-31-36/314-109-11-16-110\" target=\"_blank\"><span style=\"font-family: arial black,sans-serif; font-size: 10pt;\"><span style=\"background-color: #ffffff;\"><strong>【109.11.16】110學年度身心障礙學生升學大專校院甄試招生入學</strong></span></span></a></span></p>\r\n",
            "<p><span style=\"color: #0000ff; font-family: arial black,sans-serif; font-size: 10pt;\"><strong><a style=\"color: #0000ff;\" href=\"http://www.im.must.edu.tw/index.php/2020-03-27-01-31-36/311-109-11-04-109\" target=\"_blank\"><span style=\"background-color: #ffffff;\"><strong><span style=\"background-color: #ffffff;\">【109.11.04】109學年度境外臺生因應疫情返臺就學銜接專案計畫(第二梯次)單獨招生</span></strong></span></a></strong></span></p>\r\n",
            "<p><span style=\"color: #0000ff; font-family: arial black,sans-serif; font-size: 10pt; background-color: #ffffff;\"><strong><a style=\"color: #0000ff;\" href=\"http://www.im.must.edu.tw/index.php/2020-03-27-01-31-36/307-109-10-20-110\" target=\"_blank\">【109.10.20】110學年度資訊管理系碩士班甄試入學</a></strong></span></p>\r\n",
            "<p><span style=\"color: #0000ff; font-family: arial black,sans-serif; font-size: 10pt;\"><span style=\"background-color: #ffffff;\"><strong><a style=\"color: #0000ff;\" title=\"【109.07.16】109學年度境外臺生因應疫情返臺就學銜接專案計畫(第一梯次)單獨招生\" href=\"http://www.im.must.edu.tw/index.php/2020-03-27-01-31-36/288-109-07-16-109\" target=\"_blank\">【109.07.16】109學年度境外臺生因應疫情返臺就學銜接專案計畫(第一梯次)單獨招生</a></strong></span></span></p>\r\n",
            "<p><span style=\"color: #0000ff; font-family: arial black,sans-serif; font-size: 10pt;\"><span style=\"background-color: #ffffff;\"><strong><a style=\"color: #0000ff;\" href=\"http://www.im.must.edu.tw/index.php/2020-03-27-01-31-36/285-109-06-22-108-2\" target=\"_blank\">【109.06.22】109學年度第一學期轉學生招生入學</a></strong></span></span></p>\r\n",
            "<p><span style=\"font-size: 10pt; background-color: #ffffff;\"><strong><span style=\"color: #0000ff; font-family: arial black,sans-serif;\"><strong><span style=\"color: #0000ff; font-family: arial black,sans-serif;\"><span style=\"color: #0000ff;\"><a style=\"color: #0000ff; background-color: #ffffff;\" href=\"http://www.im.must.edu.tw/index.php/2020-03-27-01-31-36/267-109-02-24-109\">【109.02.24】109學年度研究所碩士班暨碩士在職專班考試入學</a></span></span></strong></span></strong></span></p>\r\n",
            "<p><span style=\"font-size: 10pt; background-color: #ffffff;\"><strong><span style=\"color: #0000ff; font-family: arial black,sans-serif;\"><strong><span style=\"color: #0000ff; font-family: arial black,sans-serif;\"><span style=\"color: #0000ff;\"><strong><span style=\"font-family: arial black,sans-serif;\"><span style=\"color: #0000ff;\"><a style=\"color: #0000ff; background-color: #ffffff;\" href=\"http://www.im.must.edu.tw/index.php/2020-03-27-01-31-36/259-108-11-13-108-2\" target=\"_blank\">【108.11.13】108學年度第二學期轉學生招生入學</a></span></span></strong></span></span></strong></span></strong></span></p>\r\n",
            "\n",
            "\t\t\t</div>\n",
            "\t\t\t<div id='pane_eZVgQt_2' class='tab-pane  ' STYLE>\n",
            "\t\t\t\t\r\n",
            "<p><span style=\"color: #0000ff; font-family: arial black,sans-serif; font-size: 10pt;\"><strong><span style=\"background-color: #ffffff;\"><a style=\"color: #0000ff;\" title=\"【110.06.17】鴻佰科技股份有限公司(鴻海集團)--IT徵才資訊\" href=\"http://www.im.must.edu.tw/index.php/2020-03-27-01-31-36/365-111-01-12-it\" target=\"_blank\">【111.01.12】鴻佰科技股份有限公司(鴻海集團)--IT徵才資訊</a></span></strong></span></p>\r\n",
            "<p><span style=\"color: #0000ff; font-family: arial black,sans-serif; font-size: 10pt;\"><strong><span style=\"background-color: #ffffff;\"><a style=\"color: #0000ff;\" title=\"【110.10.14】智邦科技股份有限公司--誠徵資訊資產管理師1名\" href=\"http://www.im.must.edu.tw/index.php/2020-03-27-01-31-36/359-110-10-14-1\" target=\"_blank\">【110.10.14】智邦科技股份有限公司--誠徵資訊資產管理師1名</a></span></strong></span></p>\r\n",
            "<p><span style=\"color: #0000ff; font-family: arial black,sans-serif; font-size: 10pt;\"><strong><span style=\"background-color: #ffffff;\"><a style=\"color: #0000ff;\" title=\"【110.09.29】聚賢研發股份有限公司--誠徵工程師數名\" href=\"http://www.im.must.edu.tw/index.php/2020-03-27-01-31-36/355-110-09-29\" target=\"_blank\">【110.09.29】聚賢研發股份有限公司--誠徵工程師數名</a></span></strong></span></p>\r\n",
            "<p><span style=\"color: #0000ff; font-family: arial black,sans-serif; font-size: 10pt;\"><strong><span style=\"background-color: #ffffff;\"><a style=\"color: #0000ff;\" title=\"【110.09.29】振曜科技股份有限公司--誠徵MES工程師1名\" href=\"http://www.im.must.edu.tw/index.php/2020-03-27-01-31-36/354-110-09-29-mes-1\" target=\"_blank\">【110.09.29】振曜科技股份有限公司--誠徵MES工程師1名</a></span></strong></span></p>\r\n",
            "<p><span style=\"color: #0000ff; font-family: arial black,sans-serif; font-size: 10pt;\"><strong><span style=\"background-color: #ffffff;\"><a style=\"color: #0000ff;\" title=\"【110.09.06】亞旭電腦股份有限公司--誠徵短期無線網路產品測試工讀生\" href=\"http://www.im.must.edu.tw/index.php/2020-03-27-01-31-36/347-110-09-06\" target=\"_blank\">【110.09.06】亞旭電腦股份有限公司--誠徵短期無線網路產品測試工讀生</a></span></strong></span></p>\r\n",
            "<p><span style=\"color: #0000ff; font-family: arial black,sans-serif; font-size: 10pt;\"><strong><span style=\"background-color: #ffffff;\"><a style=\"color: #0000ff;\" title=\"【110.08.20】台北永和國中--招聘兩位資訊代課教師\" href=\"http://www.im.must.edu.tw/index.php/2020-03-27-01-31-36/346-110-08-20\" target=\"_blank\">【110.08.20】台北永和國中--招聘兩位資訊代課教師</a></span></strong></span></p>\r\n",
            "<p><span style=\"color: #0000ff; font-family: arial black,sans-serif; font-size: 10pt;\"><strong><span style=\"background-color: #ffffff;\"><a style=\"color: #0000ff;\" title=\"【110.07.27】千竣科技有限公司--誠徵長期硬體維護工讀生\" href=\"http://www.im.must.edu.tw/index.php/2020-03-27-01-31-36/344-110-07-27\" target=\"_blank\">【110.07.27】千竣科技有限公司--誠徵長期硬體維護工讀生</a></span></strong></span></p>\r\n",
            "<p><span style=\"color: #0000ff; font-family: arial black,sans-serif; font-size: 10pt;\"><strong><span style=\"background-color: #ffffff;\"><a style=\"color: #0000ff;\" title=\"【110.06.18】瑞賦科技股份有限公司--誠徵軟體工程師\" href=\"http://www.im.must.edu.tw/index.php/2020-03-27-01-31-36/341-110-06-18-01\" target=\"_blank\">【110.06.18】瑞賦科技股份有限公司--誠徵軟體工程師</a></span></strong></span></p>\r\n",
            "<p><span style=\"color: #0000ff; font-family: arial black,sans-serif; font-size: 10pt;\"><strong><span style=\"background-color: #ffffff;\"><a style=\"color: #0000ff;\" title=\"【110.06.17】鴻佰科技股份有限公司(鴻海集團)--IT徵才資訊\" href=\"http://www.im.must.edu.tw/index.php/2020-03-27-01-31-36/340-110-06-18\" target=\"_blank\">【110.06.17】鴻佰科技股份有限公司(鴻海集團)--IT徵才資訊</a></span></strong></span></p>\r\n",
            "<p><span style=\"color: #0000ff; font-family: arial black,sans-serif; font-size: 10pt;\"><strong><span style=\"background-color: #ffffff;\"><a style=\"color: #0000ff;\" title=\"【110.04.27】lativ網路服飾電商品牌--職缺訊息\" href=\"http://www.im.must.edu.tw/index.php/2020-03-27-01-31-36/334-110-04-27-lativ\" target=\"_blank\">【110.04.27】lativ網路服飾電商品牌--職缺訊息</a></span></strong></span></p>\r\n",
            "<p><span style=\"color: #0000ff; font-family: arial black,sans-serif; font-size: 10pt;\"><strong><span style=\"background-color: #ffffff;\"><a style=\"color: #0000ff;\" href=\"http://www.im.must.edu.tw/index.php/2020-03-27-01-31-36/325-110-01-28-it-1\" target=\"_blank\">【110.01.28】好學國際--誠徵IT人員1名</a></span></strong></span></p>\r\n",
            "<p><span style=\"color: #0000ff; font-family: 'arial black', sans-serif; font-size: 10pt;\"><strong><span style=\"background-color: #ffffff;\"><a style=\"color: #0000ff;\" href=\"http://www.im.must.edu.tw/index.php/2020-03-27-01-31-36/324-110-01-11-java\" target=\"_blank\">【110.01.11】雲集科技行銷有限公司--誠徵Java助理工程師、助理系統分析師</a></span></strong></span></p>\r\n",
            "<p><span style=\"color: #0000ff; font-family: 'arial black', sans-serif; font-size: 10pt;\"><strong><span style=\"background-color: #ffffff;\"><a style=\"color: #0000ff;\" href=\"http://www.im.must.edu.tw/index.php/2020-03-27-01-31-36/323-109-12-25-app-android-ios\" target=\"_blank\">【109.12.25】詮睿科技股份有限公司--誠徵APP開發工程師(Android&iOS)</a></span></strong></span></p>\r\n",
            "<p><span style=\"color: #0000ff; font-family: 'arial black', sans-serif; font-size: 10pt;\"><strong><span style=\"background-color: #ffffff;\"><a style=\"color: #0000ff;\" href=\"http://www.im.must.edu.tw/index.php/2020-03-27-01-31-36/322-109-12-23\" target=\"_blank\">【109.12.23】識驊科技股份有限公司--誠徵電子電路工程師</a></span></strong></span></p>\r\n",
            "<p><span style=\"color: #0000ff; font-family: 'arial black', sans-serif; font-size: 10pt;\"><strong><span style=\"background-color: #ffffff;\"><a style=\"color: #0000ff;\" href=\"http://www.im.must.edu.tw/index.php/2020-03-27-01-31-36/309-109-10-28\" target=\"_blank\">【109.10.28】緯創軟體股份有限公司--招募短期助理工程師</a></span></strong></span></p>\r\n",
            "<p><span style=\"font-family: 'arial black', sans-serif; font-size: 10pt;\"><strong><span style=\"background-color: #ffffff;\"><a style=\"color: #0000ff;\" href=\"http://www.im.must.edu.tw/index.php/2020-03-27-01-31-36/299-109-09-11\" target=\"_blank\">【109.09.11】佳世達科技股份有限公司--誠徵系統測試人員</a></span></strong></span></p>\r\n",
            "<p><span style=\"color: #0000ff; font-family: arial black,sans-serif; font-size: 10pt;\"><strong><span style=\"background-color: #ffffff;\"><a style=\"color: #0000ff;\" href=\"http://www.im.must.edu.tw/index.php/2020-03-27-01-31-36/297-109-08-19-2\" target=\"_blank\">【109.08.19】龍創科技有限公司--誠徵市場開發與專案執行長期工讀生2名</a></span></strong></span></p>\r\n",
            "<p><span style=\"color: #0000ff; font-family: arial black,sans-serif; font-size: 10pt;\"><strong><span style=\"background-color: #ffffff;\"><a style=\"color: #0000ff;\" href=\"http://www.im.must.edu.tw/index.php/2020-03-27-01-31-36/295-109-08-11\" target=\"_blank\">【109.08.11】科技部台金鏈結之農食檢測技服平台聯盟--徵聘專任助理1名</a></span></strong></span></p>\r\n",
            "<p><span style=\"color: #0000ff; font-family: arial black,sans-serif; font-size: 10pt;\"><strong><span style=\"background-color: #ffffff;\"><a style=\"color: #0000ff;\" href=\"http://www.im.must.edu.tw/index.php/2020-03-27-01-31-36/293-109-08-06\" target=\"_blank\">【109.08.06】數位時代_巨思文化股份有限公司--誠徵PHP工程師1名</a></span></strong></span></p>\r\n",
            "<p><span style=\"color: #0000ff; font-family: arial black,sans-serif; font-size: 10pt;\"><strong><span style=\"background-color: #ffffff;\"><a style=\"color: #0000ff;\" href=\"http://www.im.must.edu.tw/index.php/2020-03-27-01-31-36/292-109-07-31\" target=\"_blank\">【109.07.31】明新科技大學任務型大學社會責任辦公室--徵聘專案人員1名</a></span></strong></span></p>\r\n",
            "<p><span style=\"color: #0000ff; font-family: arial black,sans-serif; font-size: 10pt;\"><strong><span style=\"background-color: #ffffff;\"><a style=\"color: #0000ff;\" href=\"http://www.im.must.edu.tw/index.php/2020-03-27-01-31-36/290-109-07-28-1111\" target=\"_blank\">【109.07.28】1111人力銀行提供最新期的-資管類精選職缺快報</a></span></strong></span></p>\r\n",
            "<p><span style=\"color: #0000ff; font-family: arial black,sans-serif; font-size: 10pt;\"><strong><span style=\"background-color: #ffffff;\"><a style=\"color: #0000ff;\" href=\"http://www.im.must.edu.tw/index.php/2020-03-27-01-31-36/289-109-07-27-109\" target=\"_blank\">【109.07.27】國家中山科學研究院資訊管理中心109年第七次專案人力招考</a></span></strong></span></p>\r\n",
            "<p><span style=\"color: #0000ff; font-family: arial black,sans-serif; font-size: 10pt;\"><strong><span style=\"color: #0000ff;\"><span style=\"font-size: 10pt;\"><span style=\"background-color: #ffffff;\"><span style=\"font-family: arial black,sans-serif;\"><a style=\"color: #0000ff;\" title=\"【109.07.14】雲集科技行銷有限公司--誠徵助理系統分析師\" href=\"http://www.im.must.edu.tw/index.php/2020-03-27-01-31-36/287-109-07-14-2\" target=\"_blank\">【109.07.14】雲集科技行銷有限公司--誠徵助理系統分析師</a></span></span></span></span></strong></span></p>\r\n",
            "<p><span style=\"color: #0000ff;\"><strong><span style=\"font-size: 10pt;\"><span style=\"background-color: #ffffff;\"><span style=\"font-family: arial black,sans-serif;\"><a style=\"color: #0000ff;\" href=\"http://www.im.must.edu.tw/index.php/2020-03-27-01-31-36/286-2020-07-06-08-09-16\" target=\"_blank\">【109.07.06】<strong>南山人壽保險股份有限公司(總公司)--誠徵投資系統程式開發工程師</strong></a></span></span></span></strong></span></p>\r\n",
            "<p><span style=\"color: #0000ff;\"><strong><span style=\"font-size: 10pt;\"><span style=\"background-color: #ffffff;\"><span style=\"font-family: arial black,sans-serif;\"><a style=\"color: #0000ff;\" href=\"http://www.im.must.edu.tw/index.php/2020-03-27-01-31-36/279-109-05-08\" target=\"_blank\">【109.05.08】廣化科技股份有限公司--誠徵倉庫/物管人員</a></span></span></span></strong></span></p>\r\n",
            "<p><span style=\"color: #0000ff;\"><strong><span style=\"font-size: 10pt;\"><span style=\"background-color: #ffffff;\"><span style=\"font-family: arial black,sans-serif;\"><a style=\"color: #0000ff;\" href=\"http://www.im.must.edu.tw/index.php/2020-03-27-01-31-36/274-109-04-14\" target=\"_blank\">【109.04.14】智聯服務股份有限公司(宏達服務)--校園徵才</a></span></span></span></strong></span></p>\r\n",
            "<p><span style=\"color: #0000ff;\"><a style=\"color: #0000ff;\" href=\"http://www.im.must.edu.tw/index.php/2020-03-27-01-31-36/272-109-04-10\" target=\"_blank\"><strong><span style=\"font-size: 10pt;\"><span style=\"background-color: #ffffff;\"><span style=\"font-family: arial black,sans-serif;\"><span style=\"background-color: #ffffff;\">【109.04.10】永豐餘投資控股股份有限公司</span></span></span><span style=\"font-family: arial black,sans-serif;\">--徵才資訊</span></span></strong></a></span></p>\r\n",
            "<p><span style=\"color: #0000ff; font-size: 10pt; background-color: #ffffff;\"><strong><span style=\"font-family: arial black,sans-serif;\"><a style=\"color: #0000ff;\" href=\"http://www.im.must.edu.tw/index.php/2020-03-27-01-31-36/271-2020-04-11-05-51-06\" target=\"_blank\">【109.04.10】三貿機械工業股份有限公司--職缺招募資訊助理</a></span></strong></span></p>\r\n",
            "<p><span style=\"color: #0000ff; font-size: 10pt; background-color: #ffffff;\"><strong><span style=\"font-family: arial black,sans-serif;\"><a style=\"color: #0000ff; background-color: #ffffff;\" href=\"http://www.im.must.edu.tw/index.php/2020-03-27-01-31-36/266-109-02-06\">【109.02.06】屏榮食品--新豐廠徵才資訊</a></span></strong></span></p>\r\n",
            "<p><span style=\"color: #0000ff; font-size: 10pt; background-color: #ffffff;\"><strong><span style=\"font-family: arial black,sans-serif;\"><a style=\"color: #0000ff; background-color: #ffffff;\" href=\"http://www.im.must.edu.tw/index.php/2020-03-27-01-31-36/261-108-12-02-1\">【108.12.02】太陽光電--誠徵長期工讀生 1 名</a></span></strong></span></p>\r\n",
            "<p><span style=\"color: #0000ff; font-size: 10pt; background-color: #ffffff;\"><strong><span style=\"font-family: arial black,sans-serif;\"><a style=\"color: #0000ff; background-color: #ffffff;\" href=\"http://www.im.must.edu.tw/index.php/2020-03-27-01-31-36/260-108-11-23-2\">【108.11.23】雲集科技--徵軟體開發助理工程師2名</a></span></strong></span></p>\r\n",
            "<p><span style=\"color: #0000ff; font-size: 10pt; background-color: #ffffff;\"><strong><span style=\"font-family: arial black,sans-serif;\"><a style=\"color: #0000ff; background-color: #ffffff;\" href=\"http://www.im.must.edu.tw/index.php/2020-03-27-01-31-36/257-108-09-19-sap-erp-1\">【108.09.19】鐿鈦科技--徵SAP、ERP程式開發工程師1名</a></span></strong></span></p>\r\n",
            "<p><span style=\"color: #0000ff; font-size: 10pt; background-color: #ffffff;\"><strong><span style=\"font-family: arial black,sans-serif;\"><a style=\"color: #0000ff; background-color: #ffffff;\" href=\"http://www.im.must.edu.tw/index.php/2020-03-27-01-31-36/255-108-07-02-pm\">【108.07.02】瑞禾全球生醫--徵專案經理PM</a></span></strong></span></p>\r\n",
            "<p><span style=\"color: #0000ff; font-size: 10pt; background-color: #ffffff;\"><strong><span style=\"font-family: arial black,sans-serif;\"><a style=\"color: #0000ff; background-color: #ffffff;\" href=\"http://www.im.must.edu.tw/index.php/2020-03-27-01-31-36/254-108-07-02\">【108.07.02】日商台灣迪恩士半導體科技--半導體設備軟體工程師招募</a></span></strong></span></p>\r\n",
            "<p><span style=\"color: #0000ff; background-color: #ffffff;\"><strong><span style=\"font-size: 10pt;\"><span style=\"font-family: arial black,sans-serif;\"><a style=\"color: #0000ff; background-color: #ffffff;\" href=\"http://www.im.must.edu.tw/index.php/2020-03-27-01-31-36/253-108-04-10-1\">【108.04.10】精誠資訊新竹分公司-誠徵工讀生1名</a></span></span></strong></span></p>\r\n",
            "\n",
            "\t\t\t</div>\n",
            "\t\t\t<div id='pane_eZVgQt_3' class='tab-pane  ' STYLE>\n",
            "\t\t\t\t\r\n",
            "<p><span style=\"color: #0000ff; font-family: arial black,sans-serif; font-size: 10pt;\"><strong><a style=\"color: #0000ff;\" href=\"https://www.must.edu.tw/about/nouse/110-2.pdf\" target=\"_blank\">110-2校園行事曆</a></strong></span></p>\r\n",
            "<p><span style=\"color: #0000ff; font-family: arial black,sans-serif; font-size: 10pt;\"><a style=\"color: #0000ff;\" href=\"https://www.must.edu.tw/about/nouse/110-1-1100514.pdf\" target=\"_blank\"><strong>110-1校園行事曆</strong></a></span></p>\r\n",
            "<p><span style=\"color: #0000ff; font-family: arial black,sans-serif; font-size: 10pt;\"><a style=\"color: #0000ff;\" href=\"https://www.must.edu.tw/about/nouse/109-2.pdf\" target=\"_blank\"><strong>109-2校園行事曆</strong></a></span></p>\r\n",
            "<p><span style=\"color: #0000ff; font-family: arial black,sans-serif; font-size: 10pt;\"><a style=\"color: #0000ff;\" href=\"https://www.must.edu.tw/about/nouse/109-1.pdf\" target=\"_blank\"><strong>109-1校園行事曆</strong></a></span></p>\r\n",
            "\n",
            "\t\t\t</div></div></div></div></div><div class=\"col-md-3 col-sm-3 col-xs-12\" ><div class='pb-element-container pb-element-text text-bebrdi' ><div>\r\n",
            "<h4><span style=\"font-family: arial black,sans-serif; font-size: 14pt;\">系學會活動影片</span></h4>\r\n",
            "<p></div></div><div class='pb-element-container pb-element-text text-xjvzsa' ><div>\r\n",
            "<p><iframe src=\"https://www.youtube.com/embed/FP2oAxAQfyM\" width=\"560\" height=\"315\" frameborder=\"0\" allowfullscreen=\"\"></iframe></p>\r\n",
            "<p></div></div><div class='jsn-bootstrap3 jsn-pagebuilder pb-element-container pb-element-list' ><ul class='pb-list-icons  pb-position-left pb-shape-circle pb-icon-32'>\n",
            "\t\t<li>\n",
            "\t\t\t<div class='pb-icon-base' style='background-color: #0088CC;color: #ffffff'>\n",
            "\t\t\t\t<i class='fa-download'></i>\n",
            "\t\t\t</div>\n",
            "\t\t\t<div class='pb-list-content-wrap'>\n",
            "\t\t\t\t<h4 style=''>常用表單</h4>\n",
            "\t\t\t\t<div class='pb-list-content'>\n",
            "\t\t\t\t\t</p>\r\n",
            "<p><a href=\"/images/document/news/2.pdf\" target=\"_blank\">學生請假單</a></p>\r\n",
            "<p><a href=\"/images/document/news/1091214new.odt\" target=\"_blank\">學生公假單</a></p>\r\n",
            "<p><a href=\"http://webc1.must.edu.tw/jtmust068/index.php?option=com_attachments&task=download&id=83\" target=\"_blank\">志願服務認證單(軟能力A-C-2)</a></p>\r\n",
            "<p>\n",
            "\t\t\t\t</div>\n",
            "\t\t\t</div>\n",
            "\t\t</li><!--seperate--></ul><div style=\"clear: both\"></div></div><div class='jsn-bootstrap3 jsn-pagebuilder pb-element-container pb-element-list' ><ul class='pb-list-icons  pb-position-left pb-shape-circle pb-icon-32'>\n",
            "\t\t<li>\n",
            "\t\t\t<div class='pb-icon-base' style='background-color: #0088CC;color: #ffffff'>\n",
            "\t\t\t\t<i class='fa-cube'></i>\n",
            "\t\t\t</div>\n",
            "\t\t\t<div class='pb-list-content-wrap'>\n",
            "\t\t\t\t<h4 style=''>相關連結</h4>\n",
            "\t\t\t\t<div class='pb-list-content'>\n",
            "\t\t\t\t\t</p>\r\n",
            "<p><a href=\"https://sss.must.edu.tw/std_service.html\" target=\"_blank\">學生專區</a></p>\r\n",
            "<p><a href=\"https://sss.must.edu.tw/teach_service.html\" target=\"_blank\">教職員專區</a></p>\r\n",
            "<p><a href=\"/images/document/link/D-C-7.pdf\" target=\"_blank\">資通安全學程</a></p>\r\n",
            "<p><a href=\"http://www.lib.must.edu.tw/eResources/eMaterials.html\" target=\"_blank\">電腦認證教學教材</a></p>\r\n",
            "<p><a href=\"/images/document/link/001.pdf\" target=\"_blank\">校園保護智慧財產權公告</a></p>\r\n",
            "<p><a href=\"http://ftp.im.must.edu.tw/DreamSpark/\" target=\"_blank\">微軟Azure Dev Tools for Teaching下載(僅開放給資管系內IP使用)</a></p>\r\n",
            "<p><a href=\"https://www.1111.com.tw/college/college.asp?sc=must&agent=OUT_campusbookmust\" target=\"_blank\">明新科大1111職場導航</a></p>\r\n",
            "<p><a href=\"https://www.facebook.com/明新資管系友會-801436546865738/\" target=\"_blank\">資管系友會Facebook</a></p>\r\n",
            "<p><a href=\"https://www.facebook.com/MustIMSA\" target=\"_blank\">資管系學會Facebook</a></p>\r\n",
            "<p><a href=\"https://instagram.com/must_im28th?r=nametag\" target=\"_blank\">資管系學會Instagram</a></p>\r\n",
            "<p>\n",
            "\t\t\t\t</div>\n",
            "\t\t\t</div>\n",
            "\t\t</li><!--seperate--></ul><div style=\"clear: both\"></div></div></div></div></div></p></div>\n",
            "\t\t\t\t\t\t\t\t</div>\n",
            "\t\t\t\t\t\t<div id=\"jsn-maincontent_inner\"><div id=\"jsn-maincontent_inner1\"><div id=\"jsn-maincontent_inner2\"><div id=\"jsn-maincontent_inner3\"><div id=\"jsn-maincontent_inner4\"><div id=\"jsn-maincontent_inner5\" class=\"row-fluid\">\n",
            "\t\t\t\t\t\t\t\t<div id=\"jsn-centercol\" class=\"span12 order1 \">\n",
            "\t                        <div id=\"jsn-centercol_inner\">\n",
            "\t\t\t\t\t\t\t\t\t<div id=\"jsn-mainbody-content\" class=\" jsn-hasmainbody\">\n",
            "\t\t\t\t\t\t\t\t\t\t\t<div id=\"jsn-mainbody\">\n",
            "\t\t\t\t\t\t\t\t\t\t<div id=\"system-message-container\">\n",
            "\t</div>\n",
            "\n",
            "\t\t\t\t\t\t\t\t\t\t<div class=\"category-list\">\n",
            "\n",
            "<div>\n",
            "\t<div class=\"content-category\">\n",
            "\t\t\n",
            "\t\t\n",
            "\t\t\n",
            "\t\t\t\t<form action=\"http://www.im.must.edu.tw/\" method=\"post\" name=\"adminForm\" id=\"adminForm\" class=\"form-inline\">\n",
            "\t\n",
            "\t<table class=\"category table table-striped table-bordered table-hover\">\n",
            "\t\t\t\t\t\t<tbody>\n",
            "\t\t\t\t\t</tbody>\n",
            "\t</table>\n",
            "\n",
            "\n",
            "\n",
            "\t\t\t</div>\n",
            "</div>\n",
            "\n",
            "\n",
            "</div>\n",
            "\n",
            "\t\t\t\t\t\t\t\t\t</div>\n",
            "\t\t\t\t\t\t\t\t\t</div>\n",
            "\t\t        \t\t\t\t</div></div> <!-- end centercol -->\n",
            "        \t\t\t\t\t</div></div></div></div></div></div></div>\n",
            "\t\t\t\t</div>\n",
            "\t\t\t\t\t</div>\n",
            "\t\t\t\t</div>\n",
            "\t\t\t\t\t<div id=\"jsn-footer\">\n",
            "\t\t\t\t<div id=\"jsn-footer_inner\">\n",
            "\t\t\t\t\t<div id=\"jsn-footermodules\" class=\"jsn-modulescontainer jsn-modulescontainer2 row-fluid\">\n",
            "\t\t\t\t\t\t\t\t<div id=\"jsn-pos-footer\" class=\"span6\">\n",
            "\t\t\t\t\t\t<div class=\" jsn-modulecontainer\"><div class=\"jsn-modulecontainer_inner\"><div class=\"jsn-modulecontent\">\n",
            "<div class=\"jsn-mod-custom\">\n",
            "\t<p><a title=\"明新科大地圖\" href=\"https://www.google.com/maps/place/304%E5%8F%B0%E7%81%A3%E6%96%B0%E7%AB%B9%E7%B8%A3%E6%96%B0%E8%B1%90%E9%84%89%E6%96%B0%E8%88%88%E8%B7%AF1%E8%99%9F/@24.863851,120.991217,15z/data=!4m5!3m4!1s0x34683154f00767ff:0xc036e80a53993101!8m2!3d24.8638512!4d120.9912167?hl=zh-TW\" target=\"_blank\"><img src=\"/images/Image-11.jpg\" alt=\"\" width=\"367\" height=\"157\" /></a></p></div><div class=\"clearbreak\"></div></div></div></div>\n",
            "\t\t\t\t\t</div>\n",
            "\t\t\t\t\t\t\t\t<div id=\"jsn-pos-bottom\" class=\"span6\">\n",
            "\t\t\t\t\t\t<div class=\" jsn-modulecontainer\"><div class=\"jsn-modulecontainer_inner\"><div class=\"jsn-modulecontent\">\n",
            "<div class=\"jsn-mod-custom\">\n",
            "\t<p>Copyright © 2017 - 2027<br /><br />明新學校財團法人明新科技大學<br />Minghsin University of Science and Technology <br />地址：30401新竹縣新豐鄉新興路1號 管理學院大樓二樓<br />Address: No.1, Xinxing Rd., Xinfeng Hsinchu 30401, Taiwan(R.O.C) </p>\r\n",
            "<p>TEL：(03)-5593142 #3431~3433<br />FAX：(03)-5593142 #3460<br />E-mail: <span id=\"cloak88b9cb65d0c5abaa0abb51c3e1a19456\">This email address is being protected from spambots. You need JavaScript enabled to view it.</span><script type='text/javascript'>\n",
            "\t\t\t\tdocument.getElementById('cloak88b9cb65d0c5abaa0abb51c3e1a19456').innerHTML = '';\n",
            "\t\t\t\tvar prefix = '&#109;a' + 'i&#108;' + '&#116;o';\n",
            "\t\t\t\tvar path = 'hr' + 'ef' + '=';\n",
            "\t\t\t\tvar addy88b9cb65d0c5abaa0abb51c3e1a19456 = 'sh&#105;h' + '&#64;';\n",
            "\t\t\t\taddy88b9cb65d0c5abaa0abb51c3e1a19456 = addy88b9cb65d0c5abaa0abb51c3e1a19456 + 'm&#117;st' + '&#46;' + '&#101;d&#117;' + '&#46;' + 'tw';\n",
            "\t\t\t\tvar addy_text88b9cb65d0c5abaa0abb51c3e1a19456 = 'sh&#105;h' + '&#64;' + 'm&#117;st' + '&#46;' + '&#101;d&#117;' + '&#46;' + 'tw';document.getElementById('cloak88b9cb65d0c5abaa0abb51c3e1a19456').innerHTML += '<a title=\"shih@must.edu.tw\" ' + path + '\\'' + prefix + ':' + addy88b9cb65d0c5abaa0abb51c3e1a19456 + '\\' target=\"_blank\">'+addy_text88b9cb65d0c5abaa0abb51c3e1a19456+'<\\/a>';\n",
            "\t\t</script>、<span id=\"cloak0fe3dcfc0071b05181976de413199e07\">This email address is being protected from spambots. You need JavaScript enabled to view it.</span><script type='text/javascript'>\n",
            "\t\t\t\tdocument.getElementById('cloak0fe3dcfc0071b05181976de413199e07').innerHTML = '';\n",
            "\t\t\t\tvar prefix = '&#109;a' + 'i&#108;' + '&#116;o';\n",
            "\t\t\t\tvar path = 'hr' + 'ef' + '=';\n",
            "\t\t\t\tvar addy0fe3dcfc0071b05181976de413199e07 = 'r&#117;by' + '&#64;';\n",
            "\t\t\t\taddy0fe3dcfc0071b05181976de413199e07 = addy0fe3dcfc0071b05181976de413199e07 + 'm&#117;st' + '&#46;' + '&#101;d&#117;' + '&#46;' + 'tw';\n",
            "\t\t\t\tvar addy_text0fe3dcfc0071b05181976de413199e07 = 'r&#117;by' + '&#64;' + 'm&#117;st' + '&#46;' + '&#101;d&#117;' + '&#46;' + 'tw';document.getElementById('cloak0fe3dcfc0071b05181976de413199e07').innerHTML += '<a title=\"ruby@must.edu.tw\" ' + path + '\\'' + prefix + ':' + addy0fe3dcfc0071b05181976de413199e07 + '\\' target=\"_blank\">'+addy_text0fe3dcfc0071b05181976de413199e07+'<\\/a>';\n",
            "\t\t</script></p></div><div class=\"clearbreak\"></div></div></div></div>\n",
            "\t\t\t\t\t</div>\n",
            "\t\t\t\t\t\t\t\t<div class=\"clearbreak\"></div>\n",
            "\t\t\t\t</div>\n",
            "\t\t\t</div>\n",
            "\t\t</div>\n",
            "\t\t\t</div>\n",
            "\t\t\t<a id=\"jsn-gotoplink\" href=\"http://www.im.must.edu.tw/#top\">\n",
            "\t\t\t<span>Go to top</span>\n",
            "\t\t</a>\n",
            "\t\n",
            "</body>\n",
            "</html>\n",
            "\n"
          ]
        }
      ]
    },
    {
      "cell_type": "markdown",
      "source": [
        "# CH1"
      ],
      "metadata": {
        "id": "7E5nmAGSujNt"
      }
    },
    {
      "cell_type": "code",
      "source": [
        "a=3  #單行註解\n",
        "b=5\n",
        "print(a+b)"
      ],
      "metadata": {
        "id": "LhRY0pR1uyA6"
      },
      "execution_count": null,
      "outputs": []
    },
    {
      "cell_type": "code",
      "source": [
        "'''\n",
        "多行註解\n",
        "多行註解\n",
        "多行註解\n",
        "'''\n",
        "a=3\n",
        "b=5\n",
        "print(a+b)"
      ],
      "metadata": {
        "id": "X1wg0R3Ru22j"
      },
      "execution_count": null,
      "outputs": []
    },
    {
      "cell_type": "code",
      "source": [
        "x, y, z= 3, 4, 5 #變數平行設定\n",
        "print(x)\n",
        "print(y)\n",
        "print(z)"
      ],
      "metadata": {
        "colab": {
          "base_uri": "https://localhost:8080/"
        },
        "id": "gu-W_Tnwu5Wh",
        "outputId": "fe3cc6d4-d1fa-473c-9359-863e6c7f0257"
      },
      "execution_count": null,
      "outputs": [
        {
          "output_type": "stream",
          "name": "stdout",
          "text": [
            "3\n",
            "4\n",
            "5\n"
          ]
        }
      ]
    },
    {
      "cell_type": "code",
      "source": [
        "import matplotlib.pyplot as plt\n",
        "x=[10,20,30]\n",
        "y=[20,30,40]\n",
        "plt.bar(x,y)\n",
        "plt.show"
      ],
      "metadata": {
        "colab": {
          "base_uri": "https://localhost:8080/",
          "height": 284
        },
        "id": "fsetF_KDhVFY",
        "outputId": "e461af9a-a523-40dd-ddb1-f63bd38864b8"
      },
      "execution_count": null,
      "outputs": [
        {
          "output_type": "execute_result",
          "data": {
            "text/plain": [
              "<function matplotlib.pyplot.show>"
            ]
          },
          "metadata": {},
          "execution_count": 5
        },
        {
          "output_type": "display_data",
          "data": {
            "image/png": "[encoded data removed]",
            "text/plain": [
              "<Figure size 432x288 with 1 Axes>"
            ]
          },
          "metadata": {
            "needs_background": "light"
          }
        }
      ]
    },
    {
      "cell_type": "code",
      "source": [
        "import matplotlib.pyplot as plt\n",
        "x=[1,2,3]\n",
        "y=[0,3,4]\n",
        "plt.pie(x,labels=y)\n",
        "plt.show"
      ],
      "metadata": {
        "colab": {
          "base_uri": "https://localhost:8080/",
          "height": 266
        },
        "id": "6M5qkSoBiotJ",
        "outputId": "ee9dbca0-c0f6-47cc-f752-56e6bed4cfe0"
      },
      "execution_count": null,
      "outputs": [
        {
          "output_type": "execute_result",
          "data": {
            "text/plain": [
              "<function matplotlib.pyplot.show>"
            ]
          },
          "metadata": {},
          "execution_count": 9
        },
        {
          "output_type": "display_data",
          "data": {
            "image/png": "[encoded data removed]",
            "text/plain": [
              "<Figure size 432x288 with 1 Axes>"
            ]
          },
          "metadata": {}
        }
      ]
    },
    {
      "cell_type": "code",
      "source": [
        "'''\n",
        "多行註解\n",
        "'''\n",
        "#單行註解\n"
      ],
      "metadata": {
        "id": "Ys65VfuNo_r-"
      },
      "execution_count": null,
      "outputs": []
    },
    {
      "cell_type": "code",
      "source": [
        "x=1\n",
        "y=10\n",
        "z=x\n",
        "x=y\n",
        "y=z\n",
        "print(x)"
      ],
      "metadata": {
        "colab": {
          "base_uri": "https://localhost:8080/"
        },
        "id": "-R7T6gk5sV4s",
        "outputId": "203e2e2f-53fe-4d3c-e3e4-fccb728af577"
      },
      "execution_count": null,
      "outputs": [
        {
          "output_type": "stream",
          "name": "stdout",
          "text": [
            "10\n"
          ]
        }
      ]
    },
    {
      "cell_type": "code",
      "source": [
        "#變數交換 不透過第三變數\n",
        "x=1\n",
        "y=10\n",
        "x=x+y\n",
        "y=x-y\n",
        "x=x-y\n",
        "print(x,y)"
      ],
      "metadata": {
        "id": "h7a0YxpItrRr"
      },
      "execution_count": null,
      "outputs": []
    },
    {
      "cell_type": "code",
      "source": [
        "#python 變數交換\n",
        "x=1\n",
        "y=10\n",
        "x,y=y,x\n",
        "print(x,y)"
      ],
      "metadata": {
        "id": "qyh3hRFzu_US"
      },
      "execution_count": null,
      "outputs": []
    },
    {
      "cell_type": "markdown",
      "source": [
        "# CH2流程控制"
      ],
      "metadata": {
        "id": "-kMKZoYWr93K"
      }
    },
    {
      "cell_type": "code",
      "source": [
        "a=3\n",
        "b=4\n",
        "if a>b:\n",
        "  print(\"a>b\")#if後面不用()但是要加:\n",
        "  #print要記的縮排\n",
        "elif a==b:#else if\n",
        "  print(\"a=b\")\n",
        "else :\n",
        "  print(\"a<b\")\n"
      ],
      "metadata": {
        "colab": {
          "base_uri": "https://localhost:8080/"
        },
        "id": "qCbSiK8LsM_3",
        "outputId": "1c4e49ea-9150-42bc-ff42-4d9d1e42c04b"
      },
      "execution_count": null,
      "outputs": [
        {
          "output_type": "stream",
          "name": "stdout",
          "text": [
            "a<b\n"
          ]
        }
      ]
    },
    {
      "cell_type": "code",
      "source": [
        "grade=66\n",
        "print(\"成績評鑑\")\n",
        "if grade>=90:\n",
        "  print(\"優等\")\n",
        "if grade>=80:\n",
        "  print(\"甲等\")\n",
        "if grade>=70:\n",
        "  print(\"乙等\")\n",
        "if grade>=60:\n",
        "  print(\"丙等\")\n",
        "if grade<60:\n",
        "  print(\"不及格\")"
      ],
      "metadata": {
        "id": "Q5amYtBCxfVo"
      },
      "execution_count": null,
      "outputs": []
    },
    {
      "cell_type": "code",
      "source": [
        "for i in range(11):#range(11)不能大於11,也包含11\n",
        "   print(i)"
      ],
      "metadata": {
        "colab": {
          "base_uri": "https://localhost:8080/"
        },
        "id": "idmnCVhB2Nq4",
        "outputId": "787b23f8-6706-43b3-b2d4-62b8cf327976"
      },
      "execution_count": null,
      "outputs": [
        {
          "output_type": "stream",
          "name": "stdout",
          "text": [
            "0\n",
            "1\n",
            "2\n",
            "3\n",
            "4\n",
            "5\n",
            "6\n",
            "7\n",
            "8\n",
            "9\n",
            "10\n"
          ]
        }
      ]
    },
    {
      "cell_type": "code",
      "source": [
        "for i in (0,10,1):#從0開始小於10每次+1\n",
        "      print(i)"
      ],
      "metadata": {
        "colab": {
          "base_uri": "https://localhost:8080/"
        },
        "id": "yK9N7Kgp29AY",
        "outputId": "e78edc08-6f0d-4670-84f5-98e128831009"
      },
      "execution_count": null,
      "outputs": [
        {
          "output_type": "stream",
          "name": "stdout",
          "text": [
            "0\n",
            "10\n",
            "1\n"
          ]
        }
      ]
    },
    {
      "cell_type": "code",
      "source": [
        "for i in \"i am cat\":#從0開始小於10每次+1\n",
        "      print(i)\n",
        "for c in [\"Java\", \"C#\", \"Python\"]:\n",
        "    print(c)"
      ],
      "metadata": {
        "colab": {
          "base_uri": "https://localhost:8080/"
        },
        "id": "Z9kgacQs4zto",
        "outputId": "a630c282-7c37-4315-de92-402ca1d60664"
      },
      "execution_count": null,
      "outputs": [
        {
          "output_type": "stream",
          "name": "stdout",
          "text": [
            "i\n",
            " \n",
            "a\n",
            "m\n",
            " \n",
            "c\n",
            "a\n",
            "t\n",
            "Java\n",
            "C#\n",
            "Python\n"
          ]
        }
      ]
    },
    {
      "cell_type": "code",
      "source": [
        "sum=0\n",
        "for i in range(1,11,1):\n",
        "   sum+=i\n",
        "print(sum)"
      ],
      "metadata": {
        "colab": {
          "base_uri": "https://localhost:8080/"
        },
        "id": "8S5_bT0J7Mi4",
        "outputId": "1c5b57a2-d279-4dc9-f7d3-9dd1ef7c52e2"
      },
      "execution_count": null,
      "outputs": [
        {
          "output_type": "stream",
          "name": "stdout",
          "text": [
            "55\n"
          ]
        }
      ]
    },
    {
      "cell_type": "code",
      "source": [
        "for chicken in range(0,36):#0~35\n",
        "    rabbit=35-chicken\n",
        "    if (2*chicken+4*rabbit) == 94:\n",
        "        print(\"雞有\",chicken,\"隻,兔子有\",rabbit,\"隻\")\n",
        "        break\n",
        "else:\n",
        "    print(\"無解\")"
      ],
      "metadata": {
        "id": "AcSrqMbo9O8Y"
      },
      "execution_count": null,
      "outputs": []
    },
    {
      "cell_type": "code",
      "source": [
        "i=1\n",
        "sum=0\n",
        "while i <11:\n",
        "    sum +=i\n",
        "    i+=1\n",
        "print(sum)"
      ],
      "metadata": {
        "colab": {
          "base_uri": "https://localhost:8080/"
        },
        "id": "dE-Kve7F9zh4",
        "outputId": "1b36d4bd-05ad-4bff-8092-61280ab73cdb"
      },
      "execution_count": null,
      "outputs": [
        {
          "output_type": "stream",
          "name": "stdout",
          "text": [
            "55\n"
          ]
        }
      ]
    },
    {
      "cell_type": "markdown",
      "source": [
        "# 帳號密碼"
      ],
      "metadata": {
        "id": "-XKKgXzaylgn"
      }
    },
    {
      "cell_type": "code",
      "source": [
        "id=\"tony\"\n",
        "pwd=\"123\"\n",
        "while True:\n",
        "  x=input(\"請輸入您的帳號\")\n",
        "  y=input(\"請輸入您的密碼\")\n",
        "  if(x==id and y==pwd):\n",
        "    print(\"歡迎!!\")\n",
        "    break\n",
        "  else:\n",
        "    print(\"帳號密碼輸入錯誤\")\n"
      ],
      "metadata": {
        "colab": {
          "base_uri": "https://localhost:8080/"
        },
        "id": "HawN-k_ayutW",
        "outputId": "077cfe36-633d-4f3c-ec4a-fd00a459b574"
      },
      "execution_count": null,
      "outputs": [
        {
          "output_type": "stream",
          "name": "stdout",
          "text": [
            "請輸入您的帳號123\n",
            "請輸入您的密碼123\n",
            "帳號密碼輸入錯誤\n",
            "請輸入您的帳號tony\n",
            "請輸入您的密碼123\n",
            "歡迎!!\n"
          ]
        }
      ]
    },
    {
      "cell_type": "code",
      "source": [
        "import random\n",
        "\n",
        "for i in range(10): #rang(10)=0-9\n",
        " print(random.randint(1,9))"
      ],
      "metadata": {
        "colab": {
          "base_uri": "https://localhost:8080/"
        },
        "id": "NW0uiD712IDc",
        "outputId": "ae672f0c-d0f3-4464-e829-1e2076d5e1f8"
      },
      "execution_count": null,
      "outputs": [
        {
          "output_type": "stream",
          "name": "stdout",
          "text": [
            "7\n",
            "9\n",
            "8\n",
            "5\n",
            "6\n",
            "5\n",
            "6\n",
            "5\n",
            "4\n",
            "1\n"
          ]
        }
      ]
    },
    {
      "cell_type": "code",
      "source": [
        "import random\n",
        "number=random.randint(1,15)\n",
        "while True:\n",
        "  guess=int(input(\"請猜1-15的一個數字:\"))\n",
        "  if(guess==number):\n",
        "    print(\"猜對了\")\n",
        "    break\n",
        "  else:\n",
        "    print(\"請猜1-15的一個數字:\")"
      ],
      "metadata": {
        "colab": {
          "base_uri": "https://localhost:8080/"
        },
        "id": "CylNHY1s4g7d",
        "outputId": "de3985a2-1dde-4f8d-9be9-adb156276d12"
      },
      "execution_count": null,
      "outputs": [
        {
          "output_type": "stream",
          "name": "stdout",
          "text": [
            "請猜1-15的一個數字:10\n",
            "請猜1-15的一個數字:\n",
            "請猜1-15的一個數字:26\n",
            "請猜1-15的一個數字:\n",
            "請猜1-15的一個數字:15\n",
            "請猜1-15的一個數字:\n",
            "請猜1-15的一個數字:12\n",
            "請猜1-15的一個數字:\n",
            "請猜1-15的一個數字:1\n",
            "請猜1-15的一個數字:\n",
            "請猜1-15的一個數字:5\n",
            "請猜1-15的一個數字:\n",
            "請猜1-15的一個數字:7\n",
            "請猜1-15的一個數字:\n",
            "請猜1-15的一個數字:9\n",
            "請猜1-15的一個數字:\n",
            "請猜1-15的一個數字:11\n",
            "猜對了\n"
          ]
        }
      ]
    },
    {
      "cell_type": "markdown",
      "source": [
        "Python物件"
      ],
      "metadata": {
        "id": "vGyUX_3g5PUj"
      }
    },
    {
      "cell_type": "markdown",
      "source": [
        "List[串列]Tuple[元祖]Dictionary[字典]Sets[集合]"
      ],
      "metadata": {
        "id": "62s1M13I5ahD"
      }
    },
    {
      "cell_type": "markdown",
      "source": [
        "List 字串"
      ],
      "metadata": {
        "id": "ah7uagwY5ohm"
      }
    },
    {
      "cell_type": "code",
      "source": [
        "score=[100,90,80,70,60]\n",
        "print(score[0])\n",
        "print(score[-1])#從最後一個開始\n",
        "print(score[:3])#前三筆\n",
        "print(score[3:])#第三筆以後\n",
        "print(score[:])#全印\n",
        "print(score[::2])#跳兩個印"
      ],
      "metadata": {
        "colab": {
          "base_uri": "https://localhost:8080/"
        },
        "id": "CbrUCWWS7T0p",
        "outputId": "78e6ad19-8404-468f-ca12-55a6bc6abf3f"
      },
      "execution_count": null,
      "outputs": [
        {
          "output_type": "stream",
          "name": "stdout",
          "text": [
            "100\n",
            "60\n",
            "[100, 90, 80]\n",
            "[70, 60]\n",
            "[100, 90, 80, 70, 60]\n"
          ]
        }
      ]
    },
    {
      "cell_type": "code",
      "source": [
        "arr=\"abcdefghijklmnopqrsyuvwxyz\"\n",
        "print(arr[5:26:2])#從第6個開始印全部26個每次跳2個印\n",
        "print(arr[3:15])#第三個到第14個\n",
        "print(arr[3:15:3])\n",
        "print(arr[15:3:-3])"
      ],
      "metadata": {
        "colab": {
          "base_uri": "https://localhost:8080/"
        },
        "id": "p8hTvciwFpNQ",
        "outputId": "3b67322f-7510-4461-85f2-70b3eac128d7"
      },
      "execution_count": null,
      "outputs": [
        {
          "output_type": "stream",
          "name": "stdout",
          "text": [
            "fhjlnpryvxz\n",
            "defghijklmno\n",
            "dgjm\n",
            "pmjg\n"
          ]
        }
      ]
    },
    {
      "cell_type": "code",
      "source": [
        ""
      ],
      "metadata": {
        "id": "gfq0k5pOFx9P"
      },
      "execution_count": null,
      "outputs": []
    },
    {
      "cell_type": "markdown",
      "source": [
        "Tuple"
      ],
      "metadata": {
        "id": "Mt44hJrI-Igc"
      }
    },
    {
      "cell_type": "code",
      "source": [
        "a_tuple=('python','js','SQL')\n",
        "print(a_tuple)\n",
        "b_List=['go','c#','zz']\n",
        "b_tuple=tuple(b_List)\n",
        "print(b_tuple)\n",
        "print(b_tuple[1])"
      ],
      "metadata": {
        "colab": {
          "base_uri": "https://localhost:8080/"
        },
        "id": "h2CSAnB6F1A2",
        "outputId": "48a0c706-ce3b-4200-d353-28bf6ec6b018"
      },
      "execution_count": null,
      "outputs": [
        {
          "output_type": "stream",
          "name": "stdout",
          "text": [
            "('python', 'js', 'SQL')\n",
            "('go', 'c#', 'zz')\n",
            "c#\n"
          ]
        }
      ]
    },
    {
      "cell_type": "code",
      "source": [
        "a_dict={0:'go',1:'c',2:'vv'}\n",
        "print(a_dict)\n",
        "print(a_dict[1])\n",
        "print(a_dict[2])\n",
        "b_dict={'name':'hi','mail':'apple','sid':'fish'}\n",
        "print(b_dict['sid'])"
      ],
      "metadata": {
        "id": "iM84VMhJIu-D"
      },
      "execution_count": null,
      "outputs": []
    },
    {
      "cell_type": "markdown",
      "source": [
        "numpy套件"
      ],
      "metadata": {
        "id": "cSfUcn-fMYEK"
      }
    },
    {
      "cell_type": "code",
      "source": [
        "a_list=[1,2,3,4,5]\n",
        "print(a_list*3)"
      ],
      "metadata": {
        "id": "8UtqLK9gMaBy"
      },
      "execution_count": null,
      "outputs": []
    },
    {
      "cell_type": "code",
      "source": [
        "import numpy as np\n",
        "a=np.array([1,2,3,4,5])\n",
        "print(a*3)"
      ],
      "metadata": {
        "id": "GspXVAeYM7wR"
      },
      "execution_count": null,
      "outputs": []
    },
    {
      "cell_type": "code",
      "source": [
        "a=np.array([1,2,3,4,5])\n",
        "print(type(a))\n",
        "print(a.shape)#ndaary的型態\n",
        "print(a.dtype)#資料的型態\n",
        "print(a.ndim)#維度"
      ],
      "metadata": {
        "colab": {
          "base_uri": "https://localhost:8080/"
        },
        "id": "KvyJeQgROJdp",
        "outputId": "a8944585-eccb-4b99-b347-6481e1df4713"
      },
      "execution_count": null,
      "outputs": [
        {
          "output_type": "stream",
          "name": "stdout",
          "text": [
            "<class 'numpy.ndarray'>\n",
            "(5,)\n",
            "int64\n",
            "1\n"
          ]
        }
      ]
    },
    {
      "cell_type": "code",
      "source": [
        "my_2d_array=np.array([np.arange(0,5),np.arange(5,10)])\n",
        "print(my_2d_array)\n",
        "print(my_2d_array[1,:])#取第\"1\"維的資料\n",
        "print(my_2d_array[:,1])#取所有位置中第\"1\"位置的資料\n",
        "print(my_2d_array[1,1])#取第\"1\"維第\"1\"位置的資料"
      ],
      "metadata": {
        "id": "OIPzNY-pUN53"
      },
      "execution_count": null,
      "outputs": []
    },
    {
      "cell_type": "code",
      "source": [
        "a=np.zeros(10)\n",
        "print(a)\n",
        "print(a.ndim)#一維List 1*10\n",
        "b=a.reshape(2,5)#改變a的維度維2*5\n",
        "print(b)"
      ],
      "metadata": {
        "id": "AP0bMrOfWFZu"
      },
      "execution_count": null,
      "outputs": []
    },
    {
      "cell_type": "code",
      "source": [
        "my_array=np.arange(0,10)\n",
        "print(my_array)\n",
        "print(my_array.shape)\n",
        "my_2d_array=my_array.reshape(2,5)\n",
        "print(my_2d_array)\n",
        "print((np.arange(0,100).reshape(10,10)))"
      ],
      "metadata": {
        "colab": {
          "base_uri": "https://localhost:8080/"
        },
        "id": "vcrxbntoWWpO",
        "outputId": "bddb3444-5838-4cde-a7fb-875927c3edc3"
      },
      "execution_count": null,
      "outputs": [
        {
          "output_type": "stream",
          "name": "stdout",
          "text": [
            "[0 1 2 3 4 5 6 7 8 9]\n",
            "(10,)\n",
            "[[0 1 2 3 4]\n",
            " [5 6 7 8 9]]\n",
            "[[ 0  1  2  3  4  5  6  7  8  9]\n",
            " [10 11 12 13 14 15 16 17 18 19]\n",
            " [20 21 22 23 24 25 26 27 28 29]\n",
            " [30 31 32 33 34 35 36 37 38 39]\n",
            " [40 41 42 43 44 45 46 47 48 49]\n",
            " [50 51 52 53 54 55 56 57 58 59]\n",
            " [60 61 62 63 64 65 66 67 68 69]\n",
            " [70 71 72 73 74 75 76 77 78 79]\n",
            " [80 81 82 83 84 85 86 87 88 89]\n",
            " [90 91 92 93 94 95 96 97 98 99]]\n"
          ]
        }
      ]
    },
    {
      "cell_type": "markdown",
      "source": [
        "#CH5函式\n",
        "#獨立一組程式碼 可重複使用\n",
        "\n"
      ],
      "metadata": {
        "id": "-G4pwe9c6exw"
      }
    },
    {
      "cell_type": "code",
      "source": [
        "#傳統寫法\n",
        "import math\n",
        "radius=eval(input(\"請輸入半徑\"))\n",
        "area=radius*radius*math.pi\n",
        "print(\"圓的面積為：\",area)"
      ],
      "metadata": {
        "id": "9EhjItI-7DEO"
      },
      "execution_count": null,
      "outputs": []
    },
    {
      "cell_type": "code",
      "source": [
        "import math\n",
        "def circle_area(radius):\n",
        "    area = radius * radius * math.pi\n",
        "    return area\n",
        "\n",
        "print(circle_area(10))\n"
      ],
      "metadata": {
        "id": "ZdazcWfg8dyO"
      },
      "execution_count": null,
      "outputs": []
    },
    {
      "cell_type": "markdown",
      "source": [
        "CH6檔案處理"
      ],
      "metadata": {
        "id": "e7khHg077nWS"
      }
    },
    {
      "cell_type": "code",
      "source": [
        "import os\n",
        "os.getcwd()#回傳目前的工作目錄"
      ],
      "metadata": {
        "id": "zKsPN6C87t0Q"
      },
      "execution_count": null,
      "outputs": []
    },
    {
      "cell_type": "markdown",
      "source": [
        "os.listdir(\".\")#列出目錄下有哪些檔案"
      ],
      "metadata": {
        "id": "ZGKIbIqE9NS4"
      }
    },
    {
      "cell_type": "markdown",
      "source": [
        "os.makedirs(\"test\")#新增檔案"
      ],
      "metadata": {
        "id": "gtOMluVd9kkf"
      }
    },
    {
      "cell_type": "code",
      "source": [
        "os.rmdir(\"test\")\n",
        "os.listdir(\".\")#刪除test檔案\n"
      ],
      "metadata": {
        "colab": {
          "base_uri": "https://localhost:8080/",
          "height": 190
        },
        "id": "KID_mZD_9wNn",
        "outputId": "f64640b9-adff-4e4b-f9aa-550093c7b411"
      },
      "execution_count": null,
      "outputs": [
        {
          "output_type": "error",
          "ename": "NameError",
          "evalue": "ignored",
          "traceback": [
            "\u001b[0;31m---------------------------------------------------------------------------\u001b[0m",
            "\u001b[0;31mNameError\u001b[0m                                 Traceback (most recent call last)",
            "\u001b[0;32m<ipython-input-9-a95fe29973c7>\u001b[0m in \u001b[0;36m<module>\u001b[0;34m()\u001b[0m\n\u001b[0;32m----> 1\u001b[0;31m \u001b[0mos\u001b[0m\u001b[0;34m.\u001b[0m\u001b[0mrmdir\u001b[0m\u001b[0;34m(\u001b[0m\u001b[0;34m\"test\"\u001b[0m\u001b[0;34m)\u001b[0m\u001b[0;34m\u001b[0m\u001b[0;34m\u001b[0m\u001b[0m\n\u001b[0m\u001b[1;32m      2\u001b[0m \u001b[0mos\u001b[0m\u001b[0;34m.\u001b[0m\u001b[0mlistdir\u001b[0m\u001b[0;34m(\u001b[0m\u001b[0;34m\".\"\u001b[0m\u001b[0;34m)\u001b[0m\u001b[0;31m#刪除test檔案\u001b[0m\u001b[0;34m\u001b[0m\u001b[0;34m\u001b[0m\u001b[0m\n",
            "\u001b[0;31mNameError\u001b[0m: name 'os' is not defined"
          ]
        }
      ]
    },
    {
      "cell_type": "code",
      "source": [
        "if os.path.isfile(\"a.txt\"):\n",
        "    os.remove(\"a.txt\")\n",
        "    print(\"檔案刪除成功\")\n",
        "else:\n",
        "    print(\"找不到檔案\")\n",
        "print(os.path.isfile(\"a.txt\"))"
      ],
      "metadata": {
        "colab": {
          "base_uri": "https://localhost:8080/",
          "height": 245
        },
        "id": "WfaQx4eqY9hU",
        "outputId": "2d43953d-0cc8-412d-ca9b-8fdbabeaa615"
      },
      "execution_count": null,
      "outputs": [
        {
          "output_type": "error",
          "ename": "NameError",
          "evalue": "ignored",
          "traceback": [
            "\u001b[0;31m---------------------------------------------------------------------------\u001b[0m",
            "\u001b[0;31mNameError\u001b[0m                                 Traceback (most recent call last)",
            "\u001b[0;32m<ipython-input-8-f215cf06bf58>\u001b[0m in \u001b[0;36m<module>\u001b[0;34m()\u001b[0m\n\u001b[0;32m----> 1\u001b[0;31m \u001b[0;32mif\u001b[0m \u001b[0mos\u001b[0m\u001b[0;34m.\u001b[0m\u001b[0mpath\u001b[0m\u001b[0;34m.\u001b[0m\u001b[0misfile\u001b[0m\u001b[0;34m(\u001b[0m\u001b[0;34m\"a.txt\"\u001b[0m\u001b[0;34m)\u001b[0m\u001b[0;34m:\u001b[0m\u001b[0;34m\u001b[0m\u001b[0;34m\u001b[0m\u001b[0m\n\u001b[0m\u001b[1;32m      2\u001b[0m     \u001b[0mos\u001b[0m\u001b[0;34m.\u001b[0m\u001b[0mremove\u001b[0m\u001b[0;34m(\u001b[0m\u001b[0;34m\"a.txt\"\u001b[0m\u001b[0;34m)\u001b[0m\u001b[0;34m\u001b[0m\u001b[0;34m\u001b[0m\u001b[0m\n\u001b[1;32m      3\u001b[0m     \u001b[0mprint\u001b[0m\u001b[0;34m(\u001b[0m\u001b[0;34m\"檔案刪除成功\"\u001b[0m\u001b[0;34m)\u001b[0m\u001b[0;34m\u001b[0m\u001b[0;34m\u001b[0m\u001b[0m\n\u001b[1;32m      4\u001b[0m \u001b[0;32melse\u001b[0m\u001b[0;34m:\u001b[0m\u001b[0;34m\u001b[0m\u001b[0;34m\u001b[0m\u001b[0m\n\u001b[1;32m      5\u001b[0m     \u001b[0mprint\u001b[0m\u001b[0;34m(\u001b[0m\u001b[0;34m\"找不到檔案\"\u001b[0m\u001b[0;34m)\u001b[0m\u001b[0;34m\u001b[0m\u001b[0;34m\u001b[0m\u001b[0m\n",
            "\u001b[0;31mNameError\u001b[0m: name 'os' is not defined"
          ]
        }
      ]
    },
    {
      "cell_type": "code",
      "source": [
        "#檔案編輯\n",
        "#新增檔案\n",
        "a=open(\"a.txt\",\"w\") #W=新增檔案\n",
        "a.write(\"This is a test1\")\n",
        "a.write(\"This is a test2\\n\")\n",
        "a.write(\"This is a test3\\n\")\n",
        "a.close() #關閉檔案"
      ],
      "metadata": {
        "id": "-Es5_YVo_kHP"
      },
      "execution_count": null,
      "outputs": []
    },
    {
      "cell_type": "code",
      "source": [
        "os.path.isfile(\"ab.txt\")#找檔案是否存在"
      ],
      "metadata": {
        "id": "wVBr3qplBvzm"
      },
      "execution_count": null,
      "outputs": []
    },
    {
      "cell_type": "code",
      "source": [
        "a=open(\"a.txt\",\"r\")#r=讀取\n",
        "print(a.readlines())"
      ],
      "metadata": {
        "id": "_86NYFuCDl6N"
      },
      "execution_count": null,
      "outputs": []
    },
    {
      "cell_type": "code",
      "source": [
        "if os.path.isfile(\"a.txt\"):\n",
        "  a=open(\"a.txt\",\"r\")\n",
        "  print(a.readlines())\n",
        "  a.close()\n",
        "else:\n",
        " print(\"找不到\")\n"
      ],
      "metadata": {
        "id": "KOs09BVJEKw9"
      },
      "execution_count": null,
      "outputs": []
    },
    {
      "cell_type": "code",
      "source": [
        "a=open(\"a.txt\",\"a\")#附加在檔案尾巴\n",
        "a.write(\"This is line\")\n",
        "a.close()"
      ],
      "metadata": {
        "id": "NehhiH-0IFTc"
      },
      "execution_count": null,
      "outputs": []
    },
    {
      "cell_type": "code",
      "source": [
        "a=open(\"a.txt\",\"r\") \n",
        "print(a.readlines()) \n",
        "a.close()"
      ],
      "metadata": {
        "id": "iucjj_FFI0wu"
      },
      "execution_count": null,
      "outputs": []
    },
    {
      "cell_type": "code",
      "source": [
        "a=open(\"a.txt\",\"r+\")#附加在檔案開頭\n",
        "a.write(\"This is line1\\n\")\n",
        "a.close()"
      ],
      "metadata": {
        "id": "W-bwBV18I7tc"
      },
      "execution_count": null,
      "outputs": []
    },
    {
      "cell_type": "code",
      "source": [
        "a=open(\"a.txt\",\"r\") \n",
        "print(a.readlines()) \n",
        "a.close()"
      ],
      "metadata": {
        "id": "Ew14BHAcJDN2"
      },
      "execution_count": null,
      "outputs": []
    },
    {
      "cell_type": "markdown",
      "source": [
        "Chap7 **錯誤處理**"
      ],
      "metadata": {
        "id": "KqxrW2tgZRVc"
      }
    },
    {
      "cell_type": "code",
      "source": [
        "a=10\n",
        "b=20\n",
        "if a<b:\n",
        "    print(n)"
      ],
      "metadata": {
        "colab": {
          "base_uri": "https://localhost:8080/",
          "height": 209
        },
        "id": "vfRHtlDFZUy2",
        "outputId": "6b8d21f6-6243-4144-fb5d-79d686b84a51"
      },
      "execution_count": null,
      "outputs": [
        {
          "output_type": "error",
          "ename": "NameError",
          "evalue": "ignored",
          "traceback": [
            "\u001b[0;31m---------------------------------------------------------------------------\u001b[0m",
            "\u001b[0;31mNameError\u001b[0m                                 Traceback (most recent call last)",
            "\u001b[0;32m<ipython-input-10-c19f432ee023>\u001b[0m in \u001b[0;36m<module>\u001b[0;34m()\u001b[0m\n\u001b[1;32m      2\u001b[0m \u001b[0mb\u001b[0m\u001b[0;34m=\u001b[0m\u001b[0;36m20\u001b[0m\u001b[0;34m\u001b[0m\u001b[0;34m\u001b[0m\u001b[0m\n\u001b[1;32m      3\u001b[0m \u001b[0;32mif\u001b[0m \u001b[0ma\u001b[0m\u001b[0;34m<\u001b[0m\u001b[0mb\u001b[0m\u001b[0;34m:\u001b[0m\u001b[0;34m\u001b[0m\u001b[0;34m\u001b[0m\u001b[0m\n\u001b[0;32m----> 4\u001b[0;31m     \u001b[0mprint\u001b[0m\u001b[0;34m(\u001b[0m\u001b[0mn\u001b[0m\u001b[0;34m)\u001b[0m\u001b[0;34m\u001b[0m\u001b[0;34m\u001b[0m\u001b[0m\n\u001b[0m",
            "\u001b[0;31mNameError\u001b[0m: name 'n' is not defined"
          ]
        }
      ]
    },
    {
      "cell_type": "code",
      "source": [
        "a=10\n",
        "b=20\n",
        "try:\n",
        "    if a<b:\n",
        "        print(n)\n",
        "except:\n",
        "    print(\"錯誤產生\")"
      ],
      "metadata": {
        "colab": {
          "base_uri": "https://localhost:8080/"
        },
        "id": "5caJ62raZbz9",
        "outputId": "52d913dd-ac40-4a7c-a7fc-0aadda884828"
      },
      "execution_count": null,
      "outputs": [
        {
          "output_type": "stream",
          "name": "stdout",
          "text": [
            "錯誤產生\n"
          ]
        }
      ]
    },
    {
      "cell_type": "code",
      "source": [
        "a=10\n",
        "b=20\n",
        "try:\n",
        "    if a<b:\n",
        "        print(n)\n",
        "except NameError as e:\n",
        "    print(\"錯誤產生, 錯誤原因：\",e)\n",
        "except ZeroDivisionError:\n",
        "    print(\"除以0錯誤\")"
      ],
      "metadata": {
        "id": "lAF4mbvcZhOd"
      },
      "execution_count": null,
      "outputs": []
    },
    {
      "cell_type": "code",
      "source": [
        "a=10\n",
        "b=20\n",
        "try:\n",
        "    if a>b: #讓錯誤不發生\n",
        "        print(n)\n",
        "except:\n",
        "    print(\"錯誤發生\")\n",
        "else:\n",
        "    print(\"沒有錯誤發生時會執行的部分\")"
      ],
      "metadata": {
        "id": "ZCCIAvb5ZhqG"
      },
      "execution_count": null,
      "outputs": []
    },
    {
      "cell_type": "code",
      "source": [
        "=10\n",
        "b=20\n",
        "try:\n",
        "    if a>b: #讓錯誤不發生\n",
        "        print(n)\n",
        "except:\n",
        "    print(\"錯誤發生\")\n",
        "else:\n",
        "    print(\"沒有錯誤發生時會執行的部分\")\n",
        "finally:\n",
        "    print(\"不管有沒有錯誤一定會執行的部分\")"
      ],
      "metadata": {
        "id": "Nn7dL4cZZjWN"
      },
      "execution_count": null,
      "outputs": []
    }
  ]
}