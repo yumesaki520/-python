{
  "nbformat": 4,
  "nbformat_minor": 0,
  "metadata": {
    "colab": {
      "name": "Untitled0.ipynb",
      "provenance": [],
      "collapsed_sections": []
    },
    "kernelspec": {
      "name": "python3",
      "display_name": "Python 3"
    },
    "language_info": {
      "name": "python"
    }
  },
  "cells": [
    {
      "cell_type": "code",
      "execution_count": null,
      "metadata": {
        "colab": {
          "base_uri": "https://localhost:8080/"
        },
        "id": "6PsU541DaeZi",
        "outputId": "855ba178-2cff-4281-dcca-407e2451d9e7"
      },
      "outputs": [
        {
          "output_type": "stream",
          "name": "stdout",
          "text": [
            "     March 2022\n",
            "Mo Tu We Th Fr Sa Su\n",
            "    1  2  3  4  5  6\n",
            " 7  8  9 10 11 12 13\n",
            "14 15 16 17 18 19 20\n",
            "21 22 23 24 25 26 27\n",
            "28 29 30 31\n",
            "\n"
          ]
        }
      ],
      "source": [
        "import calendar\n",
        "print(calendar.month(2022,3))\n",
        "\n",
        "\n",
        "\n"
      ]
    },
    {
      "cell_type": "code",
      "source": [
        "#註解\n",
        "a=3\n",
        "b=5\n",
        "a+b"
      ],
      "metadata": {
        "colab": {
          "base_uri": "https://localhost:8080/"
        },
        "id": "u8m23IivcVqr",
        "outputId": "81d7c344-6560-4522-ba1a-edf0a0e13c2e"
      },
      "execution_count": null,
      "outputs": [
        {
          "output_type": "execute_result",
          "data": {
            "text/plain": [
              "8"
            ]
          },
          "metadata": {},
          "execution_count": 5
        }
      ]
    },
    {
      "cell_type": "code",
      "source": [
        "import requests\n",
        "a=requests.get(\"https://www.must.edu.tw/\")\n",
        "print(a.text)\n"
      ],
      "metadata": {
        "id": "UzegXN8veNA7"
      },
      "execution_count": null,
      "outputs": []
    },
    {
      "cell_type": "markdown",
      "source": [
        "# **圖表產生**"
      ],
      "metadata": {
        "id": "V7uE-5JNDaln"
      }
    },
    {
      "cell_type": "code",
      "source": [
        "'''\n",
        "多行註解\n",
        "多行註解\n",
        "'''\n",
        "\n",
        "import matplotlib.pyplot as plt\n",
        "x=[1,2,3]\n",
        "y=[4,5,6]\n",
        "plt.bar(x,y)\n",
        "plt.show"
      ],
      "metadata": {
        "colab": {
          "base_uri": "https://localhost:8080/",
          "height": 282
        },
        "id": "XWYs_iLHhPhc",
        "outputId": "37d31a35-c929-4187-8282-6b6921459158"
      },
      "execution_count": null,
      "outputs": [
        {
          "output_type": "execute_result",
          "data": {
            "text/plain": [
              "<function matplotlib.pyplot.show>"
            ]
          },
          "metadata": {},
          "execution_count": 12
        },
        {
          "output_type": "display_data",
          "data": {
            "image/png": "[encoded data removed]",
            "text/plain": [
              "<Figure size 432x288 with 1 Axes>"
            ]
          },
          "metadata": {
            "needs_background": "light"
          }
        }
      ]
    },
    {
      "cell_type": "code",
      "source": [
        "plt.pie(x, labels=y)\n",
        "plt.show"
      ],
      "metadata": {
        "colab": {
          "base_uri": "https://localhost:8080/",
          "height": 265
        },
        "id": "3zQWfd52i4Oq",
        "outputId": "c1017e01-a5a6-41b7-9101-d103763e347b"
      },
      "execution_count": null,
      "outputs": [
        {
          "output_type": "execute_result",
          "data": {
            "text/plain": [
              "<function matplotlib.pyplot.show>"
            ]
          },
          "metadata": {},
          "execution_count": 13
        },
        {
          "output_type": "display_data",
          "data": {
            "image/png": "[encoded data removed]",
            "text/plain": [
              "<Figure size 432x288 with 1 Axes>"
            ]
          },
          "metadata": {}
        }
      ]
    },
    {
      "cell_type": "markdown",
      "source": [
        "# **PY變數交換**"
      ],
      "metadata": {
        "id": "Jg_1dNenDQ-v"
      }
    },
    {
      "cell_type": "code",
      "source": [
        "#變數交換\n",
        "x=1\n",
        "y=10\n",
        "z=x\n",
        "x=y\n",
        "y=z\n",
        "print(x)\n",
        "print(y)"
      ],
      "metadata": {
        "colab": {
          "base_uri": "https://localhost:8080/"
        },
        "id": "gs_PorzzsxUS",
        "outputId": "168a3d95-9987-439e-e328-ec490e611223"
      },
      "execution_count": null,
      "outputs": [
        {
          "output_type": "stream",
          "name": "stdout",
          "text": [
            "10\n",
            "1\n"
          ]
        }
      ]
    },
    {
      "cell_type": "code",
      "source": [
        "#變數交換 不透過第三變數\n",
        "x=1\n",
        "y=10\n",
        "x=x+y\n",
        "y=x-y\n",
        "x=x-y\n",
        "print(x,y)"
      ],
      "metadata": {
        "colab": {
          "base_uri": "https://localhost:8080/"
        },
        "id": "yezbErOEtqI4",
        "outputId": "ea1347ba-b5ba-4e5f-c9f4-4eb088266e27"
      },
      "execution_count": null,
      "outputs": [
        {
          "output_type": "stream",
          "name": "stdout",
          "text": [
            "10 1\n"
          ]
        }
      ]
    },
    {
      "cell_type": "code",
      "source": [
        "#變數交換 python版本\n",
        "x=1\n",
        "y=10\n",
        "x,y=y,x\n",
        "print(x,y)"
      ],
      "metadata": {
        "colab": {
          "base_uri": "https://localhost:8080/"
        },
        "id": "133sLDjcvItp",
        "outputId": "72d77b95-9d00-4962-b16e-b5c890f0585a"
      },
      "execution_count": null,
      "outputs": [
        {
          "output_type": "stream",
          "name": "stdout",
          "text": [
            "10 1\n"
          ]
        }
      ]
    },
    {
      "cell_type": "code",
      "source": [
        "#變數平行設定\n",
        "x,y,z=1,10,100\n",
        "print(x,y,z)"
      ],
      "metadata": {
        "colab": {
          "base_uri": "https://localhost:8080/"
        },
        "id": "Oa2VS_dcv1cg",
        "outputId": "304caa34-f3cf-4095-cef4-c7596b33a753"
      },
      "execution_count": null,
      "outputs": [
        {
          "output_type": "stream",
          "name": "stdout",
          "text": [
            "1 10 100\n"
          ]
        }
      ]
    },
    {
      "cell_type": "code",
      "source": [
        "x,y,x=3,4,5\n",
        "x+=1  #x=x+1\n",
        "x*=2  #x=x*2"
      ],
      "metadata": {
        "id": "6fYRp50tew0J"
      },
      "execution_count": null,
      "outputs": []
    },
    {
      "cell_type": "code",
      "source": [
        "import math\n",
        "r=eval(input(\"請輸入圓的半徑:\")) #eval()將字串轉化成數值運算\n",
        "print(r * r * math.pi)\n"
      ],
      "metadata": {
        "colab": {
          "base_uri": "https://localhost:8080/"
        },
        "id": "42k8MRc6iIzZ",
        "outputId": "0ac3f6fe-83a9-4add-ff38-080ed38a99fb"
      },
      "execution_count": null,
      "outputs": [
        {
          "output_type": "stream",
          "name": "stdout",
          "text": [
            "請輸入圓的半徑:10\n",
            "314.1592653589793\n"
          ]
        }
      ]
    },
    {
      "cell_type": "code",
      "source": [
        "X=254\n",
        "Y=254.0\n",
        "Z=\"write\"\n",
        "print(type(X))\n",
        "print(type(Y))\n",
        "print(type(Z))\n",
        "print(type(X==Y))"
      ],
      "metadata": {
        "colab": {
          "base_uri": "https://localhost:8080/"
        },
        "id": "IHHxkMoOqzLB",
        "outputId": "ea549473-7638-489a-96be-52ce57ffdd47"
      },
      "execution_count": null,
      "outputs": [
        {
          "output_type": "stream",
          "name": "stdout",
          "text": [
            "<class 'int'>\n",
            "<class 'float'>\n",
            "<class 'str'>\n",
            "<class 'bool'>\n"
          ]
        }
      ]
    },
    {
      "cell_type": "code",
      "source": [
        "X=10\n",
        "Y=3\n",
        "print(X/Y)\n",
        "print(X//Y)\n",
        "print(X%Y)"
      ],
      "metadata": {
        "colab": {
          "base_uri": "https://localhost:8080/"
        },
        "id": "1JVaHKQetYrq",
        "outputId": "dba4aec6-4209-499b-d7bb-5e75567151f2"
      },
      "execution_count": null,
      "outputs": [
        {
          "output_type": "stream",
          "name": "stdout",
          "text": [
            "3.3333333333333335\n",
            "3\n",
            "1\n"
          ]
        }
      ]
    },
    {
      "cell_type": "code",
      "source": [
        "X=(5*(1+2)**2-3+4/2)\n",
        "print(X)"
      ],
      "metadata": {
        "colab": {
          "base_uri": "https://localhost:8080/"
        },
        "id": "Uz0ol6Lou1UZ",
        "outputId": "b81e7467-3448-41aa-cb78-72c41342ef95"
      },
      "execution_count": null,
      "outputs": [
        {
          "output_type": "stream",
          "name": "stdout",
          "text": [
            "44.0\n"
          ]
        }
      ]
    },
    {
      "cell_type": "code",
      "source": [
        "x=\"must\"\n",
        "print(x)\n",
        "a=\"This\"+\"is\"+\"a\"+\"book\"\n",
        "print(a)"
      ],
      "metadata": {
        "colab": {
          "base_uri": "https://localhost:8080/"
        },
        "id": "O9pLIErfhFPC",
        "outputId": "ba77fb79-1763-42a3-c6be-c27bc55b951f"
      },
      "execution_count": null,
      "outputs": [
        {
          "output_type": "stream",
          "name": "stdout",
          "text": [
            "This is a book\n"
          ]
        }
      ]
    },
    {
      "cell_type": "markdown",
      "source": [
        "# **CH2流程控制**"
      ],
      "metadata": {
        "id": "wPlzmmxGDEgG"
      }
    },
    {
      "cell_type": "code",
      "source": [
        "a=3\n",
        "b=4\n",
        "if a>b:\n",
        "  print(\"a>b\") #if後面不用()但是要加:\n",
        "  #print要記的縮排\n",
        "elif a==b: #else if\n",
        "  print(\"a=b\")\n",
        "else :\n",
        "  print(\"A<B\")"
      ],
      "metadata": {
        "colab": {
          "base_uri": "https://localhost:8080/"
        },
        "id": "vLhflLoRCygz",
        "outputId": "071563ea-ce6f-4f62-e452-32c52f19ec82"
      },
      "execution_count": 3,
      "outputs": [
        {
          "output_type": "stream",
          "name": "stdout",
          "text": [
            "A<B\n"
          ]
        }
      ]
    },
    {
      "cell_type": "code",
      "source": [
        "grade=66\n",
        "print(\"成績評鑑\")\n",
        "if grade>=90:\n",
        "  print(\"優等\")\n",
        "if grade>=80:\n",
        "  print(\"甲等\")\n",
        "if grade>=70:\n",
        "  print(\"乙等\")\n",
        "if grade>=60:\n",
        "  print(\"丙等\")\n",
        "if grade<60:\n",
        "  print(\"不及格\")"
      ],
      "metadata": {
        "colab": {
          "base_uri": "https://localhost:8080/"
        },
        "id": "jswQNNO5Dmmt",
        "outputId": "daa91e1e-b216-4079-d02a-d0ec9e6f4d50"
      },
      "execution_count": 12,
      "outputs": [
        {
          "output_type": "stream",
          "name": "stdout",
          "text": [
            "成績評鑑\n",
            "丙等\n"
          ]
        }
      ]
    },
    {
      "cell_type": "code",
      "source": [
        "for i in range(11): #range(11)不能大於11,也包含11\n",
        "   print(i)"
      ],
      "metadata": {
        "colab": {
          "base_uri": "https://localhost:8080/"
        },
        "id": "CuUbBznEFDs6",
        "outputId": "4dcbf452-42be-48a2-c3c0-b0a49b669b57"
      },
      "execution_count": 13,
      "outputs": [
        {
          "output_type": "stream",
          "name": "stdout",
          "text": [
            "0\n",
            "1\n",
            "2\n",
            "3\n",
            "4\n",
            "5\n",
            "6\n",
            "7\n",
            "8\n",
            "9\n",
            "10\n"
          ]
        }
      ]
    },
    {
      "cell_type": "code",
      "source": [
        "for i in (0,10,1): #從0開始小於10每次+1\n",
        "      print(i)"
      ],
      "metadata": {
        "colab": {
          "base_uri": "https://localhost:8080/"
        },
        "id": "RceO4pjeFHxI",
        "outputId": "71ec9682-25d5-47a9-b710-10933df2fb37"
      },
      "execution_count": 14,
      "outputs": [
        {
          "output_type": "stream",
          "name": "stdout",
          "text": [
            "0\n",
            "10\n",
            "1\n"
          ]
        }
      ]
    },
    {
      "cell_type": "code",
      "source": [
        "for i in \"i am cat\": #從0開始小於10每次+1\n",
        "      print(i)\n",
        "for x in [\"Java\", \"C#\", \"Python\"]:\n",
        "    print(x)"
      ],
      "metadata": {
        "colab": {
          "base_uri": "https://localhost:8080/"
        },
        "id": "GX4bVvZMFL57",
        "outputId": "8548a3b3-4e91-48de-e84c-3cea637652f7"
      },
      "execution_count": 16,
      "outputs": [
        {
          "output_type": "stream",
          "name": "stdout",
          "text": [
            "i\n",
            " \n",
            "a\n",
            "m\n",
            " \n",
            "c\n",
            "a\n",
            "t\n",
            "Java\n",
            "C#\n",
            "Python\n"
          ]
        }
      ]
    },
    {
      "cell_type": "code",
      "source": [
        "sum=0\n",
        "for i in range(1,11,1):\n",
        "   sum+=i\n",
        "print(sum)"
      ],
      "metadata": {
        "colab": {
          "base_uri": "https://localhost:8080/"
        },
        "id": "sW8NAUE4F-6h",
        "outputId": "2e1d53ab-4881-4e41-b556-061ecff99c7e"
      },
      "execution_count": 17,
      "outputs": [
        {
          "output_type": "stream",
          "name": "stdout",
          "text": [
            "55\n"
          ]
        }
      ]
    },
    {
      "cell_type": "code",
      "source": [
        "for chicken in range(0,36): #0~35\n",
        "    rabbit=35-chicken\n",
        "    if (2*chicken+4*rabbit) == 94:\n",
        "        print(\"雞有\",chicken,\"隻 , 兔子有\",rabbit,\"隻\")\n",
        "        break\n",
        "else:\n",
        "    print(\"無解\")"
      ],
      "metadata": {
        "colab": {
          "base_uri": "https://localhost:8080/"
        },
        "id": "pxDNmZBrGC49",
        "outputId": "10737ca2-9b8e-4947-863e-398719c124cb"
      },
      "execution_count": 23,
      "outputs": [
        {
          "output_type": "stream",
          "name": "stdout",
          "text": [
            "雞有 23 隻 , 兔子有 12 隻\n"
          ]
        }
      ]
    },
    {
      "cell_type": "code",
      "source": [
        "i=1\n",
        "sum=0\n",
        "while i <11:\n",
        "    sum +=i\n",
        "    i+=1\n",
        "print(sum)"
      ],
      "metadata": {
        "colab": {
          "base_uri": "https://localhost:8080/"
        },
        "id": "2fgtWh7-GHgX",
        "outputId": "1aec83da-52dc-44de-eb8c-348d23d2de6d"
      },
      "execution_count": 22,
      "outputs": [
        {
          "output_type": "stream",
          "name": "stdout",
          "text": [
            "55\n"
          ]
        }
      ]
    }
  ]
}